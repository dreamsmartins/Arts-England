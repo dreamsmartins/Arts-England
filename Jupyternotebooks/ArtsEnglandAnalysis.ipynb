{
 "cells": [
  {
   "cell_type": "markdown",
   "id": "d9c22f1b",
   "metadata": {},
   "source": [
    "# Arts England Grant Allocation Analysis "
   ]
  },
  {
   "cell_type": "markdown",
   "id": "eecbb223",
   "metadata": {},
   "source": []
  },
  {
   "cell_type": "markdown",
   "id": "f2f28517",
   "metadata": {},
   "source": [
    "### 1. Setting up the Environment\n"
   ]
  },
  {
   "cell_type": "code",
   "execution_count": 32,
   "id": "f07b85fa",
   "metadata": {},
   "outputs": [],
   "source": [
    "import pandas as pd\n",
    "import numpy as np\n",
    "import seaborn as sns\n",
    "import matplotlib.pyplot as plt\n",
    "\n"
   ]
  },
  {
   "cell_type": "code",
   "execution_count": 33,
   "id": "ddb2fb19",
   "metadata": {},
   "outputs": [],
   "source": [
    "# Configuration for better display\n",
    "pd.set_option('display.max_columns', None)\n",
    "pd.set_option('display.max_rows', 50)\n",
    "pd.set_option('display.width', 1000)\n",
    "plt.style.use('seaborn-v0_8-whitegrid')"
   ]
  },
  {
   "cell_type": "markdown",
   "id": "8a57c959",
   "metadata": {},
   "source": [
    "### 2. Loading Data\n"
   ]
  },
  {
   "cell_type": "code",
   "execution_count": 34,
   "id": "70db3871",
   "metadata": {},
   "outputs": [
    {
     "name": "stdout",
     "output_type": "stream",
     "text": [
      "Data loaded successfully.\n"
     ]
    }
   ],
   "source": [
    "# Load the data\n",
    "df25 = pd.read_csv('/Users/segunAM/Downloads/ArtsCouncil/raw_data/pga2024-25.csv')\n",
    "df24 = pd.read_csv('/Users/segunAM/Downloads/ArtsCouncil/raw_data/pga2023-24.csv')\n",
    "df23 = pd.read_csv('/Users/segunAM/Downloads/ArtsCouncil/raw_data/pga2022-23.csv')\n",
    "df22 = pd.read_csv('/Users/segunAM/Downloads/ArtsCouncil/raw_data/pga2021-22.csv')\n",
    "df21 = pd.read_csv('/Users/segunAM/Downloads/ArtsCouncil/raw_data/pga2020-21.csv')\n",
    "\n",
    "# merge all dataframes\n",
    "#df = pd.concat([df, df, df, df, df], ignore_index=True)\n",
    "\n",
    "# Join all the dataframes into one\n",
    "df = pd.concat([df25, df24, df23, df22, df21], ignore_index=True)\n",
    "\n",
    "\n",
    "# Data loaded successfully print successful statement\n",
    "if df.empty:\n",
    "    print(\"Data loading failed.\")\n",
    "else:\n",
    "    # Check for missing values\n",
    "    # missing_values = df.isnull().sum()\n",
    "    # if missing_values.any():\n",
    "    #    print(\"Missing values found in the dataset:\")\n",
    "    #    print(missing_values[missing_values > 0])\n",
    "    #else:\n",
    "#print(\"No missing values found in the dataset.\")\n",
    "    print(\"Data loaded successfully.\")\n",
    "\n"
   ]
  },
  {
   "cell_type": "markdown",
   "id": "9111fbdc",
   "metadata": {},
   "source": [
    "### 3. Initial Inspection"
   ]
  },
  {
   "cell_type": "code",
   "execution_count": 35,
   "id": "2e525075",
   "metadata": {},
   "outputs": [
    {
     "data": {
      "application/vnd.microsoft.datawrangler.viewer.v0+json": {
       "columns": [
        {
         "name": "index",
         "rawType": "int64",
         "type": "integer"
        },
        {
         "name": "Recipient",
         "rawType": "object",
         "type": "string"
        },
        {
         "name": "Activity namE",
         "rawType": "object",
         "type": "string"
        },
        {
         "name": "Award amount",
         "rawType": "object",
         "type": "string"
        },
        {
         "name": "Award date",
         "rawType": "object",
         "type": "string"
        },
        {
         "name": "Decision Month",
         "rawType": "object",
         "type": "string"
        },
        {
         "name": "Decision quarter",
         "rawType": "object",
         "type": "string"
        },
        {
         "name": "ACE Area",
         "rawType": "object",
         "type": "string"
        },
        {
         "name": "Local authority",
         "rawType": "object",
         "type": "string"
        },
        {
         "name": "Main discipline",
         "rawType": "object",
         "type": "string"
        },
        {
         "name": "Strand",
         "rawType": "object",
         "type": "string"
        },
        {
         "name": "Time-Limited Priority",
         "rawType": "object",
         "type": "unknown"
        },
        {
         "name": "Unnamed: 11",
         "rawType": "float64",
         "type": "float"
        },
        {
         "name": "Activity name",
         "rawType": "object",
         "type": "unknown"
        }
       ],
       "conversionMethod": "pd.DataFrame",
       "ref": "a82fb08d-ded2-4fe5-863d-ec65eee3fcf4",
       "rows": [
        [
         "0",
         "Dominic Bouffard",
         "Art Show at  Gallery 46",
         "£23,336",
         "2-Apr-24",
         "April",
         "Q1",
         "London",
         "Southwark",
         "Visual arts",
         "£30,000 and below",
         null,
         null,
         null
        ],
        [
         "1",
         "Liv Wynter",
         "Outreach Development & Events for Homeless Queers",
         "£32,210",
         "2-Apr-24",
         "April",
         "Q1",
         "London",
         "Lewisham",
         "Combined arts",
         "£30,000 and below",
         null,
         null,
         null
        ],
        [
         "2",
         "Ealing Council",
         "New Gen Festival Development 2024",
         "£28,420",
         "2-Apr-24",
         "April",
         "Q1",
         "London",
         "Ealing",
         "Music",
         "£30,000 and below",
         null,
         null,
         null
        ],
        [
         "3",
         "Mark Smith",
         "SYNERGY: A UK/South Africa Disabled Dance Exchange",
         "£86,835",
         "3-Apr-24",
         "April",
         "Q1",
         "London",
         "Islington",
         "Dance",
         "Above £30,000",
         null,
         null,
         null
        ],
        [
         "4",
         "Queer East CIC",
         "Queer East Festival 2024",
         "£30,000",
         "3-Apr-24",
         "April",
         "Q1",
         "London",
         "Westminster",
         "Combined arts",
         "£30,000 and below",
         null,
         null,
         null
        ],
        [
         "5",
         "Joe Carnall",
         "How Could I Forget R&D Resubmission",
         "£18,588",
         "3-Apr-24",
         "April",
         "Q1",
         "North",
         "Sheffield",
         "Theatre",
         "£30,000 and below",
         null,
         null,
         null
        ],
        [
         "6",
         "Penella Styles",
         "Azra GLOW",
         "£28,500",
         "3-Apr-24",
         "April",
         "Q1",
         "North",
         "Sunderland",
         "Theatre",
         "£30,000 and below",
         null,
         null,
         null
        ],
        [
         "7",
         "Holly Harman",
         "Penny Fiddle Records (PFR): Empowering Womxn Musicians as Recording Artists & Mentoring Young Marginalised Artists across the UK",
         "£29,640",
         "3-Apr-24",
         "April",
         "Q1",
         "South East",
         "Hastings",
         "Music",
         "£30,000 and below",
         null,
         null,
         null
        ],
        [
         "8",
         "Grace Dickson Productions",
         "Playfight - Tour & National Engagement Programme",
         "£31,498",
         "3-Apr-24",
         "April",
         "Q1",
         "London",
         "Merton",
         "Theatre",
         "£30,000 and below",
         null,
         null,
         null
        ],
        [
         "9",
         "BULLYACHE",
         "WHO HURT YOU? Creation - 3rd Submission",
         "£34,649",
         "3-Apr-24",
         "April",
         "Q1",
         "South East",
         "Reading",
         "Dance",
         "£30,000 and below",
         null,
         null,
         null
        ]
       ],
       "shape": {
        "columns": 13,
        "rows": 10
       }
      },
      "text/html": [
       "<div>\n",
       "<style scoped>\n",
       "    .dataframe tbody tr th:only-of-type {\n",
       "        vertical-align: middle;\n",
       "    }\n",
       "\n",
       "    .dataframe tbody tr th {\n",
       "        vertical-align: top;\n",
       "    }\n",
       "\n",
       "    .dataframe thead th {\n",
       "        text-align: right;\n",
       "    }\n",
       "</style>\n",
       "<table border=\"1\" class=\"dataframe\">\n",
       "  <thead>\n",
       "    <tr style=\"text-align: right;\">\n",
       "      <th></th>\n",
       "      <th>Recipient</th>\n",
       "      <th>Activity namE</th>\n",
       "      <th>Award amount</th>\n",
       "      <th>Award date</th>\n",
       "      <th>Decision Month</th>\n",
       "      <th>Decision quarter</th>\n",
       "      <th>ACE Area</th>\n",
       "      <th>Local authority</th>\n",
       "      <th>Main discipline</th>\n",
       "      <th>Strand</th>\n",
       "      <th>Time-Limited Priority</th>\n",
       "      <th>Unnamed: 11</th>\n",
       "      <th>Activity name</th>\n",
       "    </tr>\n",
       "  </thead>\n",
       "  <tbody>\n",
       "    <tr>\n",
       "      <th>0</th>\n",
       "      <td>Dominic Bouffard</td>\n",
       "      <td>Art Show at  Gallery 46</td>\n",
       "      <td>£23,336</td>\n",
       "      <td>2-Apr-24</td>\n",
       "      <td>April</td>\n",
       "      <td>Q1</td>\n",
       "      <td>London</td>\n",
       "      <td>Southwark</td>\n",
       "      <td>Visual arts</td>\n",
       "      <td>£30,000 and below</td>\n",
       "      <td>NaN</td>\n",
       "      <td>NaN</td>\n",
       "      <td>NaN</td>\n",
       "    </tr>\n",
       "    <tr>\n",
       "      <th>1</th>\n",
       "      <td>Liv Wynter</td>\n",
       "      <td>Outreach Development &amp; Events for Homeless Queers</td>\n",
       "      <td>£32,210</td>\n",
       "      <td>2-Apr-24</td>\n",
       "      <td>April</td>\n",
       "      <td>Q1</td>\n",
       "      <td>London</td>\n",
       "      <td>Lewisham</td>\n",
       "      <td>Combined arts</td>\n",
       "      <td>£30,000 and below</td>\n",
       "      <td>NaN</td>\n",
       "      <td>NaN</td>\n",
       "      <td>NaN</td>\n",
       "    </tr>\n",
       "    <tr>\n",
       "      <th>2</th>\n",
       "      <td>Ealing Council</td>\n",
       "      <td>New Gen Festival Development 2024</td>\n",
       "      <td>£28,420</td>\n",
       "      <td>2-Apr-24</td>\n",
       "      <td>April</td>\n",
       "      <td>Q1</td>\n",
       "      <td>London</td>\n",
       "      <td>Ealing</td>\n",
       "      <td>Music</td>\n",
       "      <td>£30,000 and below</td>\n",
       "      <td>NaN</td>\n",
       "      <td>NaN</td>\n",
       "      <td>NaN</td>\n",
       "    </tr>\n",
       "    <tr>\n",
       "      <th>3</th>\n",
       "      <td>Mark Smith</td>\n",
       "      <td>SYNERGY: A UK/South Africa Disabled Dance Exch...</td>\n",
       "      <td>£86,835</td>\n",
       "      <td>3-Apr-24</td>\n",
       "      <td>April</td>\n",
       "      <td>Q1</td>\n",
       "      <td>London</td>\n",
       "      <td>Islington</td>\n",
       "      <td>Dance</td>\n",
       "      <td>Above £30,000</td>\n",
       "      <td>NaN</td>\n",
       "      <td>NaN</td>\n",
       "      <td>NaN</td>\n",
       "    </tr>\n",
       "    <tr>\n",
       "      <th>4</th>\n",
       "      <td>Queer East CIC</td>\n",
       "      <td>Queer East Festival 2024</td>\n",
       "      <td>£30,000</td>\n",
       "      <td>3-Apr-24</td>\n",
       "      <td>April</td>\n",
       "      <td>Q1</td>\n",
       "      <td>London</td>\n",
       "      <td>Westminster</td>\n",
       "      <td>Combined arts</td>\n",
       "      <td>£30,000 and below</td>\n",
       "      <td>NaN</td>\n",
       "      <td>NaN</td>\n",
       "      <td>NaN</td>\n",
       "    </tr>\n",
       "    <tr>\n",
       "      <th>5</th>\n",
       "      <td>Joe Carnall</td>\n",
       "      <td>How Could I Forget R&amp;D Resubmission</td>\n",
       "      <td>£18,588</td>\n",
       "      <td>3-Apr-24</td>\n",
       "      <td>April</td>\n",
       "      <td>Q1</td>\n",
       "      <td>North</td>\n",
       "      <td>Sheffield</td>\n",
       "      <td>Theatre</td>\n",
       "      <td>£30,000 and below</td>\n",
       "      <td>NaN</td>\n",
       "      <td>NaN</td>\n",
       "      <td>NaN</td>\n",
       "    </tr>\n",
       "    <tr>\n",
       "      <th>6</th>\n",
       "      <td>Penella Styles</td>\n",
       "      <td>Azra GLOW</td>\n",
       "      <td>£28,500</td>\n",
       "      <td>3-Apr-24</td>\n",
       "      <td>April</td>\n",
       "      <td>Q1</td>\n",
       "      <td>North</td>\n",
       "      <td>Sunderland</td>\n",
       "      <td>Theatre</td>\n",
       "      <td>£30,000 and below</td>\n",
       "      <td>NaN</td>\n",
       "      <td>NaN</td>\n",
       "      <td>NaN</td>\n",
       "    </tr>\n",
       "    <tr>\n",
       "      <th>7</th>\n",
       "      <td>Holly Harman</td>\n",
       "      <td>Penny Fiddle Records (PFR): Empowering Womxn M...</td>\n",
       "      <td>£29,640</td>\n",
       "      <td>3-Apr-24</td>\n",
       "      <td>April</td>\n",
       "      <td>Q1</td>\n",
       "      <td>South East</td>\n",
       "      <td>Hastings</td>\n",
       "      <td>Music</td>\n",
       "      <td>£30,000 and below</td>\n",
       "      <td>NaN</td>\n",
       "      <td>NaN</td>\n",
       "      <td>NaN</td>\n",
       "    </tr>\n",
       "    <tr>\n",
       "      <th>8</th>\n",
       "      <td>Grace Dickson Productions</td>\n",
       "      <td>Playfight - Tour &amp; National Engagement Programme</td>\n",
       "      <td>£31,498</td>\n",
       "      <td>3-Apr-24</td>\n",
       "      <td>April</td>\n",
       "      <td>Q1</td>\n",
       "      <td>London</td>\n",
       "      <td>Merton</td>\n",
       "      <td>Theatre</td>\n",
       "      <td>£30,000 and below</td>\n",
       "      <td>NaN</td>\n",
       "      <td>NaN</td>\n",
       "      <td>NaN</td>\n",
       "    </tr>\n",
       "    <tr>\n",
       "      <th>9</th>\n",
       "      <td>BULLYACHE</td>\n",
       "      <td>WHO HURT YOU? Creation - 3rd Submission</td>\n",
       "      <td>£34,649</td>\n",
       "      <td>3-Apr-24</td>\n",
       "      <td>April</td>\n",
       "      <td>Q1</td>\n",
       "      <td>South East</td>\n",
       "      <td>Reading</td>\n",
       "      <td>Dance</td>\n",
       "      <td>£30,000 and below</td>\n",
       "      <td>NaN</td>\n",
       "      <td>NaN</td>\n",
       "      <td>NaN</td>\n",
       "    </tr>\n",
       "  </tbody>\n",
       "</table>\n",
       "</div>"
      ],
      "text/plain": [
       "                   Recipient                                      Activity namE Award amount Award date Decision Month Decision quarter    ACE Area Local authority Main discipline             Strand Time-Limited Priority  Unnamed: 11 Activity name\n",
       "0           Dominic Bouffard                            Art Show at  Gallery 46      £23,336   2-Apr-24          April               Q1      London       Southwark     Visual arts  £30,000 and below                   NaN          NaN           NaN\n",
       "1                 Liv Wynter  Outreach Development & Events for Homeless Queers      £32,210   2-Apr-24          April               Q1      London        Lewisham   Combined arts  £30,000 and below                   NaN          NaN           NaN\n",
       "2             Ealing Council                  New Gen Festival Development 2024      £28,420   2-Apr-24          April               Q1      London          Ealing           Music  £30,000 and below                   NaN          NaN           NaN\n",
       "3                 Mark Smith  SYNERGY: A UK/South Africa Disabled Dance Exch...      £86,835   3-Apr-24          April               Q1      London       Islington           Dance      Above £30,000                   NaN          NaN           NaN\n",
       "4             Queer East CIC                           Queer East Festival 2024      £30,000   3-Apr-24          April               Q1      London     Westminster   Combined arts  £30,000 and below                   NaN          NaN           NaN\n",
       "5                Joe Carnall                How Could I Forget R&D Resubmission      £18,588   3-Apr-24          April               Q1       North       Sheffield         Theatre  £30,000 and below                   NaN          NaN           NaN\n",
       "6             Penella Styles                                          Azra GLOW      £28,500   3-Apr-24          April               Q1       North      Sunderland         Theatre  £30,000 and below                   NaN          NaN           NaN\n",
       "7               Holly Harman  Penny Fiddle Records (PFR): Empowering Womxn M...      £29,640   3-Apr-24          April               Q1  South East        Hastings           Music  £30,000 and below                   NaN          NaN           NaN\n",
       "8  Grace Dickson Productions   Playfight - Tour & National Engagement Programme      £31,498   3-Apr-24          April               Q1      London          Merton         Theatre  £30,000 and below                   NaN          NaN           NaN\n",
       "9                  BULLYACHE            WHO HURT YOU? Creation - 3rd Submission      £34,649   3-Apr-24          April               Q1  South East         Reading           Dance  £30,000 and below                   NaN          NaN           NaN"
      ]
     },
     "metadata": {},
     "output_type": "display_data"
    },
    {
     "data": {
      "text/plain": [
       "(15468, 13)"
      ]
     },
     "metadata": {},
     "output_type": "display_data"
    },
    {
     "name": "stdout",
     "output_type": "stream",
     "text": [
      "Summary statistics in table:\n"
     ]
    },
    {
     "data": {
      "application/vnd.microsoft.datawrangler.viewer.v0+json": {
       "columns": [
        {
         "name": "index",
         "rawType": "object",
         "type": "string"
        },
        {
         "name": "count",
         "rawType": "object",
         "type": "unknown"
        },
        {
         "name": "unique",
         "rawType": "object",
         "type": "unknown"
        },
        {
         "name": "top",
         "rawType": "object",
         "type": "unknown"
        },
        {
         "name": "freq",
         "rawType": "object",
         "type": "unknown"
        },
        {
         "name": "mean",
         "rawType": "object",
         "type": "unknown"
        },
        {
         "name": "std",
         "rawType": "object",
         "type": "unknown"
        },
        {
         "name": "min",
         "rawType": "object",
         "type": "unknown"
        },
        {
         "name": "25%",
         "rawType": "object",
         "type": "unknown"
        },
        {
         "name": "50%",
         "rawType": "object",
         "type": "unknown"
        },
        {
         "name": "75%",
         "rawType": "object",
         "type": "unknown"
        },
        {
         "name": "max",
         "rawType": "object",
         "type": "unknown"
        }
       ],
       "conversionMethod": "pd.DataFrame",
       "ref": "979c9932-c916-4d79-a73c-34d985160dbb",
       "rows": [
        [
         "Recipient",
         "15466",
         "9996",
         "Read Now Write Now",
         "12",
         null,
         null,
         null,
         null,
         null,
         null,
         null
        ],
        [
         "Activity namE",
         "2471",
         "2470",
         "Creative Pathways",
         "2",
         null,
         null,
         null,
         null,
         null,
         null,
         null
        ],
        [
         "Award amount",
         "15466",
         "8461",
         "£15,000",
         "943",
         null,
         null,
         null,
         null,
         null,
         null,
         null
        ],
        [
         "Award date",
         "15466",
         "777",
         "16-Dec-20",
         "111",
         null,
         null,
         null,
         null,
         null,
         null,
         null
        ],
        [
         "Decision Month",
         "15466",
         "12",
         "October",
         "1566",
         null,
         null,
         null,
         null,
         null,
         null,
         null
        ],
        [
         "Decision quarter",
         "15466",
         "4",
         "Q3",
         "4316",
         null,
         null,
         null,
         null,
         null,
         null,
         null
        ],
        [
         "ACE Area",
         "15466",
         "5",
         "London",
         "4222",
         null,
         null,
         null,
         null,
         null,
         null,
         null
        ],
        [
         "Local authority",
         "15465",
         "333",
         "Hackney",
         "454",
         null,
         null,
         null,
         null,
         null,
         null,
         null
        ],
        [
         "Main discipline",
         "15466",
         "11",
         "Theatre",
         "4865",
         null,
         null,
         null,
         null,
         null,
         null,
         null
        ],
        [
         "Strand",
         "15466",
         "19",
         "£30,000 and below",
         "6940",
         null,
         null,
         null,
         null,
         null,
         null,
         null
        ],
        [
         "Time-Limited Priority",
         "606",
         "4",
         "Supporting Grassroots Live Music",
         "236",
         null,
         null,
         null,
         null,
         null,
         null,
         null
        ],
        [
         "Unnamed: 11",
         "0.0",
         null,
         null,
         null,
         null,
         null,
         null,
         null,
         null,
         null,
         null
        ],
        [
         "Activity name",
         "12995",
         "12854",
         "Organisational Development",
         "11",
         null,
         null,
         null,
         null,
         null,
         null,
         null
        ]
       ],
       "shape": {
        "columns": 11,
        "rows": 13
       }
      },
      "text/html": [
       "<div>\n",
       "<style scoped>\n",
       "    .dataframe tbody tr th:only-of-type {\n",
       "        vertical-align: middle;\n",
       "    }\n",
       "\n",
       "    .dataframe tbody tr th {\n",
       "        vertical-align: top;\n",
       "    }\n",
       "\n",
       "    .dataframe thead th {\n",
       "        text-align: right;\n",
       "    }\n",
       "</style>\n",
       "<table border=\"1\" class=\"dataframe\">\n",
       "  <thead>\n",
       "    <tr style=\"text-align: right;\">\n",
       "      <th></th>\n",
       "      <th>count</th>\n",
       "      <th>unique</th>\n",
       "      <th>top</th>\n",
       "      <th>freq</th>\n",
       "      <th>mean</th>\n",
       "      <th>std</th>\n",
       "      <th>min</th>\n",
       "      <th>25%</th>\n",
       "      <th>50%</th>\n",
       "      <th>75%</th>\n",
       "      <th>max</th>\n",
       "    </tr>\n",
       "  </thead>\n",
       "  <tbody>\n",
       "    <tr>\n",
       "      <th>Recipient</th>\n",
       "      <td>15466</td>\n",
       "      <td>9996</td>\n",
       "      <td>Read Now Write Now</td>\n",
       "      <td>12</td>\n",
       "      <td>NaN</td>\n",
       "      <td>NaN</td>\n",
       "      <td>NaN</td>\n",
       "      <td>NaN</td>\n",
       "      <td>NaN</td>\n",
       "      <td>NaN</td>\n",
       "      <td>NaN</td>\n",
       "    </tr>\n",
       "    <tr>\n",
       "      <th>Activity namE</th>\n",
       "      <td>2471</td>\n",
       "      <td>2470</td>\n",
       "      <td>Creative Pathways</td>\n",
       "      <td>2</td>\n",
       "      <td>NaN</td>\n",
       "      <td>NaN</td>\n",
       "      <td>NaN</td>\n",
       "      <td>NaN</td>\n",
       "      <td>NaN</td>\n",
       "      <td>NaN</td>\n",
       "      <td>NaN</td>\n",
       "    </tr>\n",
       "    <tr>\n",
       "      <th>Award amount</th>\n",
       "      <td>15466</td>\n",
       "      <td>8461</td>\n",
       "      <td>£15,000</td>\n",
       "      <td>943</td>\n",
       "      <td>NaN</td>\n",
       "      <td>NaN</td>\n",
       "      <td>NaN</td>\n",
       "      <td>NaN</td>\n",
       "      <td>NaN</td>\n",
       "      <td>NaN</td>\n",
       "      <td>NaN</td>\n",
       "    </tr>\n",
       "    <tr>\n",
       "      <th>Award date</th>\n",
       "      <td>15466</td>\n",
       "      <td>777</td>\n",
       "      <td>16-Dec-20</td>\n",
       "      <td>111</td>\n",
       "      <td>NaN</td>\n",
       "      <td>NaN</td>\n",
       "      <td>NaN</td>\n",
       "      <td>NaN</td>\n",
       "      <td>NaN</td>\n",
       "      <td>NaN</td>\n",
       "      <td>NaN</td>\n",
       "    </tr>\n",
       "    <tr>\n",
       "      <th>Decision Month</th>\n",
       "      <td>15466</td>\n",
       "      <td>12</td>\n",
       "      <td>October</td>\n",
       "      <td>1566</td>\n",
       "      <td>NaN</td>\n",
       "      <td>NaN</td>\n",
       "      <td>NaN</td>\n",
       "      <td>NaN</td>\n",
       "      <td>NaN</td>\n",
       "      <td>NaN</td>\n",
       "      <td>NaN</td>\n",
       "    </tr>\n",
       "    <tr>\n",
       "      <th>Decision quarter</th>\n",
       "      <td>15466</td>\n",
       "      <td>4</td>\n",
       "      <td>Q3</td>\n",
       "      <td>4316</td>\n",
       "      <td>NaN</td>\n",
       "      <td>NaN</td>\n",
       "      <td>NaN</td>\n",
       "      <td>NaN</td>\n",
       "      <td>NaN</td>\n",
       "      <td>NaN</td>\n",
       "      <td>NaN</td>\n",
       "    </tr>\n",
       "    <tr>\n",
       "      <th>ACE Area</th>\n",
       "      <td>15466</td>\n",
       "      <td>5</td>\n",
       "      <td>London</td>\n",
       "      <td>4222</td>\n",
       "      <td>NaN</td>\n",
       "      <td>NaN</td>\n",
       "      <td>NaN</td>\n",
       "      <td>NaN</td>\n",
       "      <td>NaN</td>\n",
       "      <td>NaN</td>\n",
       "      <td>NaN</td>\n",
       "    </tr>\n",
       "    <tr>\n",
       "      <th>Local authority</th>\n",
       "      <td>15465</td>\n",
       "      <td>333</td>\n",
       "      <td>Hackney</td>\n",
       "      <td>454</td>\n",
       "      <td>NaN</td>\n",
       "      <td>NaN</td>\n",
       "      <td>NaN</td>\n",
       "      <td>NaN</td>\n",
       "      <td>NaN</td>\n",
       "      <td>NaN</td>\n",
       "      <td>NaN</td>\n",
       "    </tr>\n",
       "    <tr>\n",
       "      <th>Main discipline</th>\n",
       "      <td>15466</td>\n",
       "      <td>11</td>\n",
       "      <td>Theatre</td>\n",
       "      <td>4865</td>\n",
       "      <td>NaN</td>\n",
       "      <td>NaN</td>\n",
       "      <td>NaN</td>\n",
       "      <td>NaN</td>\n",
       "      <td>NaN</td>\n",
       "      <td>NaN</td>\n",
       "      <td>NaN</td>\n",
       "    </tr>\n",
       "    <tr>\n",
       "      <th>Strand</th>\n",
       "      <td>15466</td>\n",
       "      <td>19</td>\n",
       "      <td>£30,000 and below</td>\n",
       "      <td>6940</td>\n",
       "      <td>NaN</td>\n",
       "      <td>NaN</td>\n",
       "      <td>NaN</td>\n",
       "      <td>NaN</td>\n",
       "      <td>NaN</td>\n",
       "      <td>NaN</td>\n",
       "      <td>NaN</td>\n",
       "    </tr>\n",
       "    <tr>\n",
       "      <th>Time-Limited Priority</th>\n",
       "      <td>606</td>\n",
       "      <td>4</td>\n",
       "      <td>Supporting Grassroots Live Music</td>\n",
       "      <td>236</td>\n",
       "      <td>NaN</td>\n",
       "      <td>NaN</td>\n",
       "      <td>NaN</td>\n",
       "      <td>NaN</td>\n",
       "      <td>NaN</td>\n",
       "      <td>NaN</td>\n",
       "      <td>NaN</td>\n",
       "    </tr>\n",
       "    <tr>\n",
       "      <th>Unnamed: 11</th>\n",
       "      <td>0.0</td>\n",
       "      <td>NaN</td>\n",
       "      <td>NaN</td>\n",
       "      <td>NaN</td>\n",
       "      <td>NaN</td>\n",
       "      <td>NaN</td>\n",
       "      <td>NaN</td>\n",
       "      <td>NaN</td>\n",
       "      <td>NaN</td>\n",
       "      <td>NaN</td>\n",
       "      <td>NaN</td>\n",
       "    </tr>\n",
       "    <tr>\n",
       "      <th>Activity name</th>\n",
       "      <td>12995</td>\n",
       "      <td>12854</td>\n",
       "      <td>Organisational Development</td>\n",
       "      <td>11</td>\n",
       "      <td>NaN</td>\n",
       "      <td>NaN</td>\n",
       "      <td>NaN</td>\n",
       "      <td>NaN</td>\n",
       "      <td>NaN</td>\n",
       "      <td>NaN</td>\n",
       "      <td>NaN</td>\n",
       "    </tr>\n",
       "  </tbody>\n",
       "</table>\n",
       "</div>"
      ],
      "text/plain": [
       "                       count unique                               top  freq mean  std  min  25%  50%  75%  max\n",
       "Recipient              15466   9996                Read Now Write Now    12  NaN  NaN  NaN  NaN  NaN  NaN  NaN\n",
       "Activity namE           2471   2470                 Creative Pathways     2  NaN  NaN  NaN  NaN  NaN  NaN  NaN\n",
       "Award amount           15466   8461                           £15,000   943  NaN  NaN  NaN  NaN  NaN  NaN  NaN\n",
       "Award date             15466    777                         16-Dec-20   111  NaN  NaN  NaN  NaN  NaN  NaN  NaN\n",
       "Decision Month         15466     12                           October  1566  NaN  NaN  NaN  NaN  NaN  NaN  NaN\n",
       "Decision quarter       15466      4                                Q3  4316  NaN  NaN  NaN  NaN  NaN  NaN  NaN\n",
       "ACE Area               15466      5                            London  4222  NaN  NaN  NaN  NaN  NaN  NaN  NaN\n",
       "Local authority        15465    333                           Hackney   454  NaN  NaN  NaN  NaN  NaN  NaN  NaN\n",
       "Main discipline        15466     11                           Theatre  4865  NaN  NaN  NaN  NaN  NaN  NaN  NaN\n",
       "Strand                 15466     19                 £30,000 and below  6940  NaN  NaN  NaN  NaN  NaN  NaN  NaN\n",
       "Time-Limited Priority    606      4  Supporting Grassroots Live Music   236  NaN  NaN  NaN  NaN  NaN  NaN  NaN\n",
       "Unnamed: 11              0.0    NaN                               NaN   NaN  NaN  NaN  NaN  NaN  NaN  NaN  NaN\n",
       "Activity name          12995  12854        Organisational Development    11  NaN  NaN  NaN  NaN  NaN  NaN  NaN"
      ]
     },
     "metadata": {},
     "output_type": "display_data"
    }
   ],
   "source": [
    "# Show the first few rows of the dataframe\n",
    "#print(\"Data preview:\", df.head(10))\n",
    "display(df.head(10))\n",
    "\n",
    "# Check the shape of the dataframe\n",
    "#print(\"Dataframe shape:\", df.shape)\n",
    "display(df.shape)\n",
    "\n",
    "# check the summary statistics of the dataframe\n",
    "print(\"Summary statistics in table:\",)\n",
    "display(df.describe(include='all').T)\n"
   ]
  },
  {
   "cell_type": "code",
   "execution_count": 36,
   "id": "45a763f7",
   "metadata": {},
   "outputs": [
    {
     "name": "stdout",
     "output_type": "stream",
     "text": [
      "Data types:\n"
     ]
    },
    {
     "data": {
      "text/plain": [
       "Recipient                 object\n",
       "Activity namE             object\n",
       "Award amount              object\n",
       "Award date                object\n",
       "Decision Month            object\n",
       "Decision quarter          object\n",
       "ACE Area                  object\n",
       "Local authority           object\n",
       "Main discipline           object\n",
       "Strand                    object\n",
       "Time-Limited Priority     object\n",
       "Unnamed: 11              float64\n",
       "Activity name             object\n",
       "dtype: object"
      ]
     },
     "metadata": {},
     "output_type": "display_data"
    },
    {
     "name": "stdout",
     "output_type": "stream",
     "text": [
      "Data preview: last 10 rows\n"
     ]
    },
    {
     "data": {
      "application/vnd.microsoft.datawrangler.viewer.v0+json": {
       "columns": [
        {
         "name": "index",
         "rawType": "int64",
         "type": "integer"
        },
        {
         "name": "Recipient",
         "rawType": "object",
         "type": "string"
        },
        {
         "name": "Activity namE",
         "rawType": "object",
         "type": "unknown"
        },
        {
         "name": "Award amount",
         "rawType": "object",
         "type": "string"
        },
        {
         "name": "Award date",
         "rawType": "object",
         "type": "string"
        },
        {
         "name": "Decision Month",
         "rawType": "object",
         "type": "string"
        },
        {
         "name": "Decision quarter",
         "rawType": "object",
         "type": "string"
        },
        {
         "name": "ACE Area",
         "rawType": "object",
         "type": "string"
        },
        {
         "name": "Local authority",
         "rawType": "object",
         "type": "string"
        },
        {
         "name": "Main discipline",
         "rawType": "object",
         "type": "string"
        },
        {
         "name": "Strand",
         "rawType": "object",
         "type": "string"
        },
        {
         "name": "Time-Limited Priority",
         "rawType": "object",
         "type": "unknown"
        },
        {
         "name": "Unnamed: 11",
         "rawType": "float64",
         "type": "float"
        },
        {
         "name": "Activity name",
         "rawType": "object",
         "type": "string"
        }
       ],
       "conversionMethod": "pd.DataFrame",
       "ref": "0cfe7ca3-92c1-4fee-8b00-49ab97d33ef2",
       "rows": [
        [
         "15458",
         "Helen Clare Farrow",
         null,
         "£15,000",
         "25-Mar-21",
         "March",
         "Q4",
         "London",
         "Richmond upon Thames",
         "Visual arts",
         "£15,000 and below",
         null,
         null,
         "Reinventing Texture: Japan"
        ],
        [
         "15459",
         "Union Chapel Project",
         null,
         "£14,656",
         "25-Mar-21",
         "March",
         "Q4",
         "London",
         "Islington",
         "Music",
         "£15,000 and below",
         null,
         null,
         "Union Chapel Project"
        ],
        [
         "15460",
         "Holly Argent",
         null,
         "£30,769",
         "25-Mar-21",
         "March",
         "Q4",
         "North",
         "Gateshead",
         "Visual arts",
         "Above £15,000",
         null,
         null,
         "Women Artists of the North East Library 2021-22"
        ],
        [
         "15461",
         "Theatre Temoin Limited",
         null,
         "£30,000",
         "25-Mar-21",
         "March",
         "Q4",
         "South East",
         "Colchester",
         "Theatre",
         "Above £15,000",
         null,
         null,
         "Local Voices"
        ],
        [
         "15462",
         "Creative Arts East",
         null,
         "£49,648",
         "25-Mar-21",
         "March",
         "Q4",
         "South East",
         "South Norfolk",
         "Combined arts",
         "Above £15,000",
         null,
         null,
         "Plugged In"
        ],
        [
         "15463",
         "FarGo Village",
         null,
         "£49,990",
         "26-Mar-21",
         "March",
         "Q4",
         "Midlands",
         "Coventry",
         "Combined arts",
         "Above £15,000",
         null,
         null,
         "FarGo Village Outdoor Arts creative programming"
        ],
        [
         "15464",
         "Rugby League World Cup 2021",
         null,
         "£949,581",
         "26-Mar-21",
         "March",
         "Q4",
         "North",
         "Trafford",
         "Combined arts",
         "National activity above £100,000",
         null,
         null,
         "RLWC2021 Culture Festival"
        ],
        [
         "15465",
         "Jaivant Patel Company CIC",
         null,
         "£49,995",
         "26-Mar-21",
         "March",
         "Q4",
         "Midlands",
         "Wolverhampton",
         "Dance",
         "Above £15,000",
         null,
         null,
         "Next Steps Resubmission"
        ],
        [
         "15466",
         "Humanhood",
         null,
         "£250,000",
         "26-Mar-21",
         "March",
         "Q4",
         "Midlands",
         "Birmingham",
         "Dance",
         "National activity above £100,000",
         null,
         null,
         "Two years of artistic development, YinYang and ∞"
        ],
        [
         "15467",
         "Ort Gallery",
         null,
         "£70,073",
         "26-Mar-21",
         "March",
         "Q4",
         "Midlands",
         "Birmingham",
         "Visual arts",
         "Above £15,000",
         null,
         null,
         "Warmth"
        ]
       ],
       "shape": {
        "columns": 13,
        "rows": 10
       }
      },
      "text/html": [
       "<div>\n",
       "<style scoped>\n",
       "    .dataframe tbody tr th:only-of-type {\n",
       "        vertical-align: middle;\n",
       "    }\n",
       "\n",
       "    .dataframe tbody tr th {\n",
       "        vertical-align: top;\n",
       "    }\n",
       "\n",
       "    .dataframe thead th {\n",
       "        text-align: right;\n",
       "    }\n",
       "</style>\n",
       "<table border=\"1\" class=\"dataframe\">\n",
       "  <thead>\n",
       "    <tr style=\"text-align: right;\">\n",
       "      <th></th>\n",
       "      <th>Recipient</th>\n",
       "      <th>Activity namE</th>\n",
       "      <th>Award amount</th>\n",
       "      <th>Award date</th>\n",
       "      <th>Decision Month</th>\n",
       "      <th>Decision quarter</th>\n",
       "      <th>ACE Area</th>\n",
       "      <th>Local authority</th>\n",
       "      <th>Main discipline</th>\n",
       "      <th>Strand</th>\n",
       "      <th>Time-Limited Priority</th>\n",
       "      <th>Unnamed: 11</th>\n",
       "      <th>Activity name</th>\n",
       "    </tr>\n",
       "  </thead>\n",
       "  <tbody>\n",
       "    <tr>\n",
       "      <th>15458</th>\n",
       "      <td>Helen Clare Farrow</td>\n",
       "      <td>NaN</td>\n",
       "      <td>£15,000</td>\n",
       "      <td>25-Mar-21</td>\n",
       "      <td>March</td>\n",
       "      <td>Q4</td>\n",
       "      <td>London</td>\n",
       "      <td>Richmond upon Thames</td>\n",
       "      <td>Visual arts</td>\n",
       "      <td>£15,000 and below</td>\n",
       "      <td>NaN</td>\n",
       "      <td>NaN</td>\n",
       "      <td>Reinventing Texture: Japan</td>\n",
       "    </tr>\n",
       "    <tr>\n",
       "      <th>15459</th>\n",
       "      <td>Union Chapel Project</td>\n",
       "      <td>NaN</td>\n",
       "      <td>£14,656</td>\n",
       "      <td>25-Mar-21</td>\n",
       "      <td>March</td>\n",
       "      <td>Q4</td>\n",
       "      <td>London</td>\n",
       "      <td>Islington</td>\n",
       "      <td>Music</td>\n",
       "      <td>£15,000 and below</td>\n",
       "      <td>NaN</td>\n",
       "      <td>NaN</td>\n",
       "      <td>Union Chapel Project</td>\n",
       "    </tr>\n",
       "    <tr>\n",
       "      <th>15460</th>\n",
       "      <td>Holly Argent</td>\n",
       "      <td>NaN</td>\n",
       "      <td>£30,769</td>\n",
       "      <td>25-Mar-21</td>\n",
       "      <td>March</td>\n",
       "      <td>Q4</td>\n",
       "      <td>North</td>\n",
       "      <td>Gateshead</td>\n",
       "      <td>Visual arts</td>\n",
       "      <td>Above £15,000</td>\n",
       "      <td>NaN</td>\n",
       "      <td>NaN</td>\n",
       "      <td>Women Artists of the North East Library 2021-22</td>\n",
       "    </tr>\n",
       "    <tr>\n",
       "      <th>15461</th>\n",
       "      <td>Theatre Temoin Limited</td>\n",
       "      <td>NaN</td>\n",
       "      <td>£30,000</td>\n",
       "      <td>25-Mar-21</td>\n",
       "      <td>March</td>\n",
       "      <td>Q4</td>\n",
       "      <td>South East</td>\n",
       "      <td>Colchester</td>\n",
       "      <td>Theatre</td>\n",
       "      <td>Above £15,000</td>\n",
       "      <td>NaN</td>\n",
       "      <td>NaN</td>\n",
       "      <td>Local Voices</td>\n",
       "    </tr>\n",
       "    <tr>\n",
       "      <th>15462</th>\n",
       "      <td>Creative Arts East</td>\n",
       "      <td>NaN</td>\n",
       "      <td>£49,648</td>\n",
       "      <td>25-Mar-21</td>\n",
       "      <td>March</td>\n",
       "      <td>Q4</td>\n",
       "      <td>South East</td>\n",
       "      <td>South Norfolk</td>\n",
       "      <td>Combined arts</td>\n",
       "      <td>Above £15,000</td>\n",
       "      <td>NaN</td>\n",
       "      <td>NaN</td>\n",
       "      <td>Plugged In</td>\n",
       "    </tr>\n",
       "    <tr>\n",
       "      <th>15463</th>\n",
       "      <td>FarGo Village</td>\n",
       "      <td>NaN</td>\n",
       "      <td>£49,990</td>\n",
       "      <td>26-Mar-21</td>\n",
       "      <td>March</td>\n",
       "      <td>Q4</td>\n",
       "      <td>Midlands</td>\n",
       "      <td>Coventry</td>\n",
       "      <td>Combined arts</td>\n",
       "      <td>Above £15,000</td>\n",
       "      <td>NaN</td>\n",
       "      <td>NaN</td>\n",
       "      <td>FarGo Village Outdoor Arts creative programming</td>\n",
       "    </tr>\n",
       "    <tr>\n",
       "      <th>15464</th>\n",
       "      <td>Rugby League World Cup 2021</td>\n",
       "      <td>NaN</td>\n",
       "      <td>£949,581</td>\n",
       "      <td>26-Mar-21</td>\n",
       "      <td>March</td>\n",
       "      <td>Q4</td>\n",
       "      <td>North</td>\n",
       "      <td>Trafford</td>\n",
       "      <td>Combined arts</td>\n",
       "      <td>National activity above £100,000</td>\n",
       "      <td>NaN</td>\n",
       "      <td>NaN</td>\n",
       "      <td>RLWC2021 Culture Festival</td>\n",
       "    </tr>\n",
       "    <tr>\n",
       "      <th>15465</th>\n",
       "      <td>Jaivant Patel Company CIC</td>\n",
       "      <td>NaN</td>\n",
       "      <td>£49,995</td>\n",
       "      <td>26-Mar-21</td>\n",
       "      <td>March</td>\n",
       "      <td>Q4</td>\n",
       "      <td>Midlands</td>\n",
       "      <td>Wolverhampton</td>\n",
       "      <td>Dance</td>\n",
       "      <td>Above £15,000</td>\n",
       "      <td>NaN</td>\n",
       "      <td>NaN</td>\n",
       "      <td>Next Steps Resubmission</td>\n",
       "    </tr>\n",
       "    <tr>\n",
       "      <th>15466</th>\n",
       "      <td>Humanhood</td>\n",
       "      <td>NaN</td>\n",
       "      <td>£250,000</td>\n",
       "      <td>26-Mar-21</td>\n",
       "      <td>March</td>\n",
       "      <td>Q4</td>\n",
       "      <td>Midlands</td>\n",
       "      <td>Birmingham</td>\n",
       "      <td>Dance</td>\n",
       "      <td>National activity above £100,000</td>\n",
       "      <td>NaN</td>\n",
       "      <td>NaN</td>\n",
       "      <td>Two years of artistic development, YinYang and ∞</td>\n",
       "    </tr>\n",
       "    <tr>\n",
       "      <th>15467</th>\n",
       "      <td>Ort Gallery</td>\n",
       "      <td>NaN</td>\n",
       "      <td>£70,073</td>\n",
       "      <td>26-Mar-21</td>\n",
       "      <td>March</td>\n",
       "      <td>Q4</td>\n",
       "      <td>Midlands</td>\n",
       "      <td>Birmingham</td>\n",
       "      <td>Visual arts</td>\n",
       "      <td>Above £15,000</td>\n",
       "      <td>NaN</td>\n",
       "      <td>NaN</td>\n",
       "      <td>Warmth</td>\n",
       "    </tr>\n",
       "  </tbody>\n",
       "</table>\n",
       "</div>"
      ],
      "text/plain": [
       "                         Recipient Activity namE Award amount Award date Decision Month Decision quarter    ACE Area       Local authority Main discipline                            Strand Time-Limited Priority  Unnamed: 11                                     Activity name\n",
       "15458           Helen Clare Farrow           NaN      £15,000  25-Mar-21          March               Q4      London  Richmond upon Thames     Visual arts                 £15,000 and below                   NaN          NaN                        Reinventing Texture: Japan\n",
       "15459         Union Chapel Project           NaN      £14,656  25-Mar-21          March               Q4      London             Islington           Music                 £15,000 and below                   NaN          NaN                              Union Chapel Project\n",
       "15460                 Holly Argent           NaN      £30,769  25-Mar-21          March               Q4       North             Gateshead     Visual arts                     Above £15,000                   NaN          NaN   Women Artists of the North East Library 2021-22\n",
       "15461       Theatre Temoin Limited           NaN      £30,000  25-Mar-21          March               Q4  South East            Colchester         Theatre                     Above £15,000                   NaN          NaN                                      Local Voices\n",
       "15462           Creative Arts East           NaN      £49,648  25-Mar-21          March               Q4  South East         South Norfolk   Combined arts                     Above £15,000                   NaN          NaN                                        Plugged In\n",
       "15463                FarGo Village           NaN      £49,990  26-Mar-21          March               Q4    Midlands              Coventry   Combined arts                     Above £15,000                   NaN          NaN   FarGo Village Outdoor Arts creative programming\n",
       "15464  Rugby League World Cup 2021           NaN     £949,581  26-Mar-21          March               Q4       North              Trafford   Combined arts  National activity above £100,000                   NaN          NaN                         RLWC2021 Culture Festival\n",
       "15465    Jaivant Patel Company CIC           NaN      £49,995  26-Mar-21          March               Q4    Midlands         Wolverhampton           Dance                     Above £15,000                   NaN          NaN                           Next Steps Resubmission\n",
       "15466                    Humanhood           NaN     £250,000  26-Mar-21          March               Q4    Midlands            Birmingham           Dance  National activity above £100,000                   NaN          NaN  Two years of artistic development, YinYang and ∞\n",
       "15467                  Ort Gallery           NaN      £70,073  26-Mar-21          March               Q4    Midlands            Birmingham     Visual arts                     Above £15,000                   NaN          NaN                                            Warmth"
      ]
     },
     "metadata": {},
     "output_type": "display_data"
    },
    {
     "name": "stdout",
     "output_type": "stream",
     "text": [
      "\n",
      "Basic stats\n",
      "<class 'pandas.core.frame.DataFrame'>\n",
      "RangeIndex: 15468 entries, 0 to 15467\n",
      "Data columns (total 13 columns):\n",
      " #   Column                 Non-Null Count  Dtype  \n",
      "---  ------                 --------------  -----  \n",
      " 0   Recipient              15466 non-null  object \n",
      " 1   Activity namE          2471 non-null   object \n",
      " 2   Award amount           15466 non-null  object \n",
      " 3   Award date             15466 non-null  object \n",
      " 4   Decision Month         15466 non-null  object \n",
      " 5   Decision quarter       15466 non-null  object \n",
      " 6   ACE Area               15466 non-null  object \n",
      " 7   Local authority        15465 non-null  object \n",
      " 8   Main discipline        15466 non-null  object \n",
      " 9   Strand                 15466 non-null  object \n",
      " 10  Time-Limited Priority  606 non-null    object \n",
      " 11  Unnamed: 11            0 non-null      float64\n",
      " 12  Activity name          12995 non-null  object \n",
      "dtypes: float64(1), object(12)\n",
      "memory usage: 1.5+ MB\n"
     ]
    }
   ],
   "source": [
    "# Check the data types of the columns\n",
    "print(\"Data types:\")\n",
    "display(df.dtypes)\n",
    "\n",
    "\n",
    "# Show the last few rows of the dataframe\n",
    "print(\"Data preview: last 10 rows\") \n",
    "display(df.tail(10))\n",
    "\n",
    "# Show basic statistics of the dataframe\n",
    "print(\"\\nBasic stats\") \n",
    "df.info()"
   ]
  },
  {
   "cell_type": "markdown",
   "id": "095cc847",
   "metadata": {},
   "source": [
    "### 4. Identifying Common Data Issues"
   ]
  },
  {
   "cell_type": "markdown",
   "id": "7d998a8e",
   "metadata": {},
   "source": [
    "### Missing Values Analysis"
   ]
  },
  {
   "cell_type": "code",
   "execution_count": 37,
   "id": "afd05d10",
   "metadata": {},
   "outputs": [
    {
     "data": {
      "application/vnd.microsoft.datawrangler.viewer.v0+json": {
       "columns": [
        {
         "name": "index",
         "rawType": "object",
         "type": "string"
        },
        {
         "name": "Missing Values",
         "rawType": "int64",
         "type": "integer"
        },
        {
         "name": "Missing Percentage",
         "rawType": "float64",
         "type": "float"
        }
       ],
       "conversionMethod": "pd.DataFrame",
       "ref": "b97c7fc9-5546-487e-afb3-284504bc55ed",
       "rows": [
        [
         "Unnamed: 11",
         "15468",
         "100.0"
        ],
        [
         "Time-Limited Priority",
         "14862",
         "96.08"
        ],
        [
         "Activity namE",
         "12997",
         "84.03"
        ],
        [
         "Activity name",
         "2473",
         "15.99"
        ],
        [
         "Local authority",
         "3",
         "0.02"
        ],
        [
         "Decision Month",
         "2",
         "0.01"
        ],
        [
         "Award date",
         "2",
         "0.01"
        ],
        [
         "Award amount",
         "2",
         "0.01"
        ],
        [
         "Recipient",
         "2",
         "0.01"
        ],
        [
         "Main discipline",
         "2",
         "0.01"
        ],
        [
         "ACE Area",
         "2",
         "0.01"
        ],
        [
         "Decision quarter",
         "2",
         "0.01"
        ],
        [
         "Strand",
         "2",
         "0.01"
        ]
       ],
       "shape": {
        "columns": 2,
        "rows": 13
       }
      },
      "text/html": [
       "<div>\n",
       "<style scoped>\n",
       "    .dataframe tbody tr th:only-of-type {\n",
       "        vertical-align: middle;\n",
       "    }\n",
       "\n",
       "    .dataframe tbody tr th {\n",
       "        vertical-align: top;\n",
       "    }\n",
       "\n",
       "    .dataframe thead th {\n",
       "        text-align: right;\n",
       "    }\n",
       "</style>\n",
       "<table border=\"1\" class=\"dataframe\">\n",
       "  <thead>\n",
       "    <tr style=\"text-align: right;\">\n",
       "      <th></th>\n",
       "      <th>Missing Values</th>\n",
       "      <th>Missing Percentage</th>\n",
       "    </tr>\n",
       "  </thead>\n",
       "  <tbody>\n",
       "    <tr>\n",
       "      <th>Unnamed: 11</th>\n",
       "      <td>15468</td>\n",
       "      <td>100.00</td>\n",
       "    </tr>\n",
       "    <tr>\n",
       "      <th>Time-Limited Priority</th>\n",
       "      <td>14862</td>\n",
       "      <td>96.08</td>\n",
       "    </tr>\n",
       "    <tr>\n",
       "      <th>Activity namE</th>\n",
       "      <td>12997</td>\n",
       "      <td>84.03</td>\n",
       "    </tr>\n",
       "    <tr>\n",
       "      <th>Activity name</th>\n",
       "      <td>2473</td>\n",
       "      <td>15.99</td>\n",
       "    </tr>\n",
       "    <tr>\n",
       "      <th>Local authority</th>\n",
       "      <td>3</td>\n",
       "      <td>0.02</td>\n",
       "    </tr>\n",
       "    <tr>\n",
       "      <th>Decision Month</th>\n",
       "      <td>2</td>\n",
       "      <td>0.01</td>\n",
       "    </tr>\n",
       "    <tr>\n",
       "      <th>Award date</th>\n",
       "      <td>2</td>\n",
       "      <td>0.01</td>\n",
       "    </tr>\n",
       "    <tr>\n",
       "      <th>Award amount</th>\n",
       "      <td>2</td>\n",
       "      <td>0.01</td>\n",
       "    </tr>\n",
       "    <tr>\n",
       "      <th>Recipient</th>\n",
       "      <td>2</td>\n",
       "      <td>0.01</td>\n",
       "    </tr>\n",
       "    <tr>\n",
       "      <th>Main discipline</th>\n",
       "      <td>2</td>\n",
       "      <td>0.01</td>\n",
       "    </tr>\n",
       "    <tr>\n",
       "      <th>ACE Area</th>\n",
       "      <td>2</td>\n",
       "      <td>0.01</td>\n",
       "    </tr>\n",
       "    <tr>\n",
       "      <th>Decision quarter</th>\n",
       "      <td>2</td>\n",
       "      <td>0.01</td>\n",
       "    </tr>\n",
       "    <tr>\n",
       "      <th>Strand</th>\n",
       "      <td>2</td>\n",
       "      <td>0.01</td>\n",
       "    </tr>\n",
       "  </tbody>\n",
       "</table>\n",
       "</div>"
      ],
      "text/plain": [
       "                       Missing Values  Missing Percentage\n",
       "Unnamed: 11                     15468              100.00\n",
       "Time-Limited Priority           14862               96.08\n",
       "Activity namE                   12997               84.03\n",
       "Activity name                    2473               15.99\n",
       "Local authority                     3                0.02\n",
       "Decision Month                      2                0.01\n",
       "Award date                          2                0.01\n",
       "Award amount                        2                0.01\n",
       "Recipient                           2                0.01\n",
       "Main discipline                     2                0.01\n",
       "ACE Area                            2                0.01\n",
       "Decision quarter                    2                0.01\n",
       "Strand                              2                0.01"
      ]
     },
     "metadata": {},
     "output_type": "display_data"
    },
    {
     "data": {
      "image/png": "[encoded data removed]",
      "text/plain": [
       "<Figure size 1200x600 with 1 Axes>"
      ]
     },
     "metadata": {},
     "output_type": "display_data"
    }
   ],
   "source": [
    "\n",
    "# Calculate missing values\n",
    "missing_values = df.isnull().sum()\n",
    "missing_percentage = (missing_values / len(df)) * 100\n",
    "\n",
    "# Create a DataFrame to display missing values information\n",
    "missing_info = pd.DataFrame({\n",
    "    'Missing Values': missing_values,\n",
    "    'Missing Percentage': missing_percentage.round(2)\n",
    "})\n",
    "\n",
    "# Sort by missing percentage\n",
    "missing_info = missing_info[missing_info['Missing Values'] > 0].sort_values('Missing Percentage', ascending=False)\n",
    "display(missing_info)\n",
    "\n",
    "# Visualize missing values\n",
    "if not missing_info.empty:\n",
    "    plt.figure(figsize=(12, 6))\n",
    "    sns.heatmap(df.isnull(), cbar=False, yticklabels=False, cmap='viridis')\n",
    "    plt.title('Missing Values Heatmap')\n",
    "    plt.tight_layout()\n",
    "    plt.show()\n",
    "\n",
    "# Check for missing values\n",
    "#print(\"Missing values:\", df.isnull().sum())\n",
    "# Check for duplicate rows\n",
    "#print(\"Duplicate rows:\", df.duplicated().sum())\n",
    "# Check the number of unique values in each column\n",
    "#print(\"Unique values:\", df.nunique())\n",
    "\n"
   ]
  },
  {
   "cell_type": "markdown",
   "id": "105aa45e",
   "metadata": {},
   "source": [
    "### Duplicate Records"
   ]
  },
  {
   "cell_type": "code",
   "execution_count": 38,
   "id": "45e5135f",
   "metadata": {},
   "outputs": [
    {
     "name": "stdout",
     "output_type": "stream",
     "text": [
      "Number of duplicate rows: 1\n"
     ]
    },
    {
     "data": {
      "application/vnd.microsoft.datawrangler.viewer.v0+json": {
       "columns": [
        {
         "name": "index",
         "rawType": "int64",
         "type": "integer"
        },
        {
         "name": "Recipient",
         "rawType": "object",
         "type": "unknown"
        },
        {
         "name": "Activity namE",
         "rawType": "object",
         "type": "unknown"
        },
        {
         "name": "Award amount",
         "rawType": "object",
         "type": "unknown"
        },
        {
         "name": "Award date",
         "rawType": "object",
         "type": "unknown"
        },
        {
         "name": "Decision Month",
         "rawType": "object",
         "type": "unknown"
        },
        {
         "name": "Decision quarter",
         "rawType": "object",
         "type": "unknown"
        },
        {
         "name": "ACE Area",
         "rawType": "object",
         "type": "unknown"
        },
        {
         "name": "Local authority",
         "rawType": "object",
         "type": "unknown"
        },
        {
         "name": "Main discipline",
         "rawType": "object",
         "type": "unknown"
        },
        {
         "name": "Strand",
         "rawType": "object",
         "type": "unknown"
        },
        {
         "name": "Time-Limited Priority",
         "rawType": "object",
         "type": "unknown"
        },
        {
         "name": "Unnamed: 11",
         "rawType": "float64",
         "type": "float"
        },
        {
         "name": "Activity name",
         "rawType": "object",
         "type": "unknown"
        }
       ],
       "conversionMethod": "pd.DataFrame",
       "ref": "a4a9e12a-fbae-423c-af23-6171f62831ca",
       "rows": [
        [
         "12528",
         null,
         null,
         null,
         null,
         null,
         null,
         null,
         null,
         null,
         null,
         null,
         null,
         null
        ],
        [
         "12529",
         null,
         null,
         null,
         null,
         null,
         null,
         null,
         null,
         null,
         null,
         null,
         null,
         null
        ]
       ],
       "shape": {
        "columns": 13,
        "rows": 2
       }
      },
      "text/html": [
       "<div>\n",
       "<style scoped>\n",
       "    .dataframe tbody tr th:only-of-type {\n",
       "        vertical-align: middle;\n",
       "    }\n",
       "\n",
       "    .dataframe tbody tr th {\n",
       "        vertical-align: top;\n",
       "    }\n",
       "\n",
       "    .dataframe thead th {\n",
       "        text-align: right;\n",
       "    }\n",
       "</style>\n",
       "<table border=\"1\" class=\"dataframe\">\n",
       "  <thead>\n",
       "    <tr style=\"text-align: right;\">\n",
       "      <th></th>\n",
       "      <th>Recipient</th>\n",
       "      <th>Activity namE</th>\n",
       "      <th>Award amount</th>\n",
       "      <th>Award date</th>\n",
       "      <th>Decision Month</th>\n",
       "      <th>Decision quarter</th>\n",
       "      <th>ACE Area</th>\n",
       "      <th>Local authority</th>\n",
       "      <th>Main discipline</th>\n",
       "      <th>Strand</th>\n",
       "      <th>Time-Limited Priority</th>\n",
       "      <th>Unnamed: 11</th>\n",
       "      <th>Activity name</th>\n",
       "    </tr>\n",
       "  </thead>\n",
       "  <tbody>\n",
       "    <tr>\n",
       "      <th>12528</th>\n",
       "      <td>NaN</td>\n",
       "      <td>NaN</td>\n",
       "      <td>NaN</td>\n",
       "      <td>NaN</td>\n",
       "      <td>NaN</td>\n",
       "      <td>NaN</td>\n",
       "      <td>NaN</td>\n",
       "      <td>NaN</td>\n",
       "      <td>NaN</td>\n",
       "      <td>NaN</td>\n",
       "      <td>NaN</td>\n",
       "      <td>NaN</td>\n",
       "      <td>NaN</td>\n",
       "    </tr>\n",
       "    <tr>\n",
       "      <th>12529</th>\n",
       "      <td>NaN</td>\n",
       "      <td>NaN</td>\n",
       "      <td>NaN</td>\n",
       "      <td>NaN</td>\n",
       "      <td>NaN</td>\n",
       "      <td>NaN</td>\n",
       "      <td>NaN</td>\n",
       "      <td>NaN</td>\n",
       "      <td>NaN</td>\n",
       "      <td>NaN</td>\n",
       "      <td>NaN</td>\n",
       "      <td>NaN</td>\n",
       "      <td>NaN</td>\n",
       "    </tr>\n",
       "  </tbody>\n",
       "</table>\n",
       "</div>"
      ],
      "text/plain": [
       "      Recipient Activity namE Award amount Award date Decision Month Decision quarter ACE Area Local authority Main discipline Strand Time-Limited Priority  Unnamed: 11 Activity name\n",
       "12528       NaN           NaN          NaN        NaN            NaN              NaN      NaN             NaN             NaN    NaN                   NaN          NaN           NaN\n",
       "12529       NaN           NaN          NaN        NaN            NaN              NaN      NaN             NaN             NaN    NaN                   NaN          NaN           NaN"
      ]
     },
     "metadata": {},
     "output_type": "display_data"
    }
   ],
   "source": [
    "# Check for duplicates\n",
    "duplicates = df.duplicated().sum()\n",
    "print(f\"Number of duplicate rows: {duplicates}\")\n",
    "\n",
    "if duplicates > 0:\n",
    "    # Show examples of duplicates\n",
    "    display(df[df.duplicated(keep=False)].sort_values(by=df.columns[0]).head())\n",
    "    \n",
    "# Show all columns in the dataframe\n",
    "#pd.set_option('display.max_columns', None)\n",
    "\n",
    "# Display the first few rows of the dataframe\n",
    "#print(\"Data preview:\", df.head(1))"
   ]
  },
  {
   "cell_type": "markdown",
   "id": "3948b68d",
   "metadata": {},
   "source": [
    "### Data Type Issues"
   ]
  },
  {
   "cell_type": "code",
   "execution_count": 39,
   "id": "01992ae2",
   "metadata": {},
   "outputs": [
    {
     "name": "stdout",
     "output_type": "stream",
     "text": [
      "Data types:\n"
     ]
    },
    {
     "data": {
      "text/plain": [
       "recipient                 object\n",
       "activity name             object\n",
       "award amount              object\n",
       "award date                object\n",
       "decision month            object\n",
       "decision quarter          object\n",
       "ace area                  object\n",
       "local authority           object\n",
       "main discipline           object\n",
       "strand                    object\n",
       "time-limited priority     object\n",
       "unnamed: 11              float64\n",
       "activity name             object\n",
       "dtype: object"
      ]
     },
     "metadata": {},
     "output_type": "display_data"
    },
    {
     "name": "stdout",
     "output_type": "stream",
     "text": [
      "Error: 'award amount' column not found in the DataFrame after standardizing column names.\n",
      "Potential numeric columns stored as objects: []\n"
     ]
    }
   ],
   "source": [
    "# Standardize column names to lowercase and strip spaces\n",
    "df.columns = df.columns.str.lower().str.strip()\n",
    "\n",
    "# Check data types\n",
    "print(\"Data types:\")\n",
    "display(df.dtypes)\n",
    "\n",
    "# Ensure 'award amount' exists after standardizing column names\n",
    "if 'Award amount' in df.columns:\n",
    "    # First check if the column has any non-null values\n",
    "    if not df['Award amount'].isnull().all():\n",
    "        # Remove £ and convert to numeric\n",
    "        df['Award amount'] = df['Award amount'].str.replace('£', '', regex=False).str.replace(',', '', regex=False).astype(float)\n",
    "    else:\n",
    "        print(\"Warning: 'award amount' column exists but contains only null values.\")\n",
    "else:\n",
    "    print(\"Error: 'award amount' column not found in the DataFrame after standardizing column names.\")\n",
    "\n",
    "# Identify numeric columns incorrectly stored as objects\n",
    "potential_numeric = []\n",
    "# Store the result of select_dtypes in a variable first\n",
    "object_columns = df.select_dtypes(include=['object']).columns.tolist()\n",
    "\n",
    "for col in object_columns:\n",
    "    # Check if most values in the column can be converted to numeric\n",
    "    # Only process if there are any non-null values\n",
    "    non_null_values = df[col].dropna()\n",
    "    if len(non_null_values) > 0:  # Safely check if there are any non-null values\n",
    "        numeric_count = pd.to_numeric(non_null_values, errors='coerce').notnull().sum()\n",
    "        if numeric_count > 0.5 * len(non_null_values) and numeric_count > 0:\n",
    "            potential_numeric.append(col)\n",
    "\n",
    "print(f\"Potential numeric columns stored as objects: {potential_numeric}\")"
   ]
  },
  {
   "cell_type": "markdown",
   "id": "024164ea",
   "metadata": {},
   "source": [
    "### Outlier Detection"
   ]
  },
  {
   "cell_type": "code",
   "execution_count": 40,
   "id": "27114ea3",
   "metadata": {},
   "outputs": [
    {
     "name": "stdout",
     "output_type": "stream",
     "text": [
      "No numeric columns with valid data to plot.\n"
     ]
    }
   ],
   "source": [
    "# Function to detect outliers in numeric columns\n",
    "def detect_outliers(df, numeric_cols=None):\n",
    "    if numeric_cols is None:\n",
    "        numeric_cols = df.select_dtypes(include=['number']).columns\n",
    "    \n",
    "    # Filter out numeric columns with all NaN values\n",
    "    numeric_cols = [col for col in numeric_cols if df[col].notna().any()]\n",
    "    \n",
    "    if not numeric_cols:\n",
    "        print(\"No numeric columns with valid data to plot.\")\n",
    "        return\n",
    "    \n",
    "    plt.figure(figsize=(15, len(numeric_cols) * 4))\n",
    "    \n",
    "    for i, col in enumerate(numeric_cols):\n",
    "        plt.subplot(len(numeric_cols), 2, 2*i+1)\n",
    "        sns.boxplot(x=df[col])\n",
    "        plt.title(f'Boxplot of {col}')\n",
    "        \n",
    "        plt.subplot(len(numeric_cols), 2, 2*i+2)\n",
    "        sns.histplot(df[col], kde=True)\n",
    "        plt.title(f'Distribution of {col}')\n",
    "    \n",
    "    plt.tight_layout()\n",
    "    plt.show()\n",
    "\n",
    "# Detect outliers in numeric columns (limit to 5 columns for clarity)\n",
    "numeric_cols = df.select_dtypes(include=['number']).columns[:5]\n",
    "detect_outliers(df, numeric_cols)"
   ]
  },
  {
   "cell_type": "markdown",
   "id": "de595aae",
   "metadata": {},
   "source": [
    "### Inconsistent Text Values\n"
   ]
  },
  {
   "cell_type": "code",
   "execution_count": 41,
   "id": "d2cbf48e",
   "metadata": {},
   "outputs": [
    {
     "name": "stdout",
     "output_type": "stream",
     "text": [
      "\n",
      "Column: recipient\n",
      "Total non-null values: 15466\n",
      "Lowercase values: 234 (1.5%)\n",
      "Uppercase values: 404 (2.6%)\n",
      "Title case values: 12203 (78.9%)\n",
      "Sample values:\n"
     ]
    },
    {
     "data": {
      "text/plain": [
       "recipient\n",
       "Read Now Write Now            12\n",
       "-                             12\n",
       "Sohaya Visions                12\n",
       "New Diorama                   11\n",
       "Musa M'Boob                   10\n",
       "Far From The Norm              9\n",
       "James Wilton Dance Limited     9\n",
       "Spiltmilk Dance                9\n",
       "Autin Dance Theatre            9\n",
       "18 Hours Ltd                   9\n",
       "Name: count, dtype: int64"
      ]
     },
     "metadata": {},
     "output_type": "display_data"
    },
    {
     "name": "stdout",
     "output_type": "stream",
     "text": [
      "\n",
      "Column: award amount\n",
      "Total non-null values: 15466\n",
      "Lowercase values: 0 (0.0%)\n",
      "Uppercase values: 0 (0.0%)\n",
      "Title case values: 0 (0.0%)\n",
      "Sample values:\n"
     ]
    },
    {
     "data": {
      "text/plain": [
       "award amount\n",
       "£15,000    943\n",
       "£30,000    622\n",
       "£14,500     89\n",
       "£14,950     87\n",
       "£20,000     85\n",
       "£29,500     83\n",
       "£25,000     78\n",
       "£10,000     75\n",
       "£14,995     71\n",
       "£14,900     67\n",
       "Name: count, dtype: int64"
      ]
     },
     "metadata": {},
     "output_type": "display_data"
    },
    {
     "name": "stdout",
     "output_type": "stream",
     "text": [
      "\n",
      "Column: award date\n",
      "Total non-null values: 15466\n",
      "Lowercase values: 0 (0.0%)\n",
      "Uppercase values: 0 (0.0%)\n",
      "Title case values: 15466 (100.0%)\n",
      "Sample values:\n"
     ]
    },
    {
     "data": {
      "text/plain": [
       "award date\n",
       "16-Dec-20    111\n",
       "15-Dec-21    103\n",
       "21-Oct-20    102\n",
       "14-Jul-21    100\n",
       "16-Jun-21     98\n",
       "21-Apr-21     98\n",
       "30-Jun-21     91\n",
       "7-Jul-21      85\n",
       "3-Mar-21      84\n",
       "9-Sep-20      83\n",
       "Name: count, dtype: int64"
      ]
     },
     "metadata": {},
     "output_type": "display_data"
    },
    {
     "name": "stdout",
     "output_type": "stream",
     "text": [
      "\n",
      "Column: decision month\n",
      "Total non-null values: 15466\n",
      "Lowercase values: 0 (0.0%)\n",
      "Uppercase values: 0 (0.0%)\n",
      "Title case values: 15466 (100.0%)\n",
      "Sample values:\n"
     ]
    },
    {
     "data": {
      "text/plain": [
       "decision month\n",
       "October      1566\n",
       "December     1413\n",
       "August       1356\n",
       "November     1337\n",
       "January      1319\n",
       "September    1297\n",
       "March        1292\n",
       "February     1288\n",
       "April        1226\n",
       "July         1167\n",
       "Name: count, dtype: int64"
      ]
     },
     "metadata": {},
     "output_type": "display_data"
    },
    {
     "name": "stdout",
     "output_type": "stream",
     "text": [
      "\n",
      "Column: decision quarter\n",
      "Total non-null values: 15466\n",
      "Lowercase values: 0 (0.0%)\n",
      "Uppercase values: 15466 (100.0%)\n",
      "Title case values: 15466 (100.0%)\n",
      "Sample values:\n"
     ]
    },
    {
     "data": {
      "text/plain": [
       "decision quarter\n",
       "Q3    4316\n",
       "Q4    3899\n",
       "Q2    3820\n",
       "Q1    3431\n",
       "Name: count, dtype: int64"
      ]
     },
     "metadata": {},
     "output_type": "display_data"
    },
    {
     "name": "stdout",
     "output_type": "stream",
     "text": [
      "\n",
      "Column: ace area\n",
      "Total non-null values: 15466\n",
      "Lowercase values: 0 (0.0%)\n",
      "Uppercase values: 0 (0.0%)\n",
      "Title case values: 15466 (100.0%)\n",
      "Sample values:\n"
     ]
    },
    {
     "data": {
      "text/plain": [
       "ace area\n",
       "London        4222\n",
       "North         3721\n",
       "South East    3362\n",
       "Midlands      2194\n",
       "South West    1967\n",
       "Name: count, dtype: int64"
      ]
     },
     "metadata": {},
     "output_type": "display_data"
    },
    {
     "name": "stdout",
     "output_type": "stream",
     "text": [
      "\n",
      "Column: local authority\n",
      "Total non-null values: 15465\n",
      "Lowercase values: 0 (0.0%)\n",
      "Uppercase values: 0 (0.0%)\n",
      "Title case values: 13108 (84.8%)\n",
      "Sample values:\n"
     ]
    },
    {
     "data": {
      "text/plain": [
       "local authority\n",
       "Hackney              454\n",
       "Brighton and Hove    443\n",
       "Birmingham           424\n",
       "Manchester           409\n",
       "Bristol, City of     393\n",
       "Leeds                322\n",
       "Lambeth              304\n",
       "Southwark            297\n",
       "Lewisham             296\n",
       "Islington            281\n",
       "Name: count, dtype: int64"
      ]
     },
     "metadata": {},
     "output_type": "display_data"
    },
    {
     "name": "stdout",
     "output_type": "stream",
     "text": [
      "\n",
      "Column: main discipline\n",
      "Total non-null values: 15466\n",
      "Lowercase values: 0 (0.0%)\n",
      "Uppercase values: 0 (0.0%)\n",
      "Title case values: 10278 (66.5%)\n",
      "Sample values:\n"
     ]
    },
    {
     "data": {
      "text/plain": [
       "main discipline\n",
       "Theatre                    4865\n",
       "Combined arts              2718\n",
       "Music                      2606\n",
       "Visual arts                2322\n",
       "Dance                      1415\n",
       "Literature                 1076\n",
       "Museums                     189\n",
       "Not discipline specific     148\n",
       "Libraries                    99\n",
       "Digital Arts                 26\n",
       "Name: count, dtype: int64"
      ]
     },
     "metadata": {},
     "output_type": "display_data"
    },
    {
     "name": "stdout",
     "output_type": "stream",
     "text": [
      "\n",
      "Column: strand\n",
      "Total non-null values: 15466\n",
      "Lowercase values: 11777 (76.1%)\n",
      "Uppercase values: 0 (0.0%)\n",
      "Title case values: 3057 (19.8%)\n",
      "Sample values:\n"
     ]
    },
    {
     "data": {
      "text/plain": [
       "strand\n",
       "£30,000 and below                            6940\n",
       "£15,000 and below                            4837\n",
       "Above £30,000                                1199\n",
       "Over £15,000                                  705\n",
       "Below £30,000                                 571\n",
       "Above £15,000                                 347\n",
       "Above £30,000 - Over £30k Touring project     281\n",
       "Grassroots Music                              152\n",
       "National Activity Under £100k                 131\n",
       "National activity £100,000 and below           68\n",
       "Name: count, dtype: int64"
      ]
     },
     "metadata": {},
     "output_type": "display_data"
    },
    {
     "name": "stdout",
     "output_type": "stream",
     "text": [
      "\n",
      "Column: time-limited priority\n",
      "Total non-null values: 606\n",
      "Lowercase values: 0 (0.0%)\n",
      "Uppercase values: 0 (0.0%)\n",
      "Title case values: 606 (100.0%)\n",
      "Sample values:\n"
     ]
    },
    {
     "data": {
      "text/plain": [
       "time-limited priority\n",
       "Supporting Grassroots Live Music    236\n",
       "Supporting Grassroots Music         200\n",
       "Unlocking Collections               114\n",
       "Universal Library Offers             56\n",
       "Name: count, dtype: int64"
      ]
     },
     "metadata": {},
     "output_type": "display_data"
    }
   ],
   "source": [
    "# Function to detect inconsistent text values\n",
    "def check_text_inconsistencies(df, sample_size=10):\n",
    "    text_cols = df.select_dtypes(include=['object']).columns\n",
    "    \n",
    "    for col in text_cols:\n",
    "        # Check for mixed case\n",
    "        values = df[col].dropna().astype(str)\n",
    "        if len(values) > 0:\n",
    "            lower_values = sum(values.str.islower())\n",
    "            upper_values = sum(values.str.isupper())\n",
    "            title_values = sum(values.str.istitle())\n",
    "            \n",
    "            print(f\"\\nColumn: {col}\")\n",
    "            print(f\"Total non-null values: {len(values)}\")\n",
    "            print(f\"Lowercase values: {lower_values} ({lower_values/len(values)*100:.1f}%)\")\n",
    "            print(f\"Uppercase values: {upper_values} ({upper_values/len(values)*100:.1f}%)\")\n",
    "            print(f\"Title case values: {title_values} ({title_values/len(values)*100:.1f}%)\")\n",
    "            \n",
    "            # Show value counts\n",
    "            value_counts = df[col].value_counts().head(sample_size)\n",
    "            if len(value_counts) > 1:\n",
    "                print(\"Sample values:\")\n",
    "                display(value_counts)\n",
    "\n",
    "check_text_inconsistencies(df)"
   ]
  },
  {
   "cell_type": "markdown",
   "id": "b78666c1",
   "metadata": {},
   "source": [
    "## 4. Cleaning and Transforming Data\n"
   ]
  },
  {
   "cell_type": "markdown",
   "id": "1d50d67b",
   "metadata": {},
   "source": [
    "### Handling Missing Values\n"
   ]
  },
  {
   "cell_type": "code",
   "execution_count": 46,
   "id": "c1bbf881",
   "metadata": {},
   "outputs": [
    {
     "ename": "ValueError",
     "evalue": "The truth value of a Series is ambiguous. Use a.empty, a.bool(), a.item(), a.any() or a.all().",
     "output_type": "error",
     "traceback": [
      "\u001b[31m---------------------------------------------------------------------------\u001b[39m",
      "\u001b[31mValueError\u001b[39m                                Traceback (most recent call last)",
      "\u001b[32m/var/folders/c9/7_72dlr944l61btxxt5tkfd40000gp/T/ipykernel_2498/3113936043.py\u001b[39m in \u001b[36m?\u001b[39m\u001b[34m()\u001b[39m\n\u001b[32m     23\u001b[39m \n\u001b[32m     24\u001b[39m     \u001b[38;5;28;01mreturn\u001b[39;00m cleaned_df\n\u001b[32m     25\u001b[39m \n\u001b[32m     26\u001b[39m \u001b[38;5;66;03m# Apply missing value handling\u001b[39;00m\n\u001b[32m---> \u001b[39m\u001b[32m27\u001b[39m cleaned_dfs = handle_missing_values(df)\n",
      "\u001b[32m/var/folders/c9/7_72dlr944l61btxxt5tkfd40000gp/T/ipykernel_2498/3113936043.py\u001b[39m in \u001b[36m?\u001b[39m\u001b[34m(df)\u001b[39m\n\u001b[32m     12\u001b[39m         total_count = len(df)               \u001b[38;5;66;03m# No need to convert to float\u001b[39;00m\n\u001b[32m     13\u001b[39m         missing_pct = null_count / total_count  \u001b[38;5;66;03m# This is already a scalar\u001b[39;00m\n\u001b[32m     14\u001b[39m \n\u001b[32m     15\u001b[39m         \u001b[38;5;66;03m# Perform the comparison directly\u001b[39;00m\n\u001b[32m---> \u001b[39m\u001b[32m16\u001b[39m         \u001b[38;5;28;01mif\u001b[39;00m missing_pct > \u001b[32m0.8\u001b[39m:\n\u001b[32m     17\u001b[39m             print(f\"Dropping column {col} with {missing_pct*\u001b[32m100\u001b[39m:.1f}% missing values\")\n\u001b[32m     18\u001b[39m             cols_to_drop.append(col)\n\u001b[32m     19\u001b[39m \n",
      "\u001b[32m/Library/Frameworks/Python.framework/Versions/3.13/lib/python3.13/site-packages/pandas/core/generic.py\u001b[39m in \u001b[36m?\u001b[39m\u001b[34m(self)\u001b[39m\n\u001b[32m   1575\u001b[39m     @final\n\u001b[32m   1576\u001b[39m     \u001b[38;5;28;01mdef\u001b[39;00m __nonzero__(self) -> NoReturn:\n\u001b[32m-> \u001b[39m\u001b[32m1577\u001b[39m         raise ValueError(\n\u001b[32m   1578\u001b[39m             f\"The truth value of a {type(self).__name__} is ambiguous. \"\n\u001b[32m   1579\u001b[39m             \u001b[33m\"Use a.empty, a.bool(), a.item(), a.any() or a.all().\"\u001b[39m\n\u001b[32m   1580\u001b[39m         )\n",
      "\u001b[31mValueError\u001b[39m: The truth value of a Series is ambiguous. Use a.empty, a.bool(), a.item(), a.any() or a.all()."
     ]
    }
   ],
   "source": [
    "# Function to handle missing values - more robust version\n",
    "def handle_missing_values(df):\n",
    "    # Create a copy to avoid modifying the original DataFrame\n",
    "    cleaned_df = df.copy()\n",
    "    \n",
    "    # Get columns to drop (more than 90% missing)\n",
    "    cols_to_drop = []\n",
    "    \n",
    "    for col in df.columns:\n",
    "        # Force scalar values at each step\n",
    "        null_count = df[col].isnull().sum()  # No need to convert to float\n",
    "        total_count = len(df)               # No need to convert to float\n",
    "        missing_pct = null_count / total_count  # This is already a scalar\n",
    "        \n",
    "        # Perform the comparison directly\n",
    "        if missing_pct > 0.8:\n",
    "            print(f\"Dropping column {col} with {missing_pct*100:.1f}% missing values\")\n",
    "            cols_to_drop.append(col)\n",
    "    \n",
    "    # Drop columns in one go\n",
    "    if cols_to_drop:\n",
    "        cleaned_df = cleaned_df.drop(columns=cols_to_drop)\n",
    "    \n",
    "    return cleaned_df\n",
    "\n",
    "# Apply missing value handling\n",
    "cleaned_dfs = handle_missing_values(df)"
   ]
  },
  {
   "cell_type": "code",
   "execution_count": 47,
   "id": "050da6bc",
   "metadata": {},
   "outputs": [
    {
     "ename": "TypeError",
     "evalue": "cannot convert the series to <class 'float'>",
     "output_type": "error",
     "traceback": [
      "\u001b[31m---------------------------------------------------------------------------\u001b[39m",
      "\u001b[31mTypeError\u001b[39m                                 Traceback (most recent call last)",
      "\u001b[36mCell\u001b[39m\u001b[36m \u001b[39m\u001b[32mIn[47]\u001b[39m\u001b[32m, line 31\u001b[39m\n\u001b[32m     28\u001b[39m     \u001b[38;5;28;01mreturn\u001b[39;00m cleaned_df\n\u001b[32m     30\u001b[39m \u001b[38;5;66;03m# Apply missing value handling\u001b[39;00m\n\u001b[32m---> \u001b[39m\u001b[32m31\u001b[39m cleaned_df = \u001b[43mhandle_missing_values\u001b[49m\u001b[43m(\u001b[49m\u001b[43mdf\u001b[49m\u001b[43m)\u001b[49m\n",
      "\u001b[36mCell\u001b[39m\u001b[36m \u001b[39m\u001b[32mIn[47]\u001b[39m\u001b[32m, line 11\u001b[39m, in \u001b[36mhandle_missing_values\u001b[39m\u001b[34m(df)\u001b[39m\n\u001b[32m      7\u001b[39m cols_to_drop = []\n\u001b[32m      9\u001b[39m \u001b[38;5;28;01mfor\u001b[39;00m col \u001b[38;5;129;01min\u001b[39;00m df.columns:\n\u001b[32m     10\u001b[39m     \u001b[38;5;66;03m# Force scalar values at each step\u001b[39;00m\n\u001b[32m---> \u001b[39m\u001b[32m11\u001b[39m     null_count = \u001b[38;5;28;43mfloat\u001b[39;49m\u001b[43m(\u001b[49m\u001b[43mdf\u001b[49m\u001b[43m[\u001b[49m\u001b[43mcol\u001b[49m\u001b[43m]\u001b[49m\u001b[43m.\u001b[49m\u001b[43misnull\u001b[49m\u001b[43m(\u001b[49m\u001b[43m)\u001b[49m\u001b[43m.\u001b[49m\u001b[43msum\u001b[49m\u001b[43m(\u001b[49m\u001b[43m)\u001b[49m\u001b[43m)\u001b[49m  \u001b[38;5;66;03m# Convert to float explicitly\u001b[39;00m\n\u001b[32m     12\u001b[39m     total_count = \u001b[38;5;28mfloat\u001b[39m(\u001b[38;5;28mlen\u001b[39m(df))                \u001b[38;5;66;03m# Convert to float explicitly\u001b[39;00m\n\u001b[32m     13\u001b[39m     missing_pct = null_count / total_count      \u001b[38;5;66;03m# This should be a scalar now\u001b[39;00m\n",
      "\u001b[36mFile \u001b[39m\u001b[32m/Library/Frameworks/Python.framework/Versions/3.13/lib/python3.13/site-packages/pandas/core/series.py:248\u001b[39m, in \u001b[36m_coerce_method.<locals>.wrapper\u001b[39m\u001b[34m(self)\u001b[39m\n\u001b[32m    240\u001b[39m     warnings.warn(\n\u001b[32m    241\u001b[39m         \u001b[33mf\u001b[39m\u001b[33m\"\u001b[39m\u001b[33mCalling \u001b[39m\u001b[38;5;132;01m{\u001b[39;00mconverter.\u001b[34m__name__\u001b[39m\u001b[38;5;132;01m}\u001b[39;00m\u001b[33m on a single element Series is \u001b[39m\u001b[33m\"\u001b[39m\n\u001b[32m    242\u001b[39m         \u001b[33m\"\u001b[39m\u001b[33mdeprecated and will raise a TypeError in the future. \u001b[39m\u001b[33m\"\u001b[39m\n\u001b[32m   (...)\u001b[39m\u001b[32m    245\u001b[39m         stacklevel=find_stack_level(),\n\u001b[32m    246\u001b[39m     )\n\u001b[32m    247\u001b[39m     \u001b[38;5;28;01mreturn\u001b[39;00m converter(\u001b[38;5;28mself\u001b[39m.iloc[\u001b[32m0\u001b[39m])\n\u001b[32m--> \u001b[39m\u001b[32m248\u001b[39m \u001b[38;5;28;01mraise\u001b[39;00m \u001b[38;5;167;01mTypeError\u001b[39;00m(\u001b[33mf\u001b[39m\u001b[33m\"\u001b[39m\u001b[33mcannot convert the series to \u001b[39m\u001b[38;5;132;01m{\u001b[39;00mconverter\u001b[38;5;132;01m}\u001b[39;00m\u001b[33m\"\u001b[39m)\n",
      "\u001b[31mTypeError\u001b[39m: cannot convert the series to <class 'float'>"
     ]
    }
   ],
   "source": [
    "# Function to handle missing values - more robust version\n",
    "def handle_missing_values(df):\n",
    "    # Create a copy to avoid modifying the original DataFrame\n",
    "    cleaned_df = df.copy()\n",
    "    \n",
    "    # Get columns to drop (more than 90% missing)\n",
    "    cols_to_drop = []\n",
    "    \n",
    "    for col in df.columns:\n",
    "        # Force scalar values at each step\n",
    "        null_count = float(df[col].isnull().sum())  # Convert to float explicitly\n",
    "        total_count = float(len(df))                # Convert to float explicitly\n",
    "        missing_pct = null_count / total_count      # This should be a scalar now\n",
    "        \n",
    "        # Double-check it's a scalar\n",
    "        if hasattr(missing_pct, 'item'):\n",
    "            missing_pct = float(missing_pct.item())\n",
    "            \n",
    "        # Now perform the comparison\n",
    "        if missing_pct > 0.9:\n",
    "            print(f\"Dropping column {col} with {missing_pct*100:.1f}% missing values\")\n",
    "            cols_to_drop.append(col)\n",
    "    \n",
    "    # Drop columns in one go\n",
    "    if cols_to_drop:\n",
    "        cleaned_df = cleaned_df.drop(columns=cols_to_drop)\n",
    "    \n",
    "    return cleaned_df\n",
    "\n",
    "# Apply missing value handling\n",
    "cleaned_df = handle_missing_values(df)"
   ]
  },
  {
   "cell_type": "markdown",
   "id": "f1175585",
   "metadata": {},
   "source": [
    "### Removing Duplicates\n"
   ]
  },
  {
   "cell_type": "code",
   "execution_count": 48,
   "id": "179cfd92",
   "metadata": {},
   "outputs": [
    {
     "name": "stdout",
     "output_type": "stream",
     "text": [
      "Removed 1 duplicate rows\n"
     ]
    }
   ],
   "source": [
    "# Remove duplicate rows\n",
    "original_rows = len(df.copy())\n",
    "cleaned_df = cleaned_df.drop_duplicates()\n",
    "removed_rows = original_rows - len(cleaned_df)\n",
    "print(f\"Removed {removed_rows} duplicate rows\")"
   ]
  },
  {
   "cell_type": "markdown",
   "id": "5f3f6aa8",
   "metadata": {},
   "source": [
    "### Fixing Data Types\n"
   ]
  },
  {
   "cell_type": "code",
   "execution_count": 49,
   "id": "af63a092",
   "metadata": {},
   "outputs": [
    {
     "name": "stdout",
     "output_type": "stream",
     "text": [
      "Creating new recipient_id column\n",
      "Data types fixed according to arts_awards schema\n"
     ]
    },
    {
     "data": {
      "text/plain": [
       "recipient_id        object\n",
       "recipient           object\n",
       "activity name       object\n",
       "award amount        object\n",
       "award date          object\n",
       "decision month      object\n",
       "decision quarter    object\n",
       "ace area            object\n",
       "local authority     object\n",
       "main discipline     object\n",
       "strand              object\n",
       "activity name       object\n",
       "dtype: object"
      ]
     },
     "metadata": {},
     "output_type": "display_data"
    }
   ],
   "source": [
    "# Function to convert columns to appropriate data types based on arts_awards schema\n",
    "def fix_data_types(df):\n",
    "    df_fixed = df.copy()\n",
    "    \n",
    "    # Create a new column for recipient_id or handle existing one\n",
    "    if 'recipient_id' not in df.columns:\n",
    "        print(\"Creating new recipient_id column\")\n",
    "        # Add recipient_id as the first column\n",
    "        df_fixed.insert(0, 'recipient_id', None)\n",
    "    else:\n",
    "        # Clean and convert existing recipient_id values\n",
    "        df_fixed['recipient_id'] = df_fixed['recipient_id'].astype(str).replace('nan', None)\n",
    "        # Convert to numeric\n",
    "        df_fixed['recipient_id'] = pd.to_numeric(df_fixed['recipient_id'], errors='coerce')\n",
    "        # Flag rows where conversion failed\n",
    "        invalid_ids = df_fixed['recipient_id'].isnull() & df['recipient_id'].notnull()\n",
    "        if invalid_ids.any():\n",
    "            print(f\"Warning: {invalid_ids.sum()} invalid recipient_id values\")\n",
    "            print(\"Sample invalid values:\")\n",
    "            display(df.loc[invalid_ids, 'recipient_id'].head())\n",
    "\n",
    "    # Ensure recipient_id is the first column (if it's not already)\n",
    "    if 'recipient_id' in df_fixed.columns and df_fixed.columns[0] != 'recipient_id':\n",
    "        # Get all columns except recipient_id\n",
    "        other_cols = [col for col in df_fixed.columns if col != 'recipient_id']\n",
    "        # Reorder columns with recipient_id first\n",
    "        df_fixed = df_fixed[['recipient_id'] + other_cols]\n",
    "        print(\"Moved recipient_id to be the first column\")\n",
    "\n",
    "    # Check if recipient_id values respect SMALLINT UNSIGNED constraints\n",
    "    if 'recipient_id' in df_fixed.columns and not df_fixed['recipient_id'].isnull().all():\n",
    "        # Check for negative values\n",
    "        negative_ids = (df_fixed['recipient_id'] < 0) & df_fixed['recipient_id'].notnull()\n",
    "        if negative_ids.any():\n",
    "            print(f\"Warning: {negative_ids.sum()} recipient_id values are negative (should be UNSIGNED)\")\n",
    "            print(\"Setting negative values to NULL\")\n",
    "            df_fixed.loc[negative_ids, 'recipient_id'] = None\n",
    "        \n",
    "        # Check for values exceeding SMALLINT range (max 65535)\n",
    "        large_ids = (df_fixed['recipient_id'] > 65535) & df_fixed['recipient_id'].notnull()\n",
    "        if large_ids.any():\n",
    "            print(f\"Warning: {large_ids.sum()} recipient_id values exceed SMALLINT UNSIGNED limit (65535)\")\n",
    "            print(\"Setting oversized values to NULL\")\n",
    "            df_fixed.loc[large_ids, 'recipient_id'] = None\n",
    "        \n",
    "        # Check for non-integer values\n",
    "        fractional_ids = (df_fixed['recipient_id'] % 1 != 0) & df_fixed['recipient_id'].notnull()\n",
    "        if fractional_ids.any():\n",
    "            print(f\"Warning: {fractional_ids.sum()} recipient_id values have decimal parts (should be integer)\")\n",
    "            print(\"Converting to integers by truncating decimal parts\")\n",
    "            df_fixed.loc[fractional_ids, 'recipient_id'] = df_fixed.loc[fractional_ids, 'recipient_id'].apply(int)\n",
    "\n",
    "    # Ensure award_amount is decimal/numeric\n",
    "    if 'award_amount' in df.columns:\n",
    "        df_fixed['award_amount'] = pd.to_numeric(df['award_amount'], errors='coerce')\n",
    "    \n",
    "    # Convert award_date to datetime\n",
    "    # Date format is assumed to be DD-MM-YYYY\n",
    "    # If the date format is different, adjust the format string accordingly\n",
    "    if 'award_date' in df.columns:\n",
    "        df_fixed['award_date'] = pd.to_datetime(df['award_date'], errors='coerce')\n",
    "        # Flag rows where conversion failed\n",
    "        invalid_dates = df_fixed['award_date'].isnull() & df['award_date'].notnull()\n",
    "        if invalid_dates.any():\n",
    "            print(f\"Warning: {invalid_dates.sum()} invalid date values in award_date\")\n",
    "            print(\"Sample invalid values:\")\n",
    "            display(df.loc[invalid_dates, 'award_date'].head())\n",
    "    \n",
    "    # Convert decision_month and decision_quarter to proper strings\n",
    "    for col in ['decision_month', 'decision_quarter']:\n",
    "        if col in df.columns:\n",
    "            df_fixed[col] = df_fixed[col].astype(str).replace('nan', None)\n",
    "    \n",
    "    # Convert text fields according to schema\n",
    "    text_fields = ['recipient', 'activity_name', 'ace_area', 'local_authority', 'main_discipline']\n",
    "    for col in text_fields:\n",
    "        if col in df.columns:\n",
    "            df_fixed[col] = df_fixed[col].astype(str).replace('nan', None)\n",
    "    \n",
    "    return df_fixed\n",
    "\n",
    "# Fix data types\n",
    "try:\n",
    "    cleaned_df = fix_data_types(cleaned_df)\n",
    "    print(\"Data types fixed according to arts_awards schema\")\n",
    "    display(cleaned_df.dtypes)\n",
    "except NameError as e:\n",
    "    print(f\"Error: {e}\")"
   ]
  },
  {
   "cell_type": "markdown",
   "id": "ee182931",
   "metadata": {},
   "source": [
    "### Standardizing Text Values\n"
   ]
  },
  {
   "cell_type": "code",
   "execution_count": 50,
   "id": "adc6a748",
   "metadata": {},
   "outputs": [
    {
     "name": "stdout",
     "output_type": "stream",
     "text": [
      "Text values standardized according to arts_awards schema\n"
     ]
    },
    {
     "data": {
      "application/vnd.microsoft.datawrangler.viewer.v0+json": {
       "columns": [
        {
         "name": "index",
         "rawType": "int64",
         "type": "integer"
        },
        {
         "name": "recipient_id",
         "rawType": "object",
         "type": "unknown"
        },
        {
         "name": "recipient",
         "rawType": "object",
         "type": "string"
        },
        {
         "name": "activity name",
         "rawType": "object",
         "type": "string"
        },
        {
         "name": "award amount",
         "rawType": "object",
         "type": "string"
        },
        {
         "name": "award date",
         "rawType": "object",
         "type": "string"
        },
        {
         "name": "decision month",
         "rawType": "object",
         "type": "string"
        },
        {
         "name": "decision quarter",
         "rawType": "object",
         "type": "string"
        },
        {
         "name": "ace area",
         "rawType": "object",
         "type": "string"
        },
        {
         "name": "local authority",
         "rawType": "object",
         "type": "string"
        },
        {
         "name": "main discipline",
         "rawType": "object",
         "type": "string"
        },
        {
         "name": "strand",
         "rawType": "object",
         "type": "string"
        },
        {
         "name": "activity name",
         "rawType": "object",
         "type": "unknown"
        }
       ],
       "conversionMethod": "pd.DataFrame",
       "ref": "9d353e34-5cba-42c3-84ad-369106d5b254",
       "rows": [
        [
         "0",
         null,
         "Dominic Bouffard",
         "Art Show at  Gallery 46",
         "£23,336",
         "2-Apr-24",
         "April",
         "Q1",
         "London",
         "Southwark",
         "Visual arts",
         "£30,000 and below",
         null
        ],
        [
         "1",
         null,
         "Liv Wynter",
         "Outreach Development & Events for Homeless Queers",
         "£32,210",
         "2-Apr-24",
         "April",
         "Q1",
         "London",
         "Lewisham",
         "Combined arts",
         "£30,000 and below",
         null
        ],
        [
         "2",
         null,
         "Ealing Council",
         "New Gen Festival Development 2024",
         "£28,420",
         "2-Apr-24",
         "April",
         "Q1",
         "London",
         "Ealing",
         "Music",
         "£30,000 and below",
         null
        ]
       ],
       "shape": {
        "columns": 12,
        "rows": 3
       }
      },
      "text/html": [
       "<div>\n",
       "<style scoped>\n",
       "    .dataframe tbody tr th:only-of-type {\n",
       "        vertical-align: middle;\n",
       "    }\n",
       "\n",
       "    .dataframe tbody tr th {\n",
       "        vertical-align: top;\n",
       "    }\n",
       "\n",
       "    .dataframe thead th {\n",
       "        text-align: right;\n",
       "    }\n",
       "</style>\n",
       "<table border=\"1\" class=\"dataframe\">\n",
       "  <thead>\n",
       "    <tr style=\"text-align: right;\">\n",
       "      <th></th>\n",
       "      <th>recipient_id</th>\n",
       "      <th>recipient</th>\n",
       "      <th>activity name</th>\n",
       "      <th>award amount</th>\n",
       "      <th>award date</th>\n",
       "      <th>decision month</th>\n",
       "      <th>decision quarter</th>\n",
       "      <th>ace area</th>\n",
       "      <th>local authority</th>\n",
       "      <th>main discipline</th>\n",
       "      <th>strand</th>\n",
       "      <th>activity name</th>\n",
       "    </tr>\n",
       "  </thead>\n",
       "  <tbody>\n",
       "    <tr>\n",
       "      <th>0</th>\n",
       "      <td>None</td>\n",
       "      <td>Dominic Bouffard</td>\n",
       "      <td>Art Show at  Gallery 46</td>\n",
       "      <td>£23,336</td>\n",
       "      <td>2-Apr-24</td>\n",
       "      <td>April</td>\n",
       "      <td>Q1</td>\n",
       "      <td>London</td>\n",
       "      <td>Southwark</td>\n",
       "      <td>Visual arts</td>\n",
       "      <td>£30,000 and below</td>\n",
       "      <td>NaN</td>\n",
       "    </tr>\n",
       "    <tr>\n",
       "      <th>1</th>\n",
       "      <td>None</td>\n",
       "      <td>Liv Wynter</td>\n",
       "      <td>Outreach Development &amp; Events for Homeless Queers</td>\n",
       "      <td>£32,210</td>\n",
       "      <td>2-Apr-24</td>\n",
       "      <td>April</td>\n",
       "      <td>Q1</td>\n",
       "      <td>London</td>\n",
       "      <td>Lewisham</td>\n",
       "      <td>Combined arts</td>\n",
       "      <td>£30,000 and below</td>\n",
       "      <td>NaN</td>\n",
       "    </tr>\n",
       "    <tr>\n",
       "      <th>2</th>\n",
       "      <td>None</td>\n",
       "      <td>Ealing Council</td>\n",
       "      <td>New Gen Festival Development 2024</td>\n",
       "      <td>£28,420</td>\n",
       "      <td>2-Apr-24</td>\n",
       "      <td>April</td>\n",
       "      <td>Q1</td>\n",
       "      <td>London</td>\n",
       "      <td>Ealing</td>\n",
       "      <td>Music</td>\n",
       "      <td>£30,000 and below</td>\n",
       "      <td>NaN</td>\n",
       "    </tr>\n",
       "  </tbody>\n",
       "</table>\n",
       "</div>"
      ],
      "text/plain": [
       "  recipient_id         recipient                                      activity name award amount award date decision month decision quarter ace area local authority main discipline             strand activity name\n",
       "0         None  Dominic Bouffard                            Art Show at  Gallery 46      £23,336   2-Apr-24          April               Q1   London       Southwark     Visual arts  £30,000 and below           NaN\n",
       "1         None        Liv Wynter  Outreach Development & Events for Homeless Queers      £32,210   2-Apr-24          April               Q1   London        Lewisham   Combined arts  £30,000 and below           NaN\n",
       "2         None    Ealing Council                  New Gen Festival Development 2024      £28,420   2-Apr-24          April               Q1   London          Ealing           Music  £30,000 and below           NaN"
      ]
     },
     "metadata": {},
     "output_type": "display_data"
    }
   ],
   "source": [
    "# Function to standardize text values according to arts_awards schema\n",
    "def standardize_text(df):\n",
    "    df_std = df.copy()\n",
    "    \n",
    "    # Standardize recipient (NVARCHAR(50))\n",
    "    if 'recipient' in df.columns:\n",
    "        # Title case for organizations/people names\n",
    "        df_std['recipient'] = df_std['recipient'].str.title()\n",
    "        # Truncate if needed\n",
    "        if df_std['recipient'].str.len().max() > 150:\n",
    "            print(\"Warning: Some recipient names exceed 50 characters and will be truncated\")\n",
    "            df_std['recipient'] = df_std['recipient'].str.slice(0, 150)\n",
    "    \n",
    "    # Standardize activity_name (NVARCHAR(200))\n",
    "    if 'activity_name' in df.columns:\n",
    "        # Title case for activity names\n",
    "        df_std['activity_name'] = df_std['activity_name'].str.title()\n",
    "        # Truncate if needed\n",
    "        if df_std['activity_name'].str.len().max() > 300:\n",
    "            print(\"Warning: Some activity names exceed 200 characters and will be truncated\")\n",
    "            df_std['activity_name'] = df_std['activity_name'].str.slice(0, 300)\n",
    "    \n",
    "    # Standardize decision_month (VARCHAR(15))\n",
    "    if 'decision_month' in df.columns:\n",
    "        # Capitalize month names\n",
    "        df_std['decision_month'] = df_std['decision_month'].str.capitalize()\n",
    "        # Ensure valid month names\n",
    "        valid_months = ['January', 'February', 'March', 'April', 'May', 'June', \n",
    "                        'July', 'August', 'September', 'October', 'November', 'December']\n",
    "        invalid_months = ~df_std['decision_month'].isin(valid_months) & (df_std['decision_month'].notna())\n",
    "        if invalid_months.any():\n",
    "            print(f\"Warning: {invalid_months.sum()} invalid month values in decision_month\")\n",
    "            print(\"Invalid months will be standardized or set to None\")\n",
    "            \n",
    "            # Attempt to standardize common variations\n",
    "            month_map = {\n",
    "                'jan': 'January', 'feb': 'February', 'mar': 'March', \n",
    "                'apr': 'April', 'may': 'May', 'jun': 'June',\n",
    "                'jul': 'July', 'aug': 'August', 'sep': 'September', 'sept': 'September',\n",
    "                'oct': 'October', 'nov': 'November', 'dec': 'December'\n",
    "            }\n",
    "            \n",
    "            for abbr, full in month_map.items():\n",
    "                mask = df_std['decision_month'].str.lower().str.startswith(abbr, na=False)\n",
    "                df_std.loc[mask, 'decision_month'] = full\n",
    "    \n",
    "    # Standardize decision_quarter (VARCHAR(2))\n",
    "    if 'decision_quarter' in df.columns:\n",
    "        # Standardize quarter format (Q1, Q2, Q3, Q4)\n",
    "        df_std['decision_quarter'] = df_std['decision_quarter'].str.upper()\n",
    "        \n",
    "        # Fix common variations\n",
    "        quarter_map = {'1': 'Q1', '2': 'Q2', '3': 'Q3', '4': 'Q4',\n",
    "                      'QTR1': 'Q1', 'QTR2': 'Q2', 'QTR3': 'Q3', 'QTR4': 'Q4'}\n",
    "        \n",
    "        for var, std in quarter_map.items():\n",
    "            mask = df_std['decision_quarter'].str.strip() == var\n",
    "            df_std.loc[mask, 'decision_quarter'] = std\n",
    "        \n",
    "        # Validate quarters\n",
    "        valid_quarters = ['Q1', 'Q2', 'Q3', 'Q4']\n",
    "        invalid_quarters = ~df_std['decision_quarter'].isin(valid_quarters) & (df_std['decision_quarter'].notna())\n",
    "        \n",
    "        if invalid_quarters.any():\n",
    "            print(f\"Warning: {invalid_quarters.sum()} invalid quarter values in decision_quarter\")\n",
    "            print(\"Sample invalid values:\")\n",
    "            display(df.loc[invalid_quarters, 'decision_quarter'].head())\n",
    "    \n",
    "    # Standardize ace_area and local_authority (NVARCHAR(50))\n",
    "    for col in ['ace_area', 'local_authority']:\n",
    "        if col in df.columns:\n",
    "            # Title case for geographical names\n",
    "            df_std[col] = df_std[col].str.title()\n",
    "            # Truncate if needed\n",
    "            if df_std[col].str.len().max() > 100:\n",
    "                print(f\"Warning: Some {col} values exceed 50 characters and will be truncated\")\n",
    "                df_std[col] = df_std[col].str.slice(0, 100)\n",
    "    \n",
    "    # Standardize main_discipline (VARCHAR(20))\n",
    "    if 'main_discipline' in df.columns:\n",
    "        # Title case for discipline names\n",
    "        df_std['main_discipline'] = df_std['main_discipline'].str.title()\n",
    "        # Truncate if needed\n",
    "        if df_std['main_discipline'].str.len().max() > 50:\n",
    "            print(f\"Warning: Some main_discipline values exceed 20 characters and will be truncated\")\n",
    "            df_std['main_discipline'] = df_std['main_discipline'].str.slice(0, 50)\n",
    "        \n",
    "        # You might want to standardize common disciplines here\n",
    "        # Example:\n",
    "        discipline_map = {\n",
    "            'Vis Art': 'Visual Arts',\n",
    "            'Visual': 'Visual Arts',\n",
    "            'Music': 'Music',\n",
    "            'Theatre': 'Theatre',\n",
    "            'Theater': 'Theatre',\n",
    "            'Dance': 'Dance',\n",
    "            'Lit': 'Literature',\n",
    "            'Literature': 'Literature'\n",
    "            # Add more mappings as needed\n",
    "        }\n",
    "        \n",
    "        for old, new in discipline_map.items():\n",
    "            mask = df_std['main_discipline'].str.contains(old, case=False, na=False)\n",
    "            if mask.any() and new[:50] != old[:20]:  # Only replace if different\n",
    "                print(f\"Standardized '{old}' to '{new}' in main_discipline\")\n",
    "                df_std.loc[mask, 'main_discipline'] = new[:20]  # Apply with truncation\n",
    "    \n",
    "    return df_std\n",
    "\n",
    "# Standardize text values\n",
    "cleaned_df = standardize_text(cleaned_df)\n",
    "print(\"Text values standardized according to arts_awards schema\")\n",
    "display(cleaned_df.head(3))\n"
   ]
  },
  {
   "cell_type": "markdown",
   "id": "c3722ca5",
   "metadata": {},
   "source": [
    "### Handling Outliers\n"
   ]
  },
  {
   "cell_type": "code",
   "execution_count": 51,
   "id": "f4baaf28",
   "metadata": {
    "vscode": {
     "languageId": "ruby"
    }
   },
   "outputs": [
    {
     "data": {
      "application/vnd.microsoft.datawrangler.viewer.v0+json": {
       "columns": [
        {
         "name": "index",
         "rawType": "object",
         "type": "string"
        },
        {
         "name": "recipient_id",
         "rawType": "object",
         "type": "unknown"
        },
        {
         "name": "recipient",
         "rawType": "object",
         "type": "unknown"
        },
        {
         "name": "activity name",
         "rawType": "object",
         "type": "unknown"
        },
        {
         "name": "award amount",
         "rawType": "object",
         "type": "unknown"
        },
        {
         "name": "award date",
         "rawType": "object",
         "type": "unknown"
        },
        {
         "name": "decision month",
         "rawType": "object",
         "type": "unknown"
        },
        {
         "name": "decision quarter",
         "rawType": "object",
         "type": "unknown"
        },
        {
         "name": "ace area",
         "rawType": "object",
         "type": "unknown"
        },
        {
         "name": "local authority",
         "rawType": "object",
         "type": "unknown"
        },
        {
         "name": "main discipline",
         "rawType": "object",
         "type": "unknown"
        },
        {
         "name": "strand",
         "rawType": "object",
         "type": "unknown"
        },
        {
         "name": "activity name",
         "rawType": "object",
         "type": "unknown"
        }
       ],
       "conversionMethod": "pd.DataFrame",
       "ref": "5598a88d-6d0f-4a1d-9d9f-afb75469e962",
       "rows": [
        [
         "count",
         "0",
         "15466",
         "2471",
         "15466",
         "15466",
         "15466",
         "15466",
         "15466",
         "15465",
         "15466",
         "15466",
         "12995"
        ],
        [
         "unique",
         "0",
         "9993",
         "2470",
         "8461",
         "777",
         "12",
         "4",
         "5",
         "333",
         "11",
         "19",
         "12854"
        ],
        [
         "top",
         null,
         "-",
         "Creative Pathways",
         "£15,000",
         "16-Dec-20",
         "October",
         "Q3",
         "London",
         "Hackney",
         "Theatre",
         "£30,000 and below",
         "Organisational Development"
        ],
        [
         "freq",
         null,
         "12",
         "2",
         "943",
         "111",
         "1566",
         "4316",
         "4222",
         "454",
         "4865",
         "6940",
         "11"
        ]
       ],
       "shape": {
        "columns": 12,
        "rows": 4
       }
      },
      "text/html": [
       "<div>\n",
       "<style scoped>\n",
       "    .dataframe tbody tr th:only-of-type {\n",
       "        vertical-align: middle;\n",
       "    }\n",
       "\n",
       "    .dataframe tbody tr th {\n",
       "        vertical-align: top;\n",
       "    }\n",
       "\n",
       "    .dataframe thead th {\n",
       "        text-align: right;\n",
       "    }\n",
       "</style>\n",
       "<table border=\"1\" class=\"dataframe\">\n",
       "  <thead>\n",
       "    <tr style=\"text-align: right;\">\n",
       "      <th></th>\n",
       "      <th>recipient_id</th>\n",
       "      <th>recipient</th>\n",
       "      <th>activity name</th>\n",
       "      <th>award amount</th>\n",
       "      <th>award date</th>\n",
       "      <th>decision month</th>\n",
       "      <th>decision quarter</th>\n",
       "      <th>ace area</th>\n",
       "      <th>local authority</th>\n",
       "      <th>main discipline</th>\n",
       "      <th>strand</th>\n",
       "      <th>activity name</th>\n",
       "    </tr>\n",
       "  </thead>\n",
       "  <tbody>\n",
       "    <tr>\n",
       "      <th>count</th>\n",
       "      <td>0</td>\n",
       "      <td>15466</td>\n",
       "      <td>2471</td>\n",
       "      <td>15466</td>\n",
       "      <td>15466</td>\n",
       "      <td>15466</td>\n",
       "      <td>15466</td>\n",
       "      <td>15466</td>\n",
       "      <td>15465</td>\n",
       "      <td>15466</td>\n",
       "      <td>15466</td>\n",
       "      <td>12995</td>\n",
       "    </tr>\n",
       "    <tr>\n",
       "      <th>unique</th>\n",
       "      <td>0</td>\n",
       "      <td>9993</td>\n",
       "      <td>2470</td>\n",
       "      <td>8461</td>\n",
       "      <td>777</td>\n",
       "      <td>12</td>\n",
       "      <td>4</td>\n",
       "      <td>5</td>\n",
       "      <td>333</td>\n",
       "      <td>11</td>\n",
       "      <td>19</td>\n",
       "      <td>12854</td>\n",
       "    </tr>\n",
       "    <tr>\n",
       "      <th>top</th>\n",
       "      <td>NaN</td>\n",
       "      <td>-</td>\n",
       "      <td>Creative Pathways</td>\n",
       "      <td>£15,000</td>\n",
       "      <td>16-Dec-20</td>\n",
       "      <td>October</td>\n",
       "      <td>Q3</td>\n",
       "      <td>London</td>\n",
       "      <td>Hackney</td>\n",
       "      <td>Theatre</td>\n",
       "      <td>£30,000 and below</td>\n",
       "      <td>Organisational Development</td>\n",
       "    </tr>\n",
       "    <tr>\n",
       "      <th>freq</th>\n",
       "      <td>NaN</td>\n",
       "      <td>12</td>\n",
       "      <td>2</td>\n",
       "      <td>943</td>\n",
       "      <td>111</td>\n",
       "      <td>1566</td>\n",
       "      <td>4316</td>\n",
       "      <td>4222</td>\n",
       "      <td>454</td>\n",
       "      <td>4865</td>\n",
       "      <td>6940</td>\n",
       "      <td>11</td>\n",
       "    </tr>\n",
       "  </tbody>\n",
       "</table>\n",
       "</div>"
      ],
      "text/plain": [
       "       recipient_id recipient      activity name award amount award date decision month decision quarter ace area local authority main discipline             strand               activity name\n",
       "count             0     15466               2471        15466      15466          15466            15466    15466           15465           15466              15466                       12995\n",
       "unique            0      9993               2470         8461        777             12                4        5             333              11                 19                       12854\n",
       "top             NaN         -  Creative Pathways      £15,000  16-Dec-20        October               Q3   London         Hackney         Theatre  £30,000 and below  Organisational Development\n",
       "freq            NaN        12                  2          943        111           1566             4316     4222             454            4865               6940                          11"
      ]
     },
     "metadata": {},
     "output_type": "display_data"
    }
   ],
   "source": [
    "# Function to handle outliers using IQR method\n",
    "def handle_outliers(df, cols=None):\n",
    "    if cols is None:\n",
    "        cols = df.select_dtypes(include=['number']).columns\n",
    "    \n",
    "    df_clean = df.copy()\n",
    "    \n",
    "    for col in cols:\n",
    "        # Calculate IQR\n",
    "        Q1 = df[col].quantile(0.25)\n",
    "        Q3 = df[col].quantile(0.75)\n",
    "        IQR = Q3 - Q1\n",
    "        \n",
    "        # Define bounds\n",
    "        lower_bound = Q1 - 1.5 * IQR\n",
    "        upper_bound = Q3 + 1.5 * IQR\n",
    "        \n",
    "        # Count outliers\n",
    "        outliers = ((df[col] < lower_bound) | (df[col] > upper_bound)).sum()\n",
    "        \n",
    "        if outliers > 0:\n",
    "            print(f\"Column {col}: Found {outliers} outliers\")\n",
    "            \n",
    "            # Cap outliers instead of removing them\n",
    "            df_clean[col] = df_clean[col].clip(lower=lower_bound, upper=upper_bound)\n",
    "            print(f\"Capped outliers in {col} to range [{lower_bound:.2f}, {upper_bound:.2f}]\")\n",
    "    \n",
    "    return df_clean\n",
    "\n",
    "# Handle outliers in numeric columns\n",
    "numeric_cols = cleaned_df.select_dtypes(include=['number']).columns\n",
    "cleaned_df = handle_outliers(cleaned_df, numeric_cols)\n",
    "display(cleaned_df.describe())"
   ]
  },
  {
   "cell_type": "markdown",
   "id": "39dfaf3e",
   "metadata": {},
   "source": [
    "### Renaming Columns for SQL Compatibility\n"
   ]
  },
  {
   "cell_type": "code",
   "execution_count": 52,
   "id": "2d154f47",
   "metadata": {},
   "outputs": [
    {
     "name": "stdout",
     "output_type": "stream",
     "text": [
      "Renaming columns to match arts_awards schema:\n",
      "  activity name -> activity_name\n",
      "  award amount -> award_amount\n",
      "  award date -> award_date\n",
      "  decision month -> decision_month\n",
      "  decision quarter -> decision_quarter\n",
      "  ace area -> ace_area\n",
      "  local authority -> local_authority\n",
      "  main discipline -> main_discipline\n",
      "\n",
      "Info: The following columns are not in the arts_awards schema: ['strand']\n",
      "These columns will be included in the output but won't be imported to the schema\n"
     ]
    }
   ],
   "source": [
    "# Function to rename columns according to arts_awards schema\n",
    "def rename_columns_for_schema(df):\n",
    "    # Define the expected column names for arts_awards schema\n",
    "    schema_columns = [\n",
    "        'recipient_id', 'recipient', 'activity_name', 'award_amount',\n",
    "        'award_date', 'decision_month', 'decision_quarter', 'ace_area',\n",
    "        'local_authority', 'main_discipline'\n",
    "    ]\n",
    "    \n",
    "    # Create a mapping of current columns to schema columns\n",
    "    current_cols = df.columns\n",
    "    rename_dict = {}\n",
    "    \n",
    "    # Try to match existing columns to schema columns based on similarity\n",
    "    for schema_col in schema_columns:\n",
    "        # Check for direct match first\n",
    "        if schema_col in current_cols:\n",
    "            continue\n",
    "            \n",
    "        # Check for case-insensitive match\n",
    "        matches = [col for col in current_cols if col.lower() == schema_col.lower()]\n",
    "        if matches:\n",
    "            rename_dict[matches[0]] = schema_col\n",
    "            continue\n",
    "            \n",
    "        # Check for similar names (handles spaces, underscores, etc.)\n",
    "        schema_col_clean = schema_col.lower().replace('_', '')\n",
    "        for col in current_cols:\n",
    "            col_clean = col.lower().replace('_', '').replace(' ', '')\n",
    "            \n",
    "            # Match on various patterns\n",
    "            if (schema_col_clean in col_clean or \n",
    "                col_clean in schema_col_clean or\n",
    "                (schema_col_clean[:5] == col_clean[:5] and len(col_clean) > 4)):\n",
    "                \n",
    "                # Check if this column is already mapped\n",
    "                if col not in rename_dict:\n",
    "                    rename_dict[col] = schema_col\n",
    "                    break\n",
    "    \n",
    "    # Apply the renaming\n",
    "    if rename_dict:\n",
    "        print(\"Renaming columns to match arts_awards schema:\")\n",
    "        for old, new in rename_dict.items():\n",
    "            print(f\"  {old} -> {new}\")\n",
    "        \n",
    "        df_renamed = df.rename(columns=rename_dict)\n",
    "    else:\n",
    "        df_renamed = df.copy()\n",
    "        print(\"No columns needed renaming\")\n",
    "    \n",
    "    # Check for missing schema columns\n",
    "    missing_cols = [col for col in schema_columns if col not in df_renamed.columns]\n",
    "    if missing_cols:\n",
    "        print(f\"\\nWarning: The following schema columns are missing: {missing_cols}\")\n",
    "        \n",
    "        # Add missing columns with appropriate null values\n",
    "        for col in missing_cols:\n",
    "            if col == 'recipient_id':\n",
    "                # Auto-increment field can be left for MySQL to handle\n",
    "                continue\n",
    "            elif col == 'award_date':\n",
    "                # Required DATE field - add as NaT for now, but will need attention\n",
    "                df_renamed[col] = pd.NaT\n",
    "                print(f\"Added missing required column '{col}' with NaT values - needs attention!\")\n",
    "            elif col in ['recipient', 'activity_name']:\n",
    "                # Required NVARCHAR fields\n",
    "                df_renamed[col] = None\n",
    "                print(f\"Added missing required column '{col}' with NULL values - needs attention!\")\n",
    "            else:\n",
    "                # Optional fields\n",
    "                df_renamed[col] = None\n",
    "                print(f\"Added missing optional column '{col}' with NULL values\")\n",
    "    \n",
    "    # Check for extra columns not in the schema\n",
    "    extra_cols = [col for col in df_renamed.columns if col not in schema_columns]\n",
    "    if extra_cols:\n",
    "        print(f\"\\nInfo: The following columns are not in the arts_awards schema: {extra_cols}\")\n",
    "        print(\"These columns will be included in the output but won't be imported to the schema\")\n",
    "    \n",
    "    return df_renamed\n",
    "\n",
    "# Rename columns to match schema\n",
    "cleaned_df = rename_columns_for_schema(cleaned_df)"
   ]
  },
  {
   "cell_type": "markdown",
   "id": "03ee90bf",
   "metadata": {},
   "source": [
    "## Final Validation and Export"
   ]
  },
  {
   "cell_type": "code",
   "execution_count": null,
   "id": "75b36ade",
   "metadata": {},
   "outputs": [
    {
     "name": "stdout",
     "output_type": "stream",
     "text": [
      "\n",
      "Cleaned data exported to cleaned_arts_awards_2.csv\n"
     ]
    }
   ],
   "source": [
    "#  export the cleaned dataframe\n",
    "output_path = 'cleaned_arts_awards_2.csv'\n",
    "try:\n",
    "    cleaned_df.to_csv(output_path, index=False, date_format='%d-%m-%Y')\n",
    "    print(f\"\\nCleaned data exported to {output_path}\")\n",
    "except Exception as e:\n",
    "    print(f\"\\nError exporting cleaned data to CSV: {e}\")\n",
    "# Optional: Uncomment to visualize the cleaned dataframe\n",
    "#display(cleaned_df.head(10))\n",
    "\n",
    "\n",
    "\n",
    "    # Export the cleaned dataframe\n",
    "    #output_path = 'cleaned_arts_awards.csv'\n",
    "    #try:\n",
    "        #cleaned_df.to_csv(output_path, index=False, date_format='%Y-%m-%d')\n",
    "        #print(f\"\\nCleaned data exported to {output_path}\")\n",
    "    #except Exception as e:\n",
    "        #print(f\"\\nError exporting cleaned data to CSV: {e}\")\n"
   ]
  },
  {
   "cell_type": "markdown",
   "id": "408e324d",
   "metadata": {},
   "source": [
    "## Analysis and Visualisation"
   ]
  },
  {
   "cell_type": "markdown",
   "id": "02b15e62",
   "metadata": {},
   "source": [
    ">The objectives of this report is to determine the factors that can help artists, and creative communities secure grants from the Arts Council."
   ]
  },
  {
   "cell_type": "markdown",
   "id": "b98b1558",
   "metadata": {},
   "source": [
    "### Setup and Data Import \n",
    "Initialising the necessary libraries"
   ]
  },
  {
   "cell_type": "code",
   "execution_count": 53,
   "id": "55bae3d4",
   "metadata": {},
   "outputs": [],
   "source": [
    "import pandas as pd\n",
    "import numpy as np\n",
    "import matplotlib.pyplot as plt\n",
    "import seaborn as sns\n",
    "import plotly.express as px\n",
    "import plotly.graph_objects as go\n",
    "from plotly.subplots import make_subplots\n",
    "#import geopandas as gpd\n",
    "import folium\n",
    "from folium.plugins import HeatMap\n",
    "import statsmodels.api as sm\n",
    "from scipy import stats\n",
    "from sklearn.cluster import KMeans"
   ]
  },
  {
   "cell_type": "code",
   "execution_count": 55,
   "id": "9a51659f",
   "metadata": {},
   "outputs": [],
   "source": [
    "# Set visualization styles\n",
    "#plt.style.use('seaborn-whitegrid')\n",
    "sns.set_style(\"whitegrid\")\n",
    "pd.set_option('display.max_columns', None)"
   ]
  },
  {
   "cell_type": "code",
   "execution_count": 56,
   "id": "545efbd8",
   "metadata": {},
   "outputs": [
    {
     "data": {
      "application/vnd.microsoft.datawrangler.viewer.v0+json": {
       "columns": [
        {
         "name": "index",
         "rawType": "int64",
         "type": "integer"
        },
        {
         "name": "recipient_id",
         "rawType": "object",
         "type": "unknown"
        },
        {
         "name": "recipient",
         "rawType": "object",
         "type": "string"
        },
        {
         "name": "activity_name",
         "rawType": "object",
         "type": "string"
        },
        {
         "name": "award_amount",
         "rawType": "object",
         "type": "string"
        },
        {
         "name": "award_date",
         "rawType": "object",
         "type": "string"
        },
        {
         "name": "decision_month",
         "rawType": "object",
         "type": "string"
        },
        {
         "name": "decision_quarter",
         "rawType": "object",
         "type": "string"
        },
        {
         "name": "ace_area",
         "rawType": "object",
         "type": "string"
        },
        {
         "name": "local_authority",
         "rawType": "object",
         "type": "string"
        },
        {
         "name": "main_discipline",
         "rawType": "object",
         "type": "string"
        },
        {
         "name": "strand",
         "rawType": "object",
         "type": "string"
        },
        {
         "name": "activity_name",
         "rawType": "object",
         "type": "unknown"
        }
       ],
       "conversionMethod": "pd.DataFrame",
       "ref": "1e6cce84-55ce-4c6d-81f4-3ab100056496",
       "rows": [
        [
         "0",
         null,
         "Dominic Bouffard",
         "Art Show at  Gallery 46",
         "£23,336",
         "2-Apr-24",
         "April",
         "Q1",
         "London",
         "Southwark",
         "Visual arts",
         "£30,000 and below",
         null
        ],
        [
         "1",
         null,
         "Liv Wynter",
         "Outreach Development & Events for Homeless Queers",
         "£32,210",
         "2-Apr-24",
         "April",
         "Q1",
         "London",
         "Lewisham",
         "Combined arts",
         "£30,000 and below",
         null
        ],
        [
         "2",
         null,
         "Ealing Council",
         "New Gen Festival Development 2024",
         "£28,420",
         "2-Apr-24",
         "April",
         "Q1",
         "London",
         "Ealing",
         "Music",
         "£30,000 and below",
         null
        ],
        [
         "3",
         null,
         "Mark Smith",
         "SYNERGY: A UK/South Africa Disabled Dance Exchange",
         "£86,835",
         "3-Apr-24",
         "April",
         "Q1",
         "London",
         "Islington",
         "Dance",
         "Above £30,000",
         null
        ],
        [
         "4",
         null,
         "Queer East Cic",
         "Queer East Festival 2024",
         "£30,000",
         "3-Apr-24",
         "April",
         "Q1",
         "London",
         "Westminster",
         "Combined arts",
         "£30,000 and below",
         null
        ]
       ],
       "shape": {
        "columns": 12,
        "rows": 5
       }
      },
      "text/html": [
       "<div>\n",
       "<style scoped>\n",
       "    .dataframe tbody tr th:only-of-type {\n",
       "        vertical-align: middle;\n",
       "    }\n",
       "\n",
       "    .dataframe tbody tr th {\n",
       "        vertical-align: top;\n",
       "    }\n",
       "\n",
       "    .dataframe thead th {\n",
       "        text-align: right;\n",
       "    }\n",
       "</style>\n",
       "<table border=\"1\" class=\"dataframe\">\n",
       "  <thead>\n",
       "    <tr style=\"text-align: right;\">\n",
       "      <th></th>\n",
       "      <th>recipient_id</th>\n",
       "      <th>recipient</th>\n",
       "      <th>activity_name</th>\n",
       "      <th>award_amount</th>\n",
       "      <th>award_date</th>\n",
       "      <th>decision_month</th>\n",
       "      <th>decision_quarter</th>\n",
       "      <th>ace_area</th>\n",
       "      <th>local_authority</th>\n",
       "      <th>main_discipline</th>\n",
       "      <th>strand</th>\n",
       "      <th>activity_name</th>\n",
       "    </tr>\n",
       "  </thead>\n",
       "  <tbody>\n",
       "    <tr>\n",
       "      <th>0</th>\n",
       "      <td>None</td>\n",
       "      <td>Dominic Bouffard</td>\n",
       "      <td>Art Show at  Gallery 46</td>\n",
       "      <td>£23,336</td>\n",
       "      <td>2-Apr-24</td>\n",
       "      <td>April</td>\n",
       "      <td>Q1</td>\n",
       "      <td>London</td>\n",
       "      <td>Southwark</td>\n",
       "      <td>Visual arts</td>\n",
       "      <td>£30,000 and below</td>\n",
       "      <td>NaN</td>\n",
       "    </tr>\n",
       "    <tr>\n",
       "      <th>1</th>\n",
       "      <td>None</td>\n",
       "      <td>Liv Wynter</td>\n",
       "      <td>Outreach Development &amp; Events for Homeless Queers</td>\n",
       "      <td>£32,210</td>\n",
       "      <td>2-Apr-24</td>\n",
       "      <td>April</td>\n",
       "      <td>Q1</td>\n",
       "      <td>London</td>\n",
       "      <td>Lewisham</td>\n",
       "      <td>Combined arts</td>\n",
       "      <td>£30,000 and below</td>\n",
       "      <td>NaN</td>\n",
       "    </tr>\n",
       "    <tr>\n",
       "      <th>2</th>\n",
       "      <td>None</td>\n",
       "      <td>Ealing Council</td>\n",
       "      <td>New Gen Festival Development 2024</td>\n",
       "      <td>£28,420</td>\n",
       "      <td>2-Apr-24</td>\n",
       "      <td>April</td>\n",
       "      <td>Q1</td>\n",
       "      <td>London</td>\n",
       "      <td>Ealing</td>\n",
       "      <td>Music</td>\n",
       "      <td>£30,000 and below</td>\n",
       "      <td>NaN</td>\n",
       "    </tr>\n",
       "    <tr>\n",
       "      <th>3</th>\n",
       "      <td>None</td>\n",
       "      <td>Mark Smith</td>\n",
       "      <td>SYNERGY: A UK/South Africa Disabled Dance Exch...</td>\n",
       "      <td>£86,835</td>\n",
       "      <td>3-Apr-24</td>\n",
       "      <td>April</td>\n",
       "      <td>Q1</td>\n",
       "      <td>London</td>\n",
       "      <td>Islington</td>\n",
       "      <td>Dance</td>\n",
       "      <td>Above £30,000</td>\n",
       "      <td>NaN</td>\n",
       "    </tr>\n",
       "    <tr>\n",
       "      <th>4</th>\n",
       "      <td>None</td>\n",
       "      <td>Queer East Cic</td>\n",
       "      <td>Queer East Festival 2024</td>\n",
       "      <td>£30,000</td>\n",
       "      <td>3-Apr-24</td>\n",
       "      <td>April</td>\n",
       "      <td>Q1</td>\n",
       "      <td>London</td>\n",
       "      <td>Westminster</td>\n",
       "      <td>Combined arts</td>\n",
       "      <td>£30,000 and below</td>\n",
       "      <td>NaN</td>\n",
       "    </tr>\n",
       "  </tbody>\n",
       "</table>\n",
       "</div>"
      ],
      "text/plain": [
       "  recipient_id         recipient                                      activity_name award_amount award_date decision_month decision_quarter ace_area local_authority main_discipline             strand activity_name\n",
       "0         None  Dominic Bouffard                            Art Show at  Gallery 46      £23,336   2-Apr-24          April               Q1   London       Southwark     Visual arts  £30,000 and below           NaN\n",
       "1         None        Liv Wynter  Outreach Development & Events for Homeless Queers      £32,210   2-Apr-24          April               Q1   London        Lewisham   Combined arts  £30,000 and below           NaN\n",
       "2         None    Ealing Council                  New Gen Festival Development 2024      £28,420   2-Apr-24          April               Q1   London          Ealing           Music  £30,000 and below           NaN\n",
       "3         None        Mark Smith  SYNERGY: A UK/South Africa Disabled Dance Exch...      £86,835   3-Apr-24          April               Q1   London       Islington           Dance      Above £30,000           NaN\n",
       "4         None    Queer East Cic                           Queer East Festival 2024      £30,000   3-Apr-24          April               Q1   London     Westminster   Combined arts  £30,000 and below           NaN"
      ]
     },
     "execution_count": 56,
     "metadata": {},
     "output_type": "execute_result"
    }
   ],
   "source": [
    "df_eda = cleaned_df.copy()\n",
    "#pd.read_csv('cleaned_arts_awards_2.csv')\n",
    "\n",
    "# Display the first few rows\n",
    "df_eda.head(5)"
   ]
  },
  {
   "cell_type": "markdown",
   "id": "d2ab687d",
   "metadata": {},
   "source": [
    "### Key Questions and Findings"
   ]
  },
  {
   "cell_type": "markdown",
   "id": "60511252",
   "metadata": {},
   "source": [
    "1. What is being funded?: Analyzes disciplines receiving funding through:\n",
    "\n",
    "Summary statistics of award amounts\n",
    "Bar charts showing counts by discipline\n",
    "Treemaps showing funding distribution\n",
    "Keyword analysis of activity names"
   ]
  },
  {
   "cell_type": "code",
   "execution_count": 57,
   "id": "0ca6ea2a",
   "metadata": {},
   "outputs": [
    {
     "name": "stdout",
     "output_type": "stream",
     "text": [
      "Summary Statistics of Award Amounts:\n"
     ]
    },
    {
     "data": {
      "text/plain": [
       "count       15466\n",
       "unique       8461\n",
       "top       £15,000\n",
       "freq          943\n",
       "Name: award_amount, dtype: object"
      ]
     },
     "metadata": {},
     "output_type": "display_data"
    }
   ],
   "source": [
    "#1. Summary statistics of award amounts\n",
    "print(\"Summary Statistics of Award Amounts:\")\n",
    "#print(df_eda['award_amount'].describe())\n",
    "display(df_eda['award_amount'].describe())"
   ]
  },
  {
   "cell_type": "code",
   "execution_count": 58,
   "id": "f395ef22",
   "metadata": {},
   "outputs": [
    {
     "data": {
      "text/plain": [
       "main_discipline\n",
       "Theatre                    4865\n",
       "Combined arts              2718\n",
       "Music                      2606\n",
       "Visual arts                2322\n",
       "Dance                      1415\n",
       "Literature                 1076\n",
       "Museums                     189\n",
       "Not discipline specific     148\n",
       "Libraries                    99\n",
       "Digital Arts                 26\n",
       "Other/Not Known               2\n",
       "Name: count, dtype: int64"
      ]
     },
     "metadata": {},
     "output_type": "display_data"
    },
    {
     "data": {
      "text/plain": [
       "main_discipline\n",
       "Dance                      £86,835£34,649£20,450£29,981£29,975£20,820£29,...\n",
       "Not discipline specific    £596,000£455,000£1,000,000£750,000£800,000£825...\n",
       "Museums                    £47,570£25,985£28,000£34,435£28,000£2,500£50,0...\n",
       "Literature                 £33,079£11,108£7,640£29,997£27,000£20,139£29,3...\n",
       "Combined arts              £32,210£30,000£106,249£49,000£58,500£83,000£50...\n",
       "Music                      £28,420£29,640£16,145£4,000£24,731£28,920£25,0...\n",
       "Libraries                  £27,370£28,500£29,807£14,362£29,912£13,311£499...\n",
       "Other/Not Known                                               £26,874£15,000\n",
       "Digital Arts               £26,711£39,780£31,949£26,005£22,915£30,515£49,...\n",
       "Visual arts                £23,336£25,540£5,343£9,777£29,950£23,703£55,68...\n",
       "Theatre                    £18,588£28,500£31,498£31,158£41,442£29,954£35,...\n",
       "Name: award_amount, dtype: object"
      ]
     },
     "metadata": {},
     "output_type": "display_data"
    }
   ],
   "source": [
    "#1.2 Distribution of awards by discipline\n",
    "discipline_counts = df_eda['main_discipline'].value_counts()\n",
    "discipline_funding = df_eda.groupby('main_discipline')['award_amount'].sum().sort_values(ascending=False)\n",
    "\n",
    "#print(f\" Whats going on? \\n{discipline_counts}, \\n{discipline_funding}\")\n",
    "display(discipline_counts)\n",
    "display(discipline_funding)\n"
   ]
  },
  {
   "cell_type": "code",
   "execution_count": 59,
   "id": "4bfa6aed",
   "metadata": {},
   "outputs": [
    {
     "data": {
      "image/png": "[encoded data removed]",
      "text/plain": [
       "<Figure size 1200x800 with 1 Axes>"
      ]
     },
     "metadata": {},
     "output_type": "display_data"
    }
   ],
   "source": [
    "# Visualization: Bar chart of award counts by discipline\n",
    "plt.figure(figsize=(12, 8))\n",
    "sns.barplot(x=discipline_counts.values, y=discipline_counts.index)\n",
    "plt.title('Number of Awards by Discipline')\n",
    "plt.xlabel('Number of Awards')\n",
    "plt.tight_layout()\n",
    "plt.show()"
   ]
  },
  {
   "cell_type": "code",
   "execution_count": null,
   "id": "34263148",
   "metadata": {},
   "outputs": [
    {
     "data": {
      "application/vnd.plotly.v1+json": {
       "config": {
        "plotlyServerURL": "https://plot.ly"
       },
       "data": [
        {
         "branchvalues": "total",
         "domain": {
          "x": [
           0,
           1
          ],
          "y": [
           0,
           1
          ]
         },
         "hovertemplate": "labels=%{label}<br>award_amount=%{value}<br>parent=%{parent}<br>id=%{id}<extra></extra>",
         "ids": [
          "Visual Arts",
          "Combined Arts",
          "Music",
          "Dance",
          "Theatre",
          "Literature",
          "Libraries",
          "Museums",
          "Digital Arts",
          "Not Discipline Specific",
          "Other/Not Known"
         ],
         "labels": [
          "Visual Arts",
          "Combined Arts",
          "Music",
          "Dance",
          "Theatre",
          "Literature",
          "Libraries",
          "Museums",
          "Digital Arts",
          "Not Discipline Specific",
          "Other/Not Known"
         ],
         "name": "",
         "parents": [
          "",
          "",
          "",
          "",
          "",
          "",
          "",
          "",
          "",
          "",
          ""
         ],
         "type": "treemap",
         "values": {
          "bdata": "AAAAdGnqiEEAAAANpkeSQQAAALb3aYxBAAAAOJZGgkEAAACqceCaQQAAAGRllHdBAAAAYH+3SEEAAACQlqVVQQAAAIAbXylBAAAAUK7dVEEAAAAAQHLkQA==",
          "dtype": "f8"
         }
        }
       ],
       "layout": {
        "legend": {
         "tracegroupgap": 0
        },
        "template": {
         "data": {
          "bar": [
           {
            "error_x": {
             "color": "#2a3f5f"
            },
            "error_y": {
             "color": "#2a3f5f"
            },
            "marker": {
             "line": {
              "color": "#E5ECF6",
              "width": 0.5
             },
             "pattern": {
              "fillmode": "overlay",
              "size": 10,
              "solidity": 0.2
             }
            },
            "type": "bar"
           }
          ],
          "barpolar": [
           {
            "marker": {
             "line": {
              "color": "#E5ECF6",
              "width": 0.5
             },
             "pattern": {
              "fillmode": "overlay",
              "size": 10,
              "solidity": 0.2
             }
            },
            "type": "barpolar"
           }
          ],
          "carpet": [
           {
            "aaxis": {
             "endlinecolor": "#2a3f5f",
             "gridcolor": "white",
             "linecolor": "white",
             "minorgridcolor": "white",
             "startlinecolor": "#2a3f5f"
            },
            "baxis": {
             "endlinecolor": "#2a3f5f",
             "gridcolor": "white",
             "linecolor": "white",
             "minorgridcolor": "white",
             "startlinecolor": "#2a3f5f"
            },
            "type": "carpet"
           }
          ],
          "choropleth": [
           {
            "colorbar": {
             "outlinewidth": 0,
             "ticks": ""
            },
            "type": "choropleth"
           }
          ],
          "contour": [
           {
            "colorbar": {
             "outlinewidth": 0,
             "ticks": ""
            },
            "colorscale": [
             [
              0,
              "#0d0887"
             ],
             [
              0.1111111111111111,
              "#46039f"
             ],
             [
              0.2222222222222222,
              "#7201a8"
             ],
             [
              0.3333333333333333,
              "#9c179e"
             ],
             [
              0.4444444444444444,
              "#bd3786"
             ],
             [
              0.5555555555555556,
              "#d8576b"
             ],
             [
              0.6666666666666666,
              "#ed7953"
             ],
             [
              0.7777777777777778,
              "#fb9f3a"
             ],
             [
              0.8888888888888888,
              "#fdca26"
             ],
             [
              1,
              "#f0f921"
             ]
            ],
            "type": "contour"
           }
          ],
          "contourcarpet": [
           {
            "colorbar": {
             "outlinewidth": 0,
             "ticks": ""
            },
            "type": "contourcarpet"
           }
          ],
          "heatmap": [
           {
            "colorbar": {
             "outlinewidth": 0,
             "ticks": ""
            },
            "colorscale": [
             [
              0,
              "#0d0887"
             ],
             [
              0.1111111111111111,
              "#46039f"
             ],
             [
              0.2222222222222222,
              "#7201a8"
             ],
             [
              0.3333333333333333,
              "#9c179e"
             ],
             [
              0.4444444444444444,
              "#bd3786"
             ],
             [
              0.5555555555555556,
              "#d8576b"
             ],
             [
              0.6666666666666666,
              "#ed7953"
             ],
             [
              0.7777777777777778,
              "#fb9f3a"
             ],
             [
              0.8888888888888888,
              "#fdca26"
             ],
             [
              1,
              "#f0f921"
             ]
            ],
            "type": "heatmap"
           }
          ],
          "histogram": [
           {
            "marker": {
             "pattern": {
              "fillmode": "overlay",
              "size": 10,
              "solidity": 0.2
             }
            },
            "type": "histogram"
           }
          ],
          "histogram2d": [
           {
            "colorbar": {
             "outlinewidth": 0,
             "ticks": ""
            },
            "colorscale": [
             [
              0,
              "#0d0887"
             ],
             [
              0.1111111111111111,
              "#46039f"
             ],
             [
              0.2222222222222222,
              "#7201a8"
             ],
             [
              0.3333333333333333,
              "#9c179e"
             ],
             [
              0.4444444444444444,
              "#bd3786"
             ],
             [
              0.5555555555555556,
              "#d8576b"
             ],
             [
              0.6666666666666666,
              "#ed7953"
             ],
             [
              0.7777777777777778,
              "#fb9f3a"
             ],
             [
              0.8888888888888888,
              "#fdca26"
             ],
             [
              1,
              "#f0f921"
             ]
            ],
            "type": "histogram2d"
           }
          ],
          "histogram2dcontour": [
           {
            "colorbar": {
             "outlinewidth": 0,
             "ticks": ""
            },
            "colorscale": [
             [
              0,
              "#0d0887"
             ],
             [
              0.1111111111111111,
              "#46039f"
             ],
             [
              0.2222222222222222,
              "#7201a8"
             ],
             [
              0.3333333333333333,
              "#9c179e"
             ],
             [
              0.4444444444444444,
              "#bd3786"
             ],
             [
              0.5555555555555556,
              "#d8576b"
             ],
             [
              0.6666666666666666,
              "#ed7953"
             ],
             [
              0.7777777777777778,
              "#fb9f3a"
             ],
             [
              0.8888888888888888,
              "#fdca26"
             ],
             [
              1,
              "#f0f921"
             ]
            ],
            "type": "histogram2dcontour"
           }
          ],
          "mesh3d": [
           {
            "colorbar": {
             "outlinewidth": 0,
             "ticks": ""
            },
            "type": "mesh3d"
           }
          ],
          "parcoords": [
           {
            "line": {
             "colorbar": {
              "outlinewidth": 0,
              "ticks": ""
             }
            },
            "type": "parcoords"
           }
          ],
          "pie": [
           {
            "automargin": true,
            "type": "pie"
           }
          ],
          "scatter": [
           {
            "fillpattern": {
             "fillmode": "overlay",
             "size": 10,
             "solidity": 0.2
            },
            "type": "scatter"
           }
          ],
          "scatter3d": [
           {
            "line": {
             "colorbar": {
              "outlinewidth": 0,
              "ticks": ""
             }
            },
            "marker": {
             "colorbar": {
              "outlinewidth": 0,
              "ticks": ""
             }
            },
            "type": "scatter3d"
           }
          ],
          "scattercarpet": [
           {
            "marker": {
             "colorbar": {
              "outlinewidth": 0,
              "ticks": ""
             }
            },
            "type": "scattercarpet"
           }
          ],
          "scattergeo": [
           {
            "marker": {
             "colorbar": {
              "outlinewidth": 0,
              "ticks": ""
             }
            },
            "type": "scattergeo"
           }
          ],
          "scattergl": [
           {
            "marker": {
             "colorbar": {
              "outlinewidth": 0,
              "ticks": ""
             }
            },
            "type": "scattergl"
           }
          ],
          "scattermap": [
           {
            "marker": {
             "colorbar": {
              "outlinewidth": 0,
              "ticks": ""
             }
            },
            "type": "scattermap"
           }
          ],
          "scattermapbox": [
           {
            "marker": {
             "colorbar": {
              "outlinewidth": 0,
              "ticks": ""
             }
            },
            "type": "scattermapbox"
           }
          ],
          "scatterpolar": [
           {
            "marker": {
             "colorbar": {
              "outlinewidth": 0,
              "ticks": ""
             }
            },
            "type": "scatterpolar"
           }
          ],
          "scatterpolargl": [
           {
            "marker": {
             "colorbar": {
              "outlinewidth": 0,
              "ticks": ""
             }
            },
            "type": "scatterpolargl"
           }
          ],
          "scatterternary": [
           {
            "marker": {
             "colorbar": {
              "outlinewidth": 0,
              "ticks": ""
             }
            },
            "type": "scatterternary"
           }
          ],
          "surface": [
           {
            "colorbar": {
             "outlinewidth": 0,
             "ticks": ""
            },
            "colorscale": [
             [
              0,
              "#0d0887"
             ],
             [
              0.1111111111111111,
              "#46039f"
             ],
             [
              0.2222222222222222,
              "#7201a8"
             ],
             [
              0.3333333333333333,
              "#9c179e"
             ],
             [
              0.4444444444444444,
              "#bd3786"
             ],
             [
              0.5555555555555556,
              "#d8576b"
             ],
             [
              0.6666666666666666,
              "#ed7953"
             ],
             [
              0.7777777777777778,
              "#fb9f3a"
             ],
             [
              0.8888888888888888,
              "#fdca26"
             ],
             [
              1,
              "#f0f921"
             ]
            ],
            "type": "surface"
           }
          ],
          "table": [
           {
            "cells": {
             "fill": {
              "color": "#EBF0F8"
             },
             "line": {
              "color": "white"
             }
            },
            "header": {
             "fill": {
              "color": "#C8D4E3"
             },
             "line": {
              "color": "white"
             }
            },
            "type": "table"
           }
          ]
         },
         "layout": {
          "annotationdefaults": {
           "arrowcolor": "#2a3f5f",
           "arrowhead": 0,
           "arrowwidth": 1
          },
          "autotypenumbers": "strict",
          "coloraxis": {
           "colorbar": {
            "outlinewidth": 0,
            "ticks": ""
           }
          },
          "colorscale": {
           "diverging": [
            [
             0,
             "#8e0152"
            ],
            [
             0.1,
             "#c51b7d"
            ],
            [
             0.2,
             "#de77ae"
            ],
            [
             0.3,
             "#f1b6da"
            ],
            [
             0.4,
             "#fde0ef"
            ],
            [
             0.5,
             "#f7f7f7"
            ],
            [
             0.6,
             "#e6f5d0"
            ],
            [
             0.7,
             "#b8e186"
            ],
            [
             0.8,
             "#7fbc41"
            ],
            [
             0.9,
             "#4d9221"
            ],
            [
             1,
             "#276419"
            ]
           ],
           "sequential": [
            [
             0,
             "#0d0887"
            ],
            [
             0.1111111111111111,
             "#46039f"
            ],
            [
             0.2222222222222222,
             "#7201a8"
            ],
            [
             0.3333333333333333,
             "#9c179e"
            ],
            [
             0.4444444444444444,
             "#bd3786"
            ],
            [
             0.5555555555555556,
             "#d8576b"
            ],
            [
             0.6666666666666666,
             "#ed7953"
            ],
            [
             0.7777777777777778,
             "#fb9f3a"
            ],
            [
             0.8888888888888888,
             "#fdca26"
            ],
            [
             1,
             "#f0f921"
            ]
           ],
           "sequentialminus": [
            [
             0,
             "#0d0887"
            ],
            [
             0.1111111111111111,
             "#46039f"
            ],
            [
             0.2222222222222222,
             "#7201a8"
            ],
            [
             0.3333333333333333,
             "#9c179e"
            ],
            [
             0.4444444444444444,
             "#bd3786"
            ],
            [
             0.5555555555555556,
             "#d8576b"
            ],
            [
             0.6666666666666666,
             "#ed7953"
            ],
            [
             0.7777777777777778,
             "#fb9f3a"
            ],
            [
             0.8888888888888888,
             "#fdca26"
            ],
            [
             1,
             "#f0f921"
            ]
           ]
          },
          "colorway": [
           "#636efa",
           "#EF553B",
           "#00cc96",
           "#ab63fa",
           "#FFA15A",
           "#19d3f3",
           "#FF6692",
           "#B6E880",
           "#FF97FF",
           "#FECB52"
          ],
          "font": {
           "color": "#2a3f5f"
          },
          "geo": {
           "bgcolor": "white",
           "lakecolor": "white",
           "landcolor": "#E5ECF6",
           "showlakes": true,
           "showland": true,
           "subunitcolor": "white"
          },
          "hoverlabel": {
           "align": "left"
          },
          "hovermode": "closest",
          "mapbox": {
           "style": "light"
          },
          "paper_bgcolor": "white",
          "plot_bgcolor": "#E5ECF6",
          "polar": {
           "angularaxis": {
            "gridcolor": "white",
            "linecolor": "white",
            "ticks": ""
           },
           "bgcolor": "#E5ECF6",
           "radialaxis": {
            "gridcolor": "white",
            "linecolor": "white",
            "ticks": ""
           }
          },
          "scene": {
           "xaxis": {
            "backgroundcolor": "#E5ECF6",
            "gridcolor": "white",
            "gridwidth": 2,
            "linecolor": "white",
            "showbackground": true,
            "ticks": "",
            "zerolinecolor": "white"
           },
           "yaxis": {
            "backgroundcolor": "#E5ECF6",
            "gridcolor": "white",
            "gridwidth": 2,
            "linecolor": "white",
            "showbackground": true,
            "ticks": "",
            "zerolinecolor": "white"
           },
           "zaxis": {
            "backgroundcolor": "#E5ECF6",
            "gridcolor": "white",
            "gridwidth": 2,
            "linecolor": "white",
            "showbackground": true,
            "ticks": "",
            "zerolinecolor": "white"
           }
          },
          "shapedefaults": {
           "line": {
            "color": "#2a3f5f"
           }
          },
          "ternary": {
           "aaxis": {
            "gridcolor": "white",
            "linecolor": "white",
            "ticks": ""
           },
           "baxis": {
            "gridcolor": "white",
            "linecolor": "white",
            "ticks": ""
           },
           "bgcolor": "#E5ECF6",
           "caxis": {
            "gridcolor": "white",
            "linecolor": "white",
            "ticks": ""
           }
          },
          "title": {
           "x": 0.05
          },
          "xaxis": {
           "automargin": true,
           "gridcolor": "white",
           "linecolor": "white",
           "ticks": "",
           "title": {
            "standoff": 15
           },
           "zerolinecolor": "white",
           "zerolinewidth": 2
          },
          "yaxis": {
           "automargin": true,
           "gridcolor": "white",
           "linecolor": "white",
           "ticks": "",
           "title": {
            "standoff": 15
           },
           "zerolinecolor": "white",
           "zerolinewidth": 2
          }
         }
        },
        "title": {
         "text": "Funding Distribution Across Disciplines"
        }
       }
      }
     },
     "metadata": {},
     "output_type": "display_data"
    }
   ],
   "source": [
    "# Ensure there are no missing values in the 'main_discipline' column\n",
    "df_eda_filtered = df_eda.dropna(subset=['main_discipline'])\n",
    "\n",
    "# Visualization: Treemap of funding by discipline\n",
    "fig = px.treemap(df_eda_filtered, path=['main_discipline'], values='award_amount',\n",
    "                 title='Funding Distribution Across Disciplines')\n",
    "fig.show()"
   ]
  },
  {
   "cell_type": "code",
   "execution_count": null,
   "id": "cb1549cc",
   "metadata": {},
   "outputs": [
    {
     "data": {
      "application/vnd.plotly.v1+json": {
       "config": {
        "plotlyServerURL": "https://plot.ly"
       },
       "data": [
        {
         "coloraxis": "coloraxis",
         "hovertemplate": "ACE area: %{x}<br>Main discipline: %{y}<br>Award Amount (£): %{z}<extra></extra>",
         "name": "0",
         "texttemplate": "%{z:.2s}",
         "type": "heatmap",
         "x": [
          "London",
          "Midlands",
          "North",
          "South East",
          "South West"
         ],
         "xaxis": "x",
         "y": [
          "Theatre",
          "Combined Arts",
          "Music",
          "Visual Arts",
          "Dance",
          "Literature",
          "Museums",
          "Not Discipline Specific"
         ],
         "yaxis": "y",
         "z": {
          "bdata": "AAAAtGaEfEEAAACYustrQQAAAMh/mHpBAAAADDuBd0EAAACoj/ttQQAAADD37GxBAAAAyAc0akEAAAB04cB1QQAAAOjjrmxBAAAAoIrrYkEAAABoduBxQQAAAFCe52BBAAAAyOlAakEAAADYGalnQQAAADCgKlZBAAAAsLlaZ0EAAACgxRtiQQAAAAjdKWpBAAAAKNlhY0EAAACg4E5ZQQAAAPh91GRBAAAAIJQwU0EAAACIiahhQQAAAFDSMGJBAAAAANRQS0EAAADwRTJbQQAAAGB/DVFBAAAAQMMsUUEAAACwrYxTQQAAAKC+sEpBAAAAgOj4JkEAAAAA0kQxQQAAAMDORjtBAAAAQKzRMEEAAAAAMnkrQQAAAECeXDVBAAAAgI9OK0EAAADABfcxQQAAAEDTqjNBAAAAgPShJUE=",
          "dtype": "f8",
          "shape": "8, 5"
         }
        }
       ],
       "layout": {
        "coloraxis": {
         "colorbar": {
          "title": {
           "text": "Award Amount (£)"
          }
         },
         "colorscale": [
          [
           0,
           "#440154"
          ],
          [
           0.1111111111111111,
           "#482878"
          ],
          [
           0.2222222222222222,
           "#3e4989"
          ],
          [
           0.3333333333333333,
           "#31688e"
          ],
          [
           0.4444444444444444,
           "#26828e"
          ],
          [
           0.5555555555555556,
           "#1f9e89"
          ],
          [
           0.6666666666666666,
           "#35b779"
          ],
          [
           0.7777777777777778,
           "#6ece58"
          ],
          [
           0.8888888888888888,
           "#b5de2b"
          ],
          [
           1,
           "#fde725"
          ]
         ]
        },
        "height": 700,
        "margin": {
         "b": 50,
         "l": 150,
         "r": 50,
         "t": 50
        },
        "template": {
         "data": {
          "bar": [
           {
            "error_x": {
             "color": "#2a3f5f"
            },
            "error_y": {
             "color": "#2a3f5f"
            },
            "marker": {
             "line": {
              "color": "#E5ECF6",
              "width": 0.5
             },
             "pattern": {
              "fillmode": "overlay",
              "size": 10,
              "solidity": 0.2
             }
            },
            "type": "bar"
           }
          ],
          "barpolar": [
           {
            "marker": {
             "line": {
              "color": "#E5ECF6",
              "width": 0.5
             },
             "pattern": {
              "fillmode": "overlay",
              "size": 10,
              "solidity": 0.2
             }
            },
            "type": "barpolar"
           }
          ],
          "carpet": [
           {
            "aaxis": {
             "endlinecolor": "#2a3f5f",
             "gridcolor": "white",
             "linecolor": "white",
             "minorgridcolor": "white",
             "startlinecolor": "#2a3f5f"
            },
            "baxis": {
             "endlinecolor": "#2a3f5f",
             "gridcolor": "white",
             "linecolor": "white",
             "minorgridcolor": "white",
             "startlinecolor": "#2a3f5f"
            },
            "type": "carpet"
           }
          ],
          "choropleth": [
           {
            "colorbar": {
             "outlinewidth": 0,
             "ticks": ""
            },
            "type": "choropleth"
           }
          ],
          "contour": [
           {
            "colorbar": {
             "outlinewidth": 0,
             "ticks": ""
            },
            "colorscale": [
             [
              0,
              "#0d0887"
             ],
             [
              0.1111111111111111,
              "#46039f"
             ],
             [
              0.2222222222222222,
              "#7201a8"
             ],
             [
              0.3333333333333333,
              "#9c179e"
             ],
             [
              0.4444444444444444,
              "#bd3786"
             ],
             [
              0.5555555555555556,
              "#d8576b"
             ],
             [
              0.6666666666666666,
              "#ed7953"
             ],
             [
              0.7777777777777778,
              "#fb9f3a"
             ],
             [
              0.8888888888888888,
              "#fdca26"
             ],
             [
              1,
              "#f0f921"
             ]
            ],
            "type": "contour"
           }
          ],
          "contourcarpet": [
           {
            "colorbar": {
             "outlinewidth": 0,
             "ticks": ""
            },
            "type": "contourcarpet"
           }
          ],
          "heatmap": [
           {
            "colorbar": {
             "outlinewidth": 0,
             "ticks": ""
            },
            "colorscale": [
             [
              0,
              "#0d0887"
             ],
             [
              0.1111111111111111,
              "#46039f"
             ],
             [
              0.2222222222222222,
              "#7201a8"
             ],
             [
              0.3333333333333333,
              "#9c179e"
             ],
             [
              0.4444444444444444,
              "#bd3786"
             ],
             [
              0.5555555555555556,
              "#d8576b"
             ],
             [
              0.6666666666666666,
              "#ed7953"
             ],
             [
              0.7777777777777778,
              "#fb9f3a"
             ],
             [
              0.8888888888888888,
              "#fdca26"
             ],
             [
              1,
              "#f0f921"
             ]
            ],
            "type": "heatmap"
           }
          ],
          "histogram": [
           {
            "marker": {
             "pattern": {
              "fillmode": "overlay",
              "size": 10,
              "solidity": 0.2
             }
            },
            "type": "histogram"
           }
          ],
          "histogram2d": [
           {
            "colorbar": {
             "outlinewidth": 0,
             "ticks": ""
            },
            "colorscale": [
             [
              0,
              "#0d0887"
             ],
             [
              0.1111111111111111,
              "#46039f"
             ],
             [
              0.2222222222222222,
              "#7201a8"
             ],
             [
              0.3333333333333333,
              "#9c179e"
             ],
             [
              0.4444444444444444,
              "#bd3786"
             ],
             [
              0.5555555555555556,
              "#d8576b"
             ],
             [
              0.6666666666666666,
              "#ed7953"
             ],
             [
              0.7777777777777778,
              "#fb9f3a"
             ],
             [
              0.8888888888888888,
              "#fdca26"
             ],
             [
              1,
              "#f0f921"
             ]
            ],
            "type": "histogram2d"
           }
          ],
          "histogram2dcontour": [
           {
            "colorbar": {
             "outlinewidth": 0,
             "ticks": ""
            },
            "colorscale": [
             [
              0,
              "#0d0887"
             ],
             [
              0.1111111111111111,
              "#46039f"
             ],
             [
              0.2222222222222222,
              "#7201a8"
             ],
             [
              0.3333333333333333,
              "#9c179e"
             ],
             [
              0.4444444444444444,
              "#bd3786"
             ],
             [
              0.5555555555555556,
              "#d8576b"
             ],
             [
              0.6666666666666666,
              "#ed7953"
             ],
             [
              0.7777777777777778,
              "#fb9f3a"
             ],
             [
              0.8888888888888888,
              "#fdca26"
             ],
             [
              1,
              "#f0f921"
             ]
            ],
            "type": "histogram2dcontour"
           }
          ],
          "mesh3d": [
           {
            "colorbar": {
             "outlinewidth": 0,
             "ticks": ""
            },
            "type": "mesh3d"
           }
          ],
          "parcoords": [
           {
            "line": {
             "colorbar": {
              "outlinewidth": 0,
              "ticks": ""
             }
            },
            "type": "parcoords"
           }
          ],
          "pie": [
           {
            "automargin": true,
            "type": "pie"
           }
          ],
          "scatter": [
           {
            "fillpattern": {
             "fillmode": "overlay",
             "size": 10,
             "solidity": 0.2
            },
            "type": "scatter"
           }
          ],
          "scatter3d": [
           {
            "line": {
             "colorbar": {
              "outlinewidth": 0,
              "ticks": ""
             }
            },
            "marker": {
             "colorbar": {
              "outlinewidth": 0,
              "ticks": ""
             }
            },
            "type": "scatter3d"
           }
          ],
          "scattercarpet": [
           {
            "marker": {
             "colorbar": {
              "outlinewidth": 0,
              "ticks": ""
             }
            },
            "type": "scattercarpet"
           }
          ],
          "scattergeo": [
           {
            "marker": {
             "colorbar": {
              "outlinewidth": 0,
              "ticks": ""
             }
            },
            "type": "scattergeo"
           }
          ],
          "scattergl": [
           {
            "marker": {
             "colorbar": {
              "outlinewidth": 0,
              "ticks": ""
             }
            },
            "type": "scattergl"
           }
          ],
          "scattermap": [
           {
            "marker": {
             "colorbar": {
              "outlinewidth": 0,
              "ticks": ""
             }
            },
            "type": "scattermap"
           }
          ],
          "scattermapbox": [
           {
            "marker": {
             "colorbar": {
              "outlinewidth": 0,
              "ticks": ""
             }
            },
            "type": "scattermapbox"
           }
          ],
          "scatterpolar": [
           {
            "marker": {
             "colorbar": {
              "outlinewidth": 0,
              "ticks": ""
             }
            },
            "type": "scatterpolar"
           }
          ],
          "scatterpolargl": [
           {
            "marker": {
             "colorbar": {
              "outlinewidth": 0,
              "ticks": ""
             }
            },
            "type": "scatterpolargl"
           }
          ],
          "scatterternary": [
           {
            "marker": {
             "colorbar": {
              "outlinewidth": 0,
              "ticks": ""
             }
            },
            "type": "scatterternary"
           }
          ],
          "surface": [
           {
            "colorbar": {
             "outlinewidth": 0,
             "ticks": ""
            },
            "colorscale": [
             [
              0,
              "#0d0887"
             ],
             [
              0.1111111111111111,
              "#46039f"
             ],
             [
              0.2222222222222222,
              "#7201a8"
             ],
             [
              0.3333333333333333,
              "#9c179e"
             ],
             [
              0.4444444444444444,
              "#bd3786"
             ],
             [
              0.5555555555555556,
              "#d8576b"
             ],
             [
              0.6666666666666666,
              "#ed7953"
             ],
             [
              0.7777777777777778,
              "#fb9f3a"
             ],
             [
              0.8888888888888888,
              "#fdca26"
             ],
             [
              1,
              "#f0f921"
             ]
            ],
            "type": "surface"
           }
          ],
          "table": [
           {
            "cells": {
             "fill": {
              "color": "#EBF0F8"
             },
             "line": {
              "color": "white"
             }
            },
            "header": {
             "fill": {
              "color": "#C8D4E3"
             },
             "line": {
              "color": "white"
             }
            },
            "type": "table"
           }
          ]
         },
         "layout": {
          "annotationdefaults": {
           "arrowcolor": "#2a3f5f",
           "arrowhead": 0,
           "arrowwidth": 1
          },
          "autotypenumbers": "strict",
          "coloraxis": {
           "colorbar": {
            "outlinewidth": 0,
            "ticks": ""
           }
          },
          "colorscale": {
           "diverging": [
            [
             0,
             "#8e0152"
            ],
            [
             0.1,
             "#c51b7d"
            ],
            [
             0.2,
             "#de77ae"
            ],
            [
             0.3,
             "#f1b6da"
            ],
            [
             0.4,
             "#fde0ef"
            ],
            [
             0.5,
             "#f7f7f7"
            ],
            [
             0.6,
             "#e6f5d0"
            ],
            [
             0.7,
             "#b8e186"
            ],
            [
             0.8,
             "#7fbc41"
            ],
            [
             0.9,
             "#4d9221"
            ],
            [
             1,
             "#276419"
            ]
           ],
           "sequential": [
            [
             0,
             "#0d0887"
            ],
            [
             0.1111111111111111,
             "#46039f"
            ],
            [
             0.2222222222222222,
             "#7201a8"
            ],
            [
             0.3333333333333333,
             "#9c179e"
            ],
            [
             0.4444444444444444,
             "#bd3786"
            ],
            [
             0.5555555555555556,
             "#d8576b"
            ],
            [
             0.6666666666666666,
             "#ed7953"
            ],
            [
             0.7777777777777778,
             "#fb9f3a"
            ],
            [
             0.8888888888888888,
             "#fdca26"
            ],
            [
             1,
             "#f0f921"
            ]
           ],
           "sequentialminus": [
            [
             0,
             "#0d0887"
            ],
            [
             0.1111111111111111,
             "#46039f"
            ],
            [
             0.2222222222222222,
             "#7201a8"
            ],
            [
             0.3333333333333333,
             "#9c179e"
            ],
            [
             0.4444444444444444,
             "#bd3786"
            ],
            [
             0.5555555555555556,
             "#d8576b"
            ],
            [
             0.6666666666666666,
             "#ed7953"
            ],
            [
             0.7777777777777778,
             "#fb9f3a"
            ],
            [
             0.8888888888888888,
             "#fdca26"
            ],
            [
             1,
             "#f0f921"
            ]
           ]
          },
          "colorway": [
           "#636efa",
           "#EF553B",
           "#00cc96",
           "#ab63fa",
           "#FFA15A",
           "#19d3f3",
           "#FF6692",
           "#B6E880",
           "#FF97FF",
           "#FECB52"
          ],
          "font": {
           "color": "#2a3f5f"
          },
          "geo": {
           "bgcolor": "white",
           "lakecolor": "white",
           "landcolor": "#E5ECF6",
           "showlakes": true,
           "showland": true,
           "subunitcolor": "white"
          },
          "hoverlabel": {
           "align": "left"
          },
          "hovermode": "closest",
          "mapbox": {
           "style": "light"
          },
          "paper_bgcolor": "white",
          "plot_bgcolor": "#E5ECF6",
          "polar": {
           "angularaxis": {
            "gridcolor": "white",
            "linecolor": "white",
            "ticks": ""
           },
           "bgcolor": "#E5ECF6",
           "radialaxis": {
            "gridcolor": "white",
            "linecolor": "white",
            "ticks": ""
           }
          },
          "scene": {
           "xaxis": {
            "backgroundcolor": "#E5ECF6",
            "gridcolor": "white",
            "gridwidth": 2,
            "linecolor": "white",
            "showbackground": true,
            "ticks": "",
            "zerolinecolor": "white"
           },
           "yaxis": {
            "backgroundcolor": "#E5ECF6",
            "gridcolor": "white",
            "gridwidth": 2,
            "linecolor": "white",
            "showbackground": true,
            "ticks": "",
            "zerolinecolor": "white"
           },
           "zaxis": {
            "backgroundcolor": "#E5ECF6",
            "gridcolor": "white",
            "gridwidth": 2,
            "linecolor": "white",
            "showbackground": true,
            "ticks": "",
            "zerolinecolor": "white"
           }
          },
          "shapedefaults": {
           "line": {
            "color": "#2a3f5f"
           }
          },
          "ternary": {
           "aaxis": {
            "gridcolor": "white",
            "linecolor": "white",
            "ticks": ""
           },
           "baxis": {
            "gridcolor": "white",
            "linecolor": "white",
            "ticks": ""
           },
           "bgcolor": "#E5ECF6",
           "caxis": {
            "gridcolor": "white",
            "linecolor": "white",
            "ticks": ""
           }
          },
          "title": {
           "x": 0.05
          },
          "xaxis": {
           "automargin": true,
           "gridcolor": "white",
           "linecolor": "white",
           "ticks": "",
           "title": {
            "standoff": 15
           },
           "zerolinecolor": "white",
           "zerolinewidth": 2
          },
          "yaxis": {
           "automargin": true,
           "gridcolor": "white",
           "linecolor": "white",
           "ticks": "",
           "title": {
            "standoff": 15
           },
           "zerolinecolor": "white",
           "zerolinewidth": 2
          }
         }
        },
        "title": {
         "text": "Funding Distribution by Discipline Across ACE Areas"
        },
        "xaxis": {
         "anchor": "y",
         "constrain": "domain",
         "domain": [
          0,
          1
         ],
         "scaleanchor": "y",
         "title": {
          "text": "ACE area"
         }
        },
        "yaxis": {
         "anchor": "x",
         "autorange": "reversed",
         "constrain": "domain",
         "domain": [
          0,
          1
         ],
         "tickmode": "array",
         "ticktext": [
          "Theatre",
          "Combined Arts",
          "Music",
          "Visual Arts",
          "Dance",
          "Literature",
          "Museums",
          "Not Discipline Specific"
         ],
         "tickvals": [
          0,
          1,
          2,
          3,
          4,
          5,
          6,
          7
         ],
         "title": {
          "text": "Main discipline"
         }
        }
       }
      }
     },
     "metadata": {},
     "output_type": "display_data"
    }
   ],
   "source": [
    "# Get the data from the sheet\n",
    "df_vis = df_eda.copy()\n",
    "#df_pie_chart = df_vis(first_row_header=True)\n",
    "#df_htmp = []\n",
    "# Ensure Award amount is treated as numeric\n",
    "df_vis['award_amount'] = pd.to_numeric(df_vis['award_amount'], errors='coerce')\n",
    "\n",
    "# Group by ACE Area and Main discipline, then sum the Award amounts\n",
    "discipline_by_area = df_vis.groupby(['ace_area', 'main_discipline'])['award_amount'].sum().reset_index()\n",
    "\n",
    "# Create a pivot table for easier visualization\n",
    "pivot_data = discipline_by_area.pivot(index='main_discipline', columns='ace_area', values='award_amount').fillna(0)\n",
    "\n",
    "# Get the top disciplines by total award amount to keep the chart readable\n",
    "top_disciplines = discipline_by_area.groupby('main_discipline')['award_amount'].sum().nlargest(8).index.tolist()\n",
    "pivot_filtered = pivot_data.loc[top_disciplines]\n",
    "\n",
    "# Create heatmap\n",
    "fig = px.imshow(pivot_filtered,\n",
    "                labels=dict(x=\"ACE area\", y=\"Main discipline\", color=\"Award Amount (£)\"),\n",
    "                title=\"Funding Distribution by Discipline Across ACE Areas\",\n",
    "                color_continuous_scale=\"Viridis\",\n",
    "                text_auto='.2s')  # Show values in cells with abbreviated format\n",
    "\n",
    "# Update layout for better readability\n",
    "fig.update_layout(\n",
    "    height=700,\n",
    "    margin=dict(l=150, r=50, t=50, b=50),\n",
    "    coloraxis_colorbar=dict(title=\"Award Amount (£)\")\n",
    ")\n",
    "\n",
    "# Improve y-axis readability\n",
    "fig.update_yaxes(\n",
    "    tickmode=\"array\",\n",
    "    tickvals=list(range(len(top_disciplines))),\n",
    "    ticktext=top_disciplines\n",
    ")\n",
    "\n",
    "fig.show()"
   ]
  },
  {
   "cell_type": "code",
   "execution_count": null,
   "id": "8a48e732",
   "metadata": {},
   "outputs": [],
   "source": []
  },
  {
   "cell_type": "markdown",
   "id": "286d09e6",
   "metadata": {},
   "source": [
    "2. Where is it being funded?: Examines geographic patterns using:\n",
    "\n",
    "Bar charts of funding by Arts Council area\n",
    "Visualization of top local authorities\n",
    "Choropleth maps showing regional distribution\n",
    "Heat maps of funding density"
   ]
  },
  {
   "cell_type": "code",
   "execution_count": null,
   "id": "389984fd",
   "metadata": {},
   "outputs": [
    {
     "data": {
      "image/png": "[encoded data removed]",
      "text/plain": [
       "<Figure size 1200x800 with 1 Axes>"
      ]
     },
     "metadata": {},
     "output_type": "display_data"
    }
   ],
   "source": [
    "# 2. Geographic Analysis - Where is it being funded?\n",
    "\n",
    "# 2.1 Distribution by Arts Council area\n",
    "council_funding = df_vis.groupby('ace_area')['award_amount'].agg(['sum', 'count', 'mean'])\n",
    "council_funding = council_funding.sort_values('sum', ascending=False)\n",
    "\n",
    "# Visualization: Horizontal bar chart of funding by Arts Council area\n",
    "plt.figure(figsize=(12, 8))\n",
    "council_funding['sum'].plot(kind='barh')\n",
    "plt.title('Total Funding by Arts Council Area')\n",
    "plt.xlabel('Total Award Amount')\n",
    "plt.tight_layout()\n",
    "plt.show()"
   ]
  },
  {
   "cell_type": "code",
   "execution_count": null,
   "id": "b264dd9d",
   "metadata": {},
   "outputs": [
    {
     "data": {
      "image/png": "[encoded data removed]",
      "text/plain": [
       "<Figure size 1400x800 with 1 Axes>"
      ]
     },
     "metadata": {},
     "output_type": "display_data"
    }
   ],
   "source": [
    "# 2.2 Distribution by Local Authority\n",
    "authority_funding = df.groupby('local_authority')['award_amount'].sum().sort_values(ascending=False)\n",
    "top_authorities = authority_funding.head(20)\n",
    "\n",
    "# Visualization: Bar chart of top 20 local authorities by funding\n",
    "plt.figure(figsize=(14, 8))\n",
    "top_authorities.plot(kind='bar')\n",
    "plt.title('Top 20 Local Authorities by Total Funding')\n",
    "plt.xlabel('Local Authority')\n",
    "plt.ylabel('Total Award Amount')\n",
    "plt.xticks(rotation=45, ha='right')\n",
    "plt.tight_layout()\n",
    "plt.show()"
   ]
  },
  {
   "cell_type": "code",
   "execution_count": 60,
   "id": "94df5bb8",
   "metadata": {},
   "outputs": [
    {
     "ename": "NameError",
     "evalue": "name 'gpd' is not defined",
     "output_type": "error",
     "traceback": [
      "\u001b[31m---------------------------------------------------------------------------\u001b[39m",
      "\u001b[31mNameError\u001b[39m                                 Traceback (most recent call last)",
      "\u001b[36mCell\u001b[39m\u001b[36m \u001b[39m\u001b[32mIn[60]\u001b[39m\u001b[32m, line 3\u001b[39m\n\u001b[32m      1\u001b[39m \u001b[38;5;66;03m#2.3 Geographic Heat Map (requires UK shapefile)\u001b[39;00m\n\u001b[32m      2\u001b[39m \u001b[38;5;66;03m# Load UK shapefile (you'll need to download this)\u001b[39;00m\n\u001b[32m----> \u001b[39m\u001b[32m3\u001b[39m uk_gdf = \u001b[43mgpd\u001b[49m.read_file(\u001b[33m'\u001b[39m\u001b[33mUK_local_authorities.shp\u001b[39m\u001b[33m'\u001b[39m)\n\u001b[32m      5\u001b[39m \u001b[38;5;66;03m# Merge with our funding data\u001b[39;00m\n\u001b[32m      6\u001b[39m \u001b[38;5;66;03m# Note: This assumes the names match between datasets, may need to clean/map names\u001b[39;00m\n\u001b[32m      7\u001b[39m funding_geo = uk_gdf.merge(authority_funding.reset_index(), \n\u001b[32m      8\u001b[39m                            left_on=\u001b[33m'\u001b[39m\u001b[33mauthority_name\u001b[39m\u001b[33m'\u001b[39m, \n\u001b[32m      9\u001b[39m                            right_on=\u001b[33m'\u001b[39m\u001b[33mLocal authority\u001b[39m\u001b[33m'\u001b[39m, \n\u001b[32m     10\u001b[39m                            how=\u001b[33m'\u001b[39m\u001b[33mleft\u001b[39m\u001b[33m'\u001b[39m)\n",
      "\u001b[31mNameError\u001b[39m: name 'gpd' is not defined"
     ]
    }
   ],
   "source": [
    "#2.3 Geographic Heat Map (requires UK shapefile)\n",
    "# Load UK shapefile (you'll need to download this)\n",
    "uk_gdf = gpd.read_file('UK_local_authorities.shp')\n",
    "\n",
    "# Merge with our funding data\n",
    "# Note: This assumes the names match between datasets, may need to clean/map names\n",
    "funding_geo = uk_gdf.merge(authority_funding.reset_index(), \n",
    "                           left_on='authority_name', \n",
    "                           right_on='Local authority', \n",
    "                           how='left')"
   ]
  },
  {
   "cell_type": "code",
   "execution_count": 61,
   "id": "dbba21c8",
   "metadata": {},
   "outputs": [
    {
     "ename": "NameError",
     "evalue": "name 'funding_geo' is not defined",
     "output_type": "error",
     "traceback": [
      "\u001b[31m---------------------------------------------------------------------------\u001b[39m",
      "\u001b[31mNameError\u001b[39m                                 Traceback (most recent call last)",
      "\u001b[36mCell\u001b[39m\u001b[36m \u001b[39m\u001b[32mIn[61]\u001b[39m\u001b[32m, line 4\u001b[39m\n\u001b[32m      1\u001b[39m \u001b[38;5;66;03m#2.4 Create a Folium map\u001b[39;00m\n\u001b[32m      2\u001b[39m \u001b[38;5;66;03m# Create choropleth map\u001b[39;00m\n\u001b[32m      3\u001b[39m fig, ax = plt.subplots(\u001b[32m1\u001b[39m, \u001b[32m1\u001b[39m, figsize=(\u001b[32m15\u001b[39m, \u001b[32m10\u001b[39m))\n\u001b[32m----> \u001b[39m\u001b[32m4\u001b[39m \u001b[43mfunding_geo\u001b[49m.plot(column=\u001b[33m'\u001b[39m\u001b[33maward_amount\u001b[39m\u001b[33m'\u001b[39m, \n\u001b[32m      5\u001b[39m                  cmap=\u001b[33m'\u001b[39m\u001b[33mviridis\u001b[39m\u001b[33m'\u001b[39m, \n\u001b[32m      6\u001b[39m                  legend=\u001b[38;5;28;01mTrue\u001b[39;00m,\n\u001b[32m      7\u001b[39m                  legend_kwds={\u001b[33m'\u001b[39m\u001b[33mlabel\u001b[39m\u001b[33m'\u001b[39m: \u001b[33m\"\u001b[39m\u001b[33mAward Amount\u001b[39m\u001b[33m\"\u001b[39m},\n\u001b[32m      8\u001b[39m                  ax=ax)\n\u001b[32m      9\u001b[39m ax.set_title(\u001b[33m'\u001b[39m\u001b[33mFunding Distribution Across UK Local Authorities\u001b[39m\u001b[33m'\u001b[39m)\n\u001b[32m     10\u001b[39m plt.tight_layout()\n",
      "\u001b[31mNameError\u001b[39m: name 'funding_geo' is not defined"
     ]
    },
    {
     "data": {
      "image/png": "[encoded data removed]",
      "text/plain": [
       "<Figure size 1500x1000 with 1 Axes>"
      ]
     },
     "metadata": {},
     "output_type": "display_data"
    }
   ],
   "source": [
    "#2.4 Create a Folium map\n",
    "# Create choropleth map\n",
    "fig, ax = plt.subplots(1, 1, figsize=(15, 10))\n",
    "funding_geo.plot(column='award_amount', \n",
    "                 cmap='viridis', \n",
    "                 legend=True,\n",
    "                 legend_kwds={'label': \"Award Amount\"},\n",
    "                 ax=ax)\n",
    "ax.set_title('Funding Distribution Across UK Local Authorities')\n",
    "plt.tight_layout()\n",
    "plt.show()"
   ]
  },
  {
   "cell_type": "code",
   "execution_count": 72,
   "id": "66ad168e",
   "metadata": {},
   "outputs": [],
   "source": [
    "# Alternative: Interactive Folium map\n",
    "# Add placeholder latitude and longitude values for demonstration purposes\n",
    "# In a real scenario, you would use a geocoding library to populate these values based on 'local_authority'\n",
    "df_with_coords = df_eda.copy()\n",
    "df_with_coords['latitude'] = np.random.uniform(50, 60, size=len(df_with_coords))  # Random latitudes within the UK range\n",
    "df_with_coords['longitude'] = np.random.uniform(-8, 2, size=len(df_with_coords))  # Random longitudes within the UK range\n",
    "\n",
    "# Ensure 'award_amount' is numeric for the heatmap\n",
    "df_with_coords['award_amount'] = pd.to_numeric(df_with_coords['award_amount'].str.replace('£', '', regex=False).str.replace(',', '', regex=False), errors='coerce')\n",
    "\n",
    "# Create the Folium map\n",
    "m = folium.Map(location=[55, -3], zoom_start=5)  # Center of UK\n",
    "heat_data = [[row['latitude'], row['longitude'], row['award_amount']] \n",
    "             for _, row in df_with_coords.iterrows() if not pd.isnull(row['latitude']) and not pd.isnull(row['longitude']) and not pd.isnull(row['award_amount'])]\n",
    "HeatMap(heat_data).add_to(m)\n",
    "m.save('funding_heatmap.html')"
   ]
  },
  {
   "cell_type": "markdown",
   "id": "f0d7ec26",
   "metadata": {},
   "source": [
    "3. Timing Patterns: Analyzes when funding is awarded through:\n",
    "\n",
    "Time series plots showing trends\n",
    "Seasonal analysis by month and quarter"
   ]
  },
  {
   "cell_type": "code",
   "execution_count": 76,
   "id": "fa313e5e",
   "metadata": {},
   "outputs": [
    {
     "name": "stderr",
     "output_type": "stream",
     "text": [
      "/var/folders/c9/7_72dlr944l61btxxt5tkfd40000gp/T/ipykernel_2498/411674867.py:12: UserWarning: Could not infer format, so each element will be parsed individually, falling back to `dateutil`. To ensure parsing is consistent and as-expected, please specify a format.\n",
      "  df_time['award_date'] = pd.to_datetime(df_time['award_date'], errors='coerce')\n"
     ]
    },
    {
     "ename": "KeyError",
     "evalue": "\"The column 'award_amount' is not found in the DataFrame. Please check the column names.\"",
     "output_type": "error",
     "traceback": [
      "\u001b[31m---------------------------------------------------------------------------\u001b[39m",
      "\u001b[31mKeyError\u001b[39m                                  Traceback (most recent call last)",
      "\u001b[36mCell\u001b[39m\u001b[36m \u001b[39m\u001b[32mIn[76]\u001b[39m\u001b[32m, line 20\u001b[39m\n\u001b[32m     18\u001b[39m     df_time[\u001b[33m'\u001b[39m\u001b[33maward_amount\u001b[39m\u001b[33m'\u001b[39m] = df_time[\u001b[33m'\u001b[39m\u001b[33maward_amount\u001b[39m\u001b[33m'\u001b[39m].str.replace(\u001b[33m'\u001b[39m\u001b[33m£\u001b[39m\u001b[33m'\u001b[39m, \u001b[33m'\u001b[39m\u001b[33m'\u001b[39m, regex=\u001b[38;5;28;01mFalse\u001b[39;00m).str.replace(\u001b[33m'\u001b[39m\u001b[33m,\u001b[39m\u001b[33m'\u001b[39m, \u001b[33m'\u001b[39m\u001b[33m'\u001b[39m, regex=\u001b[38;5;28;01mFalse\u001b[39;00m).astype(\u001b[38;5;28mfloat\u001b[39m)\n\u001b[32m     19\u001b[39m \u001b[38;5;28;01melse\u001b[39;00m:\n\u001b[32m---> \u001b[39m\u001b[32m20\u001b[39m     \u001b[38;5;28;01mraise\u001b[39;00m \u001b[38;5;167;01mKeyError\u001b[39;00m(\u001b[33m\"\u001b[39m\u001b[33mThe column \u001b[39m\u001b[33m'\u001b[39m\u001b[33maward_amount\u001b[39m\u001b[33m'\u001b[39m\u001b[33m is not found in the DataFrame. Please check the column names.\u001b[39m\u001b[33m\"\u001b[39m)\n\u001b[32m     22\u001b[39m \u001b[38;5;66;03m# Drop rows where 'award_date' could not be converted\u001b[39;00m\n\u001b[32m     23\u001b[39m df_time = df_time.dropna(subset=[\u001b[33m'\u001b[39m\u001b[33maward_date\u001b[39m\u001b[33m'\u001b[39m])\n",
      "\u001b[31mKeyError\u001b[39m: \"The column 'award_amount' is not found in the DataFrame. Please check the column names.\""
     ]
    }
   ],
   "source": [
    "# 3. Temporal Analysis - Timing Patterns\n",
    "# Standardize column names to lowercase and strip spaces\n",
    "df.columns = df.columns.str.lower().str.strip()\n",
    "\n",
    "df_time = df.copy()\n",
    "\n",
    "# Ensure 'award_date' is in datetime format\n",
    "if 'award_date' in df_time.columns:\n",
    "    df_time['award_date'] = pd.to_datetime(df_time['award_date'], errors='coerce')\n",
    "elif 'award date' in df_time.columns:  # Handle alternative column name\n",
    "    df_time.rename(columns={'award date': 'award_date'}, inplace=True)\n",
    "    df_time['award_date'] = pd.to_datetime(df_time['award_date'], errors='coerce')\n",
    "else:\n",
    "    raise KeyError(\"The column 'award_date' is not found in the DataFrame. Please check the column names.\")\n",
    "\n",
    "# Ensure 'award_amount' exists and is numeric\n",
    "if 'award_amount' in df_time.columns:\n",
    "    df_time['award_amount'] = df_time['award_amount'].str.replace('£', '', regex=False).str.replace(',', '', regex=False).astype(float)\n",
    "else:\n",
    "    raise KeyError(\"The column 'award_amount' is not found in the DataFrame. Please check the column names.\")\n",
    "\n",
    "# Drop rows where 'award_date' could not be converted\n",
    "df_time = df_time.dropna(subset=['award_date'])\n",
    "\n",
    "# 3.1 Funding trends over time\n",
    "time_series = df_time.groupby(df_time['award_date'].dt.to_period('M'))['award_amount'].sum()\n",
    "time_series = time_series.reindex(pd.period_range(time_series.index.min(), \n",
    "                                                time_series.index.max(), \n",
    "                                                freq='M'))\n",
    "time_series = time_series.fillna(0)\n",
    "\n",
    "# Visualization: Time series plot\n",
    "plt.figure(figsize=(15, 6))\n",
    "time_series.plot()\n",
    "plt.title('Funding Trends Over Time')\n",
    "plt.xlabel('Award Date')\n",
    "plt.ylabel('Total Award Amount')\n",
    "plt.tight_layout()\n",
    "plt.show()"
   ]
  },
  {
   "cell_type": "code",
   "execution_count": null,
   "id": "7117da85",
   "metadata": {},
   "outputs": [
    {
     "data": {
      "image/png": "[encoded data removed]",
      "text/plain": [
       "<Figure size 1200x1000 with 2 Axes>"
      ]
     },
     "metadata": {},
     "output_type": "display_data"
    }
   ],
   "source": [
    "# Ensure 'award_date' is in datetime format\n",
    "df_time['award_date'] = pd.to_datetime(df_time['award_date'], errors='coerce')\n",
    "\n",
    "# 3.2 Seasonality analysis\n",
    "seasonal = df_time.groupby(df_time['award_date'].dt.month)['award_amount'].agg(['sum', 'count'])\n",
    "seasonal.index = ['Jan', 'Feb', 'Mar', 'Apr', 'May', 'Jun', \n",
    "                  'Jul', 'Aug', 'Sep', 'Oct', 'Nov', 'Dec']\n",
    "\n",
    "# Visualization: Monthly patterns\n",
    "fig, (ax1, ax2) = plt.subplots(2, 1, figsize=(12, 10))\n",
    "seasonal['sum'].plot(kind='bar', ax=ax1)\n",
    "ax1.set_title('Total Funding by Month')\n",
    "ax1.set_ylabel('Total Award Amount')\n",
    "seasonal['count'].plot(kind='bar', ax=ax2)\n",
    "ax2.set_title('Number of Awards by Month')\n",
    "ax2.set_ylabel('Number of Awards')\n",
    "plt.tight_layout()\n",
    "plt.show()"
   ]
  },
  {
   "cell_type": "markdown",
   "id": "825d5bf3",
   "metadata": {},
   "source": [
    "4. Award Size Analysis: Examines funding amounts using:\n",
    "\n",
    "Box plots by discipline\n",
    "Histograms of award distributions"
   ]
  },
  {
   "cell_type": "code",
   "execution_count": null,
   "id": "ac3b6d20",
   "metadata": {},
   "outputs": [
    {
     "data": {
      "image/png": "[encoded data removed]",
      "text/plain": [
       "<Figure size 1400x800 with 1 Axes>"
      ]
     },
     "metadata": {},
     "output_type": "display_data"
    }
   ],
   "source": [
    "# 4.1 Box plots of award amounts by discipline\n",
    "plt.figure(figsize=(14, 8))\n",
    "sns.boxplot(x='Main Discipline', y='Award Amount', data=df_vis.copy())\n",
    "plt.title('Distribution of Award Amounts by Discipline')\n",
    "plt.xticks(rotation=45, ha='right')\n",
    "plt.tight_layout()\n",
    "plt.show()"
   ]
  },
  {
   "cell_type": "code",
   "execution_count": null,
   "id": "5db4102f",
   "metadata": {},
   "outputs": [
    {
     "data": {
      "image/png": "[encoded data removed]",
      "text/plain": [
       "<Figure size 1200x600 with 1 Axes>"
      ]
     },
     "metadata": {},
     "output_type": "display_data"
    }
   ],
   "source": [
    "# 6.2 Award amount distribution\n",
    "plt.figure(figsize=(12, 6))\n",
    "sns.histplot(df_vis.copy()['award_amount'], bins=50, kde=True)\n",
    "plt.title('Distribution of Award Amounts')\n",
    "plt.xlabel('Award Amount')\n",
    "plt.tight_layout()\n",
    "plt.show()"
   ]
  },
  {
   "cell_type": "markdown",
   "id": "9b12726c",
   "metadata": {},
   "source": [
    "5. Multidimensional Analysis: Looks at relationships between dimensions:\n",
    "\n",
    "Heatmaps of discipline by region\n",
    "Bubble charts showing multiple dimensions at once\n"
   ]
  },
  {
   "cell_type": "code",
   "execution_count": 77,
   "id": "69d26d16",
   "metadata": {},
   "outputs": [
    {
     "ename": "KeyError",
     "evalue": "'ace_area'",
     "output_type": "error",
     "traceback": [
      "\u001b[31m---------------------------------------------------------------------------\u001b[39m",
      "\u001b[31mKeyError\u001b[39m                                  Traceback (most recent call last)",
      "\u001b[36mFile \u001b[39m\u001b[32m/Library/Frameworks/Python.framework/Versions/3.13/lib/python3.13/site-packages/pandas/core/indexes/base.py:3805\u001b[39m, in \u001b[36mIndex.get_loc\u001b[39m\u001b[34m(self, key)\u001b[39m\n\u001b[32m   3804\u001b[39m \u001b[38;5;28;01mtry\u001b[39;00m:\n\u001b[32m-> \u001b[39m\u001b[32m3805\u001b[39m     \u001b[38;5;28;01mreturn\u001b[39;00m \u001b[38;5;28;43mself\u001b[39;49m\u001b[43m.\u001b[49m\u001b[43m_engine\u001b[49m\u001b[43m.\u001b[49m\u001b[43mget_loc\u001b[49m\u001b[43m(\u001b[49m\u001b[43mcasted_key\u001b[49m\u001b[43m)\u001b[49m\n\u001b[32m   3806\u001b[39m \u001b[38;5;28;01mexcept\u001b[39;00m \u001b[38;5;167;01mKeyError\u001b[39;00m \u001b[38;5;28;01mas\u001b[39;00m err:\n",
      "\u001b[36mFile \u001b[39m\u001b[32mindex.pyx:167\u001b[39m, in \u001b[36mpandas._libs.index.IndexEngine.get_loc\u001b[39m\u001b[34m()\u001b[39m\n",
      "\u001b[36mFile \u001b[39m\u001b[32mindex.pyx:191\u001b[39m, in \u001b[36mpandas._libs.index.IndexEngine.get_loc\u001b[39m\u001b[34m()\u001b[39m\n",
      "\u001b[36mFile \u001b[39m\u001b[32mindex.pyx:234\u001b[39m, in \u001b[36mpandas._libs.index.IndexEngine._get_loc_duplicates\u001b[39m\u001b[34m()\u001b[39m\n",
      "\u001b[36mFile \u001b[39m\u001b[32mindex.pyx:242\u001b[39m, in \u001b[36mpandas._libs.index.IndexEngine._maybe_get_bool_indexer\u001b[39m\u001b[34m()\u001b[39m\n",
      "\u001b[36mFile \u001b[39m\u001b[32mindex.pyx:134\u001b[39m, in \u001b[36mpandas._libs.index._unpack_bool_indexer\u001b[39m\u001b[34m()\u001b[39m\n",
      "\u001b[31mKeyError\u001b[39m: 'ace_area'",
      "\nThe above exception was the direct cause of the following exception:\n",
      "\u001b[31mKeyError\u001b[39m                                  Traceback (most recent call last)",
      "\u001b[36mCell\u001b[39m\u001b[36m \u001b[39m\u001b[32mIn[77]\u001b[39m\u001b[32m, line 16\u001b[39m\n\u001b[32m      1\u001b[39m \u001b[38;5;66;03m# 5. Multidimensional Analysis\u001b[39;00m\n\u001b[32m      2\u001b[39m \n\u001b[32m      3\u001b[39m \u001b[38;5;66;03m# 5.1 Discipline by region heatmap\u001b[39;00m\n\u001b[32m   (...)\u001b[39m\u001b[32m     14\u001b[39m \n\u001b[32m     15\u001b[39m \u001b[38;5;66;03m# 5.1 Discipline by region heatmap\u001b[39;00m\n\u001b[32m---> \u001b[39m\u001b[32m16\u001b[39m discipline_region = pd.crosstab(df_eda.copy()[\u001b[33m'\u001b[39m\u001b[33mmain_discipline\u001b[39m\u001b[33m'\u001b[39m], \u001b[43mdf\u001b[49m\u001b[43m[\u001b[49m\u001b[33;43m'\u001b[39;49m\u001b[33;43mace_area\u001b[39;49m\u001b[33;43m'\u001b[39;49m\u001b[43m]\u001b[49m,\n\u001b[32m     17\u001b[39m                                values=df_eda.copy()[\u001b[33m'\u001b[39m\u001b[33maward_amount\u001b[39m\u001b[33m'\u001b[39m], aggfunc=\u001b[33m'\u001b[39m\u001b[33msum\u001b[39m\u001b[33m'\u001b[39m)\n\u001b[32m     19\u001b[39m \u001b[38;5;66;03m# Determine appropriate scaling\u001b[39;00m\n\u001b[32m     20\u001b[39m max_amount = discipline_region.max().max()\n",
      "\u001b[36mFile \u001b[39m\u001b[32m/Library/Frameworks/Python.framework/Versions/3.13/lib/python3.13/site-packages/pandas/core/frame.py:4102\u001b[39m, in \u001b[36mDataFrame.__getitem__\u001b[39m\u001b[34m(self, key)\u001b[39m\n\u001b[32m   4100\u001b[39m \u001b[38;5;28;01mif\u001b[39;00m \u001b[38;5;28mself\u001b[39m.columns.nlevels > \u001b[32m1\u001b[39m:\n\u001b[32m   4101\u001b[39m     \u001b[38;5;28;01mreturn\u001b[39;00m \u001b[38;5;28mself\u001b[39m._getitem_multilevel(key)\n\u001b[32m-> \u001b[39m\u001b[32m4102\u001b[39m indexer = \u001b[38;5;28;43mself\u001b[39;49m\u001b[43m.\u001b[49m\u001b[43mcolumns\u001b[49m\u001b[43m.\u001b[49m\u001b[43mget_loc\u001b[49m\u001b[43m(\u001b[49m\u001b[43mkey\u001b[49m\u001b[43m)\u001b[49m\n\u001b[32m   4103\u001b[39m \u001b[38;5;28;01mif\u001b[39;00m is_integer(indexer):\n\u001b[32m   4104\u001b[39m     indexer = [indexer]\n",
      "\u001b[36mFile \u001b[39m\u001b[32m/Library/Frameworks/Python.framework/Versions/3.13/lib/python3.13/site-packages/pandas/core/indexes/base.py:3812\u001b[39m, in \u001b[36mIndex.get_loc\u001b[39m\u001b[34m(self, key)\u001b[39m\n\u001b[32m   3807\u001b[39m     \u001b[38;5;28;01mif\u001b[39;00m \u001b[38;5;28misinstance\u001b[39m(casted_key, \u001b[38;5;28mslice\u001b[39m) \u001b[38;5;129;01mor\u001b[39;00m (\n\u001b[32m   3808\u001b[39m         \u001b[38;5;28misinstance\u001b[39m(casted_key, abc.Iterable)\n\u001b[32m   3809\u001b[39m         \u001b[38;5;129;01mand\u001b[39;00m \u001b[38;5;28many\u001b[39m(\u001b[38;5;28misinstance\u001b[39m(x, \u001b[38;5;28mslice\u001b[39m) \u001b[38;5;28;01mfor\u001b[39;00m x \u001b[38;5;129;01min\u001b[39;00m casted_key)\n\u001b[32m   3810\u001b[39m     ):\n\u001b[32m   3811\u001b[39m         \u001b[38;5;28;01mraise\u001b[39;00m InvalidIndexError(key)\n\u001b[32m-> \u001b[39m\u001b[32m3812\u001b[39m     \u001b[38;5;28;01mraise\u001b[39;00m \u001b[38;5;167;01mKeyError\u001b[39;00m(key) \u001b[38;5;28;01mfrom\u001b[39;00m\u001b[38;5;250m \u001b[39m\u001b[34;01merr\u001b[39;00m\n\u001b[32m   3813\u001b[39m \u001b[38;5;28;01mexcept\u001b[39;00m \u001b[38;5;167;01mTypeError\u001b[39;00m:\n\u001b[32m   3814\u001b[39m     \u001b[38;5;66;03m# If we have a listlike key, _check_indexing_error will raise\u001b[39;00m\n\u001b[32m   3815\u001b[39m     \u001b[38;5;66;03m#  InvalidIndexError. Otherwise we fall through and re-raise\u001b[39;00m\n\u001b[32m   3816\u001b[39m     \u001b[38;5;66;03m#  the TypeError.\u001b[39;00m\n\u001b[32m   3817\u001b[39m     \u001b[38;5;28mself\u001b[39m._check_indexing_error(key)\n",
      "\u001b[31mKeyError\u001b[39m: 'ace_area'"
     ]
    }
   ],
   "source": [
    "# 5. Multidimensional Analysis\n",
    "\n",
    "# 5.1 Discipline by region heatmap\n",
    "#discipline_region = pd.crosstab(df_vis.copy()['main_discipline'], df['ace_area'], \n",
    "#                               values=df_vis.copy()['award_amount'], aggfunc='sum')\n",
    "\n",
    "#plt.figure(figsize=(12, 10))\n",
    "#sns.heatmap(discipline_region, annot=True, fmt='.0f', cmap='viridis')\n",
    "#plt.title('Funding by Discipline and Region')\n",
    "#plt.tight_layout()\n",
    "#plt.show()\n",
    "\n",
    "# 5. Multidimensional Analysis\n",
    "\n",
    "# 5.1 Discipline by region heatmap\n",
    "discipline_region = pd.crosstab(df_eda.copy()['main_discipline'], df['ace_area'],\n",
    "                               values=df_eda.copy()['award_amount'], aggfunc='sum')\n",
    "\n",
    "# Determine appropriate scaling\n",
    "max_amount = discipline_region.max().max()\n",
    "if max_amount >= 1e6:\n",
    "    divisor = 1e6\n",
    "    suffix = 'M'\n",
    "else:\n",
    "    divisor = 1e3\n",
    "    suffix = 'K'\n",
    "\n",
    "# Scale values and create annotations\n",
    "discipline_region_scaled = discipline_region / divisor\n",
    "annot_labels = discipline_region_scaled.applymap(\n",
    "    lambda x: f\"{int(x)}{suffix}\" if x.is_integer() else f\"{x:.1f}{suffix}\"\n",
    ")\n",
    "\n",
    "# Create visualization\n",
    "plt.figure(figsize=(12, 10))\n",
    "sns.heatmap(discipline_region_scaled, annot=annot_labels, fmt='', cmap='viridis')\n",
    "plt.title(f'Funding by Discipline and Region (in {suffix})')\n",
    "plt.tight_layout()\n",
    "plt.show()"
   ]
  },
  {
   "cell_type": "code",
   "execution_count": 65,
   "id": "9e8c0b72",
   "metadata": {},
   "outputs": [
    {
     "ename": "NameError",
     "evalue": "name 'df_vis' is not defined",
     "output_type": "error",
     "traceback": [
      "\u001b[31m---------------------------------------------------------------------------\u001b[39m",
      "\u001b[31mNameError\u001b[39m                                 Traceback (most recent call last)",
      "\u001b[36mCell\u001b[39m\u001b[36m \u001b[39m\u001b[32mIn[65]\u001b[39m\u001b[32m, line 3\u001b[39m\n\u001b[32m      1\u001b[39m \u001b[38;5;66;03m# 7.2 Bubble chart: discipline, region and funding\u001b[39;00m\n\u001b[32m      2\u001b[39m \u001b[38;5;66;03m# Prepare data for bubble chart\u001b[39;00m\n\u001b[32m----> \u001b[39m\u001b[32m3\u001b[39m bubble_data = \u001b[43mdf_vis\u001b[49m.copy().groupby([\u001b[33m'\u001b[39m\u001b[33mmain_discipline\u001b[39m\u001b[33m'\u001b[39m, \u001b[33m'\u001b[39m\u001b[33mace_area\u001b[39m\u001b[33m'\u001b[39m])[\u001b[33m'\u001b[39m\u001b[33maward_amount\u001b[39m\u001b[33m'\u001b[39m].agg([\u001b[33m'\u001b[39m\u001b[33msum\u001b[39m\u001b[33m'\u001b[39m, \u001b[33m'\u001b[39m\u001b[33mcount\u001b[39m\u001b[33m'\u001b[39m]).reset_index()\n\u001b[32m      5\u001b[39m \u001b[38;5;66;03m# Create bubble chart with Plotly\u001b[39;00m\n\u001b[32m      6\u001b[39m fig = px.scatter(bubble_data, \n\u001b[32m      7\u001b[39m                 x=\u001b[33m'\u001b[39m\u001b[33mmain_discipline\u001b[39m\u001b[33m'\u001b[39m, \n\u001b[32m      8\u001b[39m                 y=\u001b[33m'\u001b[39m\u001b[33mace_area\u001b[39m\u001b[33m'\u001b[39m, \n\u001b[32m   (...)\u001b[39m\u001b[32m     12\u001b[39m                 size_max=\u001b[32m60\u001b[39m,\n\u001b[32m     13\u001b[39m                 title=\u001b[33m'\u001b[39m\u001b[33mRelationship Between Discipline, Region and Funding\u001b[39m\u001b[33m'\u001b[39m)\n",
      "\u001b[31mNameError\u001b[39m: name 'df_vis' is not defined"
     ]
    }
   ],
   "source": [
    "# 7.2 Bubble chart: discipline, region and funding\n",
    "# Prepare data for bubble chart\n",
    "bubble_data = df_vis.copy().groupby(['main_discipline', 'ace_area'])['award_amount'].agg(['sum', 'count']).reset_index()\n",
    "\n",
    "# Create bubble chart with Plotly\n",
    "fig = px.scatter(bubble_data, \n",
    "                x='main_discipline', \n",
    "                y='ace_area', \n",
    "                size='sum',\n",
    "                color='count',\n",
    "                hover_name='main_discipline',\n",
    "                size_max=60,\n",
    "                title='Relationship Between Discipline, Region and Funding')\n",
    "fig.update_layout(xaxis={'categoryorder':'total descending'})\n",
    "fig.show()"
   ]
  },
  {
   "cell_type": "markdown",
   "id": "8bc48a92",
   "metadata": {},
   "source": [
    "6. Success Factors Analysis: If you have data on successful vs. unsuccessful applications"
   ]
  },
  {
   "cell_type": "markdown",
   "id": "75a35181",
   "metadata": {},
   "source": [
    "7. Correlation Analysis: Identifies factors most correlated with award amounts"
   ]
  },
  {
   "cell_type": "code",
   "execution_count": null,
   "id": "b0733720",
   "metadata": {},
   "outputs": [
    {
     "name": "stdout",
     "output_type": "stream",
     "text": [
      "No significant correlations found.\n"
     ]
    }
   ],
   "source": [
    "# 7. Correlation Analysis\n",
    "\n",
    "# 7.1 Correlation between award amount and other variables\n",
    "# Ensure the columns to be one-hot encoded exist in the DataFrame\n",
    "columns_to_encode = ['main_discipline', 'ace_area', 'local_authority']\n",
    "columns_to_encode = [col for col in columns_to_encode if col in df_vis.columns]\n",
    "\n",
    "if not columns_to_encode:\n",
    "\tprint(\"No categorical columns available for encoding. Skipping correlation analysis.\")\n",
    "else:\n",
    "\t# One-hot encode categorical variables\n",
    "\tdf_encoded = pd.get_dummies(df_vis.copy(), columns=columns_to_encode)\n",
    "\n",
    "\t# Select numeric columns for correlation\n",
    "\tnumeric_df = df_encoded.select_dtypes(include=[np.number])\n",
    "\n",
    "\tif 'award_amount' not in numeric_df.columns:\n",
    "\t\tprint(\"No numeric columns available for correlation analysis. Skipping.\")\n",
    "\telse:\n",
    "\t\t# Calculate correlations with award amount\n",
    "\t\tcorrelations = numeric_df.corr()['award_amount'].sort_values(ascending=False)\n",
    "\t\ttop_correlations = correlations[1:11]  # Skip self-correlation\n",
    "\n",
    "\t\tif top_correlations.empty:\n",
    "\t\t\tprint(\"No significant correlations found.\")\n",
    "\t\telse:\n",
    "\t\t\tplt.figure(figsize=(12, 6))\n",
    "\t\t\ttop_correlations.plot(kind='bar')\n",
    "\t\t\tplt.title('Top 10 Factors Correlated with Award Amount')\n",
    "\t\t\tplt.tight_layout()\n",
    "\t\t\tplt.show()"
   ]
  },
  {
   "cell_type": "markdown",
   "id": "73c1f051",
   "metadata": {},
   "source": [
    "8. Predictive Insights: Uses machine learning to identify key factors that predict funding success"
   ]
  },
  {
   "cell_type": "code",
   "execution_count": null,
   "id": "5ee090ac",
   "metadata": {},
   "outputs": [
    {
     "name": "stdout",
     "output_type": "stream",
     "text": [
      "Error: No numeric features available for the model.\n"
     ]
    }
   ],
   "source": [
    "# 10.1 Simple model to predict award amount\n",
    "from sklearn.model_selection import train_test_split\n",
    "from sklearn.linear_model import LinearRegression\n",
    "from sklearn.metrics import mean_squared_error, r2_score\n",
    "\n",
    "# Prepare features and target\n",
    "# Ensure all columns in X are numeric\n",
    "X = df_eda.copy().drop('award_amount', axis=1).select_dtypes(include=[np.number])\n",
    "y = df_eda.copy()['award_amount']\n",
    "\n",
    "# Check if X is empty\n",
    "if X.empty:\n",
    "    print(\"Error: No numeric features available for the model.\")\n",
    "else:\n",
    "    # Split data\n",
    "    X_train, X_test, y_train, y_test = train_test_split(X, y, test_size=0.2, random_state=42)\n",
    "\n",
    "    # Train model\n",
    "    model = LinearRegression()\n",
    "    model.fit(X_train, y_train)\n",
    "\n",
    "    # Evaluate model\n",
    "    y_pred = model.predict(X_test)\n",
    "    print(f\"R² Score: {r2_score(y_test, y_pred)}\")\n",
    "    print(f\"Root Mean Squared Error: {np.sqrt(mean_squared_error(y_test, y_pred))}\")\n",
    "\n",
    "    # Feature importance\n",
    "    feature_importance = pd.DataFrame({\n",
    "        'Feature': X.columns,\n",
    "        'Importance': np.abs(model.coef_)\n",
    "    })\n",
    "    top_features = feature_importance.sort_values('Importance', ascending=False).head(10)\n",
    "\n",
    "    plt.figure(figsize=(12, 6))\n",
    "    plt.barh(top_features['Feature'], top_features['Importance'])\n",
    "    plt.title('Top 10 Features for Predicting Award Amount')\n",
    "    plt.tight_layout()\n",
    "    plt.show()"
   ]
  },
  {
   "cell_type": "markdown",
   "id": "1507b240",
   "metadata": {},
   "source": [
    "9. Conclusions and Recommendations: Summarizes key findings and provides actionable advice"
   ]
  },
  {
   "cell_type": "markdown",
   "id": "19ff0d0e",
   "metadata": {},
   "source": [
    "Scenarios\n",
    "Theatre: be in the North due to competition in London\n",
    "Although London and the North receive the most funding, it might be wise to be in other areas like the South West and the Midlands because funding will be prioritised for these under-performing areas.\n",
    "Of course Libraries, literature, and museums should also prioritised.  \n",
    "\n",
    "Recommendations\n",
    "Find out why awards have dropped over a 5 year period, bceause the arts can revitalise any economy.\n",
    "Why are libraries, literature, and museums receiving a lot less?\n",
    "Books are the bedrock for the arts as it inspires other art forms. \n",
    "Understand what is meant by combined arts\n"
   ]
  }
 ],
 "metadata": {
  "kernelspec": {
   "display_name": "Python 3",
   "language": "python",
   "name": "python3"
  },
  "language_info": {
   "codemirror_mode": {
    "name": "ipython",
    "version": 3
   },
   "file_extension": ".py",
   "mimetype": "text/x-python",
   "name": "python",
   "nbconvert_exporter": "python",
   "pygments_lexer": "ipython3",
   "version": "3.13.2"
  }
 },
 "nbformat": 4,
 "nbformat_minor": 5
}
