{
 "cells": [
  {
   "cell_type": "markdown",
   "id": "d9c22f1b",
   "metadata": {},
   "source": [
    "# Arts England Grant Allocation Analysis "
   ]
  },
  {
   "cell_type": "markdown",
   "id": "eecbb223",
   "metadata": {},
   "source": []
  },
  {
   "cell_type": "markdown",
   "id": "f2f28517",
   "metadata": {},
   "source": [
    "### 1. Setting up the Environment\n"
   ]
  },
  {
   "cell_type": "code",
   "execution_count": 4,
   "id": "f07b85fa",
   "metadata": {},
   "outputs": [],
   "source": [
    "import pandas as pd\n",
    "import numpy as np\n",
    "import seaborn as sns\n",
    "import matplotlib.pyplot as plt\n",
    "\n"
   ]
  },
  {
   "cell_type": "code",
   "execution_count": 11,
   "id": "ddb2fb19",
   "metadata": {},
   "outputs": [],
   "source": [
    "# Configuration for better display\n",
    "pd.set_option('display.max_columns', None)\n",
    "pd.set_option('display.max_rows', 50)\n",
    "pd.set_option('display.width', 1000)\n",
    "plt.style.use('seaborn-v0_8-whitegrid')"
   ]
  },
  {
   "cell_type": "markdown",
   "id": "8a57c959",
   "metadata": {},
   "source": [
    "### 2. Loading Data\n"
   ]
  },
  {
   "cell_type": "code",
   "execution_count": null,
   "id": "41a2f722",
   "metadata": {},
   "outputs": [],
   "source": []
  },
  {
   "cell_type": "code",
   "execution_count": 51,
   "id": "70db3871",
   "metadata": {},
   "outputs": [
    {
     "name": "stdout",
     "output_type": "stream",
     "text": [
      "Data loaded successfully.\n"
     ]
    }
   ],
   "source": [
    "# Load the data\n",
    "df = pd.read_csv('/Users/segunAM/Downloads/ArtsCouncil/raw_data/pga2024-25.csv')\n",
    "df = pd.read_csv('/Users/segunAM/Downloads/ArtsCouncil/raw_data/pga2023-24.csv')\n",
    "df = pd.read_csv('/Users/segunAM/Downloads/ArtsCouncil/raw_data/pga2022-23.csv')\n",
    "df = pd.read_csv('/Users/segunAM/Downloads/ArtsCouncil/raw_data/pga2021-22.csv')\n",
    "df = pd.read_csv('/Users/segunAM/Downloads/ArtsCouncil/raw_data/pga2020-21.csv')\n",
    "\n",
    "# merge all dataframes\n",
    "df = pd.concat([df, df, df, df, df], ignore_index=True)\n",
    "\n",
    "# Data loaded successfully print successful statement\n",
    "if df.empty:\n",
    "    print(\"Data loading failed.\")\n",
    "else:\n",
    "    # Check for missing values\n",
    "    # missing_values = df.isnull().sum()\n",
    "    # if missing_values.any():\n",
    "    #    print(\"Missing values found in the dataset:\")\n",
    "    #    print(missing_values[missing_values > 0])\n",
    "    #else:\n",
    "#print(\"No missing values found in the dataset.\")\n",
    "    print(\"Data loaded successfully.\")\n",
    "\n"
   ]
  },
  {
   "cell_type": "markdown",
   "id": "9111fbdc",
   "metadata": {},
   "source": [
    "### 3. Initial Inspection"
   ]
  },
  {
   "cell_type": "code",
   "execution_count": 52,
   "id": "2e525075",
   "metadata": {},
   "outputs": [
    {
     "data": {
      "application/vnd.microsoft.datawrangler.viewer.v0+json": {
       "columns": [
        {
         "name": "index",
         "rawType": "int64",
         "type": "integer"
        },
        {
         "name": "Recipient",
         "rawType": "object",
         "type": "string"
        },
        {
         "name": "Activity name",
         "rawType": "object",
         "type": "string"
        },
        {
         "name": "Award amount",
         "rawType": "object",
         "type": "string"
        },
        {
         "name": "Award date",
         "rawType": "object",
         "type": "string"
        },
        {
         "name": "Decision Month",
         "rawType": "object",
         "type": "string"
        },
        {
         "name": "Decision quarter",
         "rawType": "object",
         "type": "string"
        },
        {
         "name": "ACE Area",
         "rawType": "object",
         "type": "string"
        },
        {
         "name": "Local authority",
         "rawType": "object",
         "type": "string"
        },
        {
         "name": "Main discipline",
         "rawType": "object",
         "type": "string"
        },
        {
         "name": "Strand",
         "rawType": "object",
         "type": "string"
        },
        {
         "name": "Time-Limited Priority",
         "rawType": "float64",
         "type": "float"
        }
       ],
       "conversionMethod": "pd.DataFrame",
       "ref": "7d1b3ae3-1b5d-45df-bd83-40d871ec3b2c",
       "rows": [
        [
         "0",
         "Santhoshkumar Thadavath Gopalakrishnan Nair",
         "Dancing Deities",
         "£13,250",
         "6-Apr-20",
         "April",
         "Q1",
         "North",
         "Bradford",
         "Dance",
         "£15,000 and below",
         null
        ],
        [
         "1",
         "Sheba Soul Ensemble",
         "Questions and answers",
         "£15,000",
         "11-Aug-20",
         "August",
         "Q2",
         "South West",
         "Bristol, City of",
         "Theatre",
         "£15,000 and below",
         null
        ],
        [
         "2",
         "Southampton Music Hub",
         "Digital Native Artists (DNA) Programme",
         "£15,000",
         "11-Aug-20",
         "August",
         "Q2",
         "South West",
         "Southampton",
         "Music",
         "£15,000 and below",
         null
        ],
        [
         "3",
         "Kieron Burke",
         "Research and Development of Grime Orchestra",
         "£11,800",
         "11-Aug-20",
         "August",
         "Q2",
         "Midlands",
         "Birmingham",
         "Music",
         "£15,000 and below",
         null
        ],
        [
         "4",
         "Tara Silverthorn",
         "'if a bee falls in a forest': Research & Development",
         "£5,507",
         "11-Aug-20",
         "August",
         "Q2",
         "South West",
         "Bristol, City of",
         "Combined arts",
         "£15,000 and below",
         null
        ],
        [
         "5",
         "Old Town Sounds Ltd",
         "New Music for a New Era",
         "£14,586",
         "11-Aug-20",
         "August",
         "Q2",
         "South West",
         "Swindon",
         "Music",
         "Grassroots Music",
         null
        ],
        [
         "6",
         "strange futures",
         "Malvern cube residency",
         "£14,925",
         "11-Aug-20",
         "August",
         "Q2",
         "Midlands",
         "Dudley",
         "Theatre",
         "£15,000 and below",
         null
        ],
        [
         "7",
         "Tom Wright",
         "I Ain't Dumb",
         "£14,995",
         "11-Aug-20",
         "August",
         "Q2",
         "Midlands",
         "Coventry",
         "Theatre",
         "£15,000 and below",
         null
        ],
        [
         "8",
         "Avatara Ayuso",
         "The Protocol. Outdoor Contemporary Dance Work",
         "£14,962",
         "11-Aug-20",
         "August",
         "Q2",
         "Midlands",
         "Warwick",
         "Dance",
         "£15,000 and below",
         null
        ],
        [
         "9",
         "Caroline Summerfield",
         "The Gardening Times",
         "£14,110",
         "11-Aug-20",
         "August",
         "Q2",
         "South West",
         "Tewkesbury",
         "Theatre",
         "£15,000 and below",
         null
        ]
       ],
       "shape": {
        "columns": 11,
        "rows": 10
       }
      },
      "text/html": [
       "<div>\n",
       "<style scoped>\n",
       "    .dataframe tbody tr th:only-of-type {\n",
       "        vertical-align: middle;\n",
       "    }\n",
       "\n",
       "    .dataframe tbody tr th {\n",
       "        vertical-align: top;\n",
       "    }\n",
       "\n",
       "    .dataframe thead th {\n",
       "        text-align: right;\n",
       "    }\n",
       "</style>\n",
       "<table border=\"1\" class=\"dataframe\">\n",
       "  <thead>\n",
       "    <tr style=\"text-align: right;\">\n",
       "      <th></th>\n",
       "      <th>Recipient</th>\n",
       "      <th>Activity name</th>\n",
       "      <th>Award amount</th>\n",
       "      <th>Award date</th>\n",
       "      <th>Decision Month</th>\n",
       "      <th>Decision quarter</th>\n",
       "      <th>ACE Area</th>\n",
       "      <th>Local authority</th>\n",
       "      <th>Main discipline</th>\n",
       "      <th>Strand</th>\n",
       "      <th>Time-Limited Priority</th>\n",
       "    </tr>\n",
       "  </thead>\n",
       "  <tbody>\n",
       "    <tr>\n",
       "      <th>0</th>\n",
       "      <td>Santhoshkumar Thadavath Gopalakrishnan Nair</td>\n",
       "      <td>Dancing Deities</td>\n",
       "      <td>£13,250</td>\n",
       "      <td>6-Apr-20</td>\n",
       "      <td>April</td>\n",
       "      <td>Q1</td>\n",
       "      <td>North</td>\n",
       "      <td>Bradford</td>\n",
       "      <td>Dance</td>\n",
       "      <td>£15,000 and below</td>\n",
       "      <td>NaN</td>\n",
       "    </tr>\n",
       "    <tr>\n",
       "      <th>1</th>\n",
       "      <td>Sheba Soul Ensemble</td>\n",
       "      <td>Questions and answers</td>\n",
       "      <td>£15,000</td>\n",
       "      <td>11-Aug-20</td>\n",
       "      <td>August</td>\n",
       "      <td>Q2</td>\n",
       "      <td>South West</td>\n",
       "      <td>Bristol, City of</td>\n",
       "      <td>Theatre</td>\n",
       "      <td>£15,000 and below</td>\n",
       "      <td>NaN</td>\n",
       "    </tr>\n",
       "    <tr>\n",
       "      <th>2</th>\n",
       "      <td>Southampton Music Hub</td>\n",
       "      <td>Digital Native Artists (DNA) Programme</td>\n",
       "      <td>£15,000</td>\n",
       "      <td>11-Aug-20</td>\n",
       "      <td>August</td>\n",
       "      <td>Q2</td>\n",
       "      <td>South West</td>\n",
       "      <td>Southampton</td>\n",
       "      <td>Music</td>\n",
       "      <td>£15,000 and below</td>\n",
       "      <td>NaN</td>\n",
       "    </tr>\n",
       "    <tr>\n",
       "      <th>3</th>\n",
       "      <td>Kieron Burke</td>\n",
       "      <td>Research and Development of Grime Orchestra</td>\n",
       "      <td>£11,800</td>\n",
       "      <td>11-Aug-20</td>\n",
       "      <td>August</td>\n",
       "      <td>Q2</td>\n",
       "      <td>Midlands</td>\n",
       "      <td>Birmingham</td>\n",
       "      <td>Music</td>\n",
       "      <td>£15,000 and below</td>\n",
       "      <td>NaN</td>\n",
       "    </tr>\n",
       "    <tr>\n",
       "      <th>4</th>\n",
       "      <td>Tara Silverthorn</td>\n",
       "      <td>'if a bee falls in a forest': Research &amp; Devel...</td>\n",
       "      <td>£5,507</td>\n",
       "      <td>11-Aug-20</td>\n",
       "      <td>August</td>\n",
       "      <td>Q2</td>\n",
       "      <td>South West</td>\n",
       "      <td>Bristol, City of</td>\n",
       "      <td>Combined arts</td>\n",
       "      <td>£15,000 and below</td>\n",
       "      <td>NaN</td>\n",
       "    </tr>\n",
       "    <tr>\n",
       "      <th>5</th>\n",
       "      <td>Old Town Sounds Ltd</td>\n",
       "      <td>New Music for a New Era</td>\n",
       "      <td>£14,586</td>\n",
       "      <td>11-Aug-20</td>\n",
       "      <td>August</td>\n",
       "      <td>Q2</td>\n",
       "      <td>South West</td>\n",
       "      <td>Swindon</td>\n",
       "      <td>Music</td>\n",
       "      <td>Grassroots Music</td>\n",
       "      <td>NaN</td>\n",
       "    </tr>\n",
       "    <tr>\n",
       "      <th>6</th>\n",
       "      <td>strange futures</td>\n",
       "      <td>Malvern cube residency</td>\n",
       "      <td>£14,925</td>\n",
       "      <td>11-Aug-20</td>\n",
       "      <td>August</td>\n",
       "      <td>Q2</td>\n",
       "      <td>Midlands</td>\n",
       "      <td>Dudley</td>\n",
       "      <td>Theatre</td>\n",
       "      <td>£15,000 and below</td>\n",
       "      <td>NaN</td>\n",
       "    </tr>\n",
       "    <tr>\n",
       "      <th>7</th>\n",
       "      <td>Tom Wright</td>\n",
       "      <td>I Ain't Dumb</td>\n",
       "      <td>£14,995</td>\n",
       "      <td>11-Aug-20</td>\n",
       "      <td>August</td>\n",
       "      <td>Q2</td>\n",
       "      <td>Midlands</td>\n",
       "      <td>Coventry</td>\n",
       "      <td>Theatre</td>\n",
       "      <td>£15,000 and below</td>\n",
       "      <td>NaN</td>\n",
       "    </tr>\n",
       "    <tr>\n",
       "      <th>8</th>\n",
       "      <td>Avatara Ayuso</td>\n",
       "      <td>The Protocol. Outdoor Contemporary Dance Work</td>\n",
       "      <td>£14,962</td>\n",
       "      <td>11-Aug-20</td>\n",
       "      <td>August</td>\n",
       "      <td>Q2</td>\n",
       "      <td>Midlands</td>\n",
       "      <td>Warwick</td>\n",
       "      <td>Dance</td>\n",
       "      <td>£15,000 and below</td>\n",
       "      <td>NaN</td>\n",
       "    </tr>\n",
       "    <tr>\n",
       "      <th>9</th>\n",
       "      <td>Caroline Summerfield</td>\n",
       "      <td>The Gardening Times</td>\n",
       "      <td>£14,110</td>\n",
       "      <td>11-Aug-20</td>\n",
       "      <td>August</td>\n",
       "      <td>Q2</td>\n",
       "      <td>South West</td>\n",
       "      <td>Tewkesbury</td>\n",
       "      <td>Theatre</td>\n",
       "      <td>£15,000 and below</td>\n",
       "      <td>NaN</td>\n",
       "    </tr>\n",
       "  </tbody>\n",
       "</table>\n",
       "</div>"
      ],
      "text/plain": [
       "                                     Recipient                                      Activity name Award amount Award date Decision Month Decision quarter    ACE Area   Local authority Main discipline             Strand  Time-Limited Priority\n",
       "0  Santhoshkumar Thadavath Gopalakrishnan Nair                                    Dancing Deities      £13,250   6-Apr-20          April               Q1       North          Bradford           Dance  £15,000 and below                    NaN\n",
       "1                          Sheba Soul Ensemble                              Questions and answers      £15,000  11-Aug-20         August               Q2  South West  Bristol, City of         Theatre  £15,000 and below                    NaN\n",
       "2                        Southampton Music Hub             Digital Native Artists (DNA) Programme      £15,000  11-Aug-20         August               Q2  South West       Southampton           Music  £15,000 and below                    NaN\n",
       "3                                 Kieron Burke        Research and Development of Grime Orchestra      £11,800  11-Aug-20         August               Q2    Midlands        Birmingham           Music  £15,000 and below                    NaN\n",
       "4                             Tara Silverthorn  'if a bee falls in a forest': Research & Devel...       £5,507  11-Aug-20         August               Q2  South West  Bristol, City of   Combined arts  £15,000 and below                    NaN\n",
       "5                          Old Town Sounds Ltd                            New Music for a New Era      £14,586  11-Aug-20         August               Q2  South West           Swindon           Music   Grassroots Music                    NaN\n",
       "6                              strange futures                             Malvern cube residency      £14,925  11-Aug-20         August               Q2    Midlands            Dudley         Theatre  £15,000 and below                    NaN\n",
       "7                                   Tom Wright                                       I Ain't Dumb      £14,995  11-Aug-20         August               Q2    Midlands          Coventry         Theatre  £15,000 and below                    NaN\n",
       "8                                Avatara Ayuso      The Protocol. Outdoor Contemporary Dance Work      £14,962  11-Aug-20         August               Q2    Midlands           Warwick           Dance  £15,000 and below                    NaN\n",
       "9                         Caroline Summerfield                                The Gardening Times      £14,110  11-Aug-20         August               Q2  South West        Tewkesbury         Theatre  £15,000 and below                    NaN"
      ]
     },
     "metadata": {},
     "output_type": "display_data"
    },
    {
     "data": {
      "text/plain": [
       "(14690, 11)"
      ]
     },
     "metadata": {},
     "output_type": "display_data"
    },
    {
     "name": "stdout",
     "output_type": "stream",
     "text": [
      "Summary statistics in table:\n"
     ]
    },
    {
     "data": {
      "application/vnd.microsoft.datawrangler.viewer.v0+json": {
       "columns": [
        {
         "name": "index",
         "rawType": "object",
         "type": "string"
        },
        {
         "name": "count",
         "rawType": "object",
         "type": "unknown"
        },
        {
         "name": "unique",
         "rawType": "object",
         "type": "unknown"
        },
        {
         "name": "top",
         "rawType": "object",
         "type": "unknown"
        },
        {
         "name": "freq",
         "rawType": "object",
         "type": "unknown"
        },
        {
         "name": "mean",
         "rawType": "object",
         "type": "unknown"
        },
        {
         "name": "std",
         "rawType": "object",
         "type": "unknown"
        },
        {
         "name": "min",
         "rawType": "object",
         "type": "unknown"
        },
        {
         "name": "25%",
         "rawType": "object",
         "type": "unknown"
        },
        {
         "name": "50%",
         "rawType": "object",
         "type": "unknown"
        },
        {
         "name": "75%",
         "rawType": "object",
         "type": "unknown"
        },
        {
         "name": "max",
         "rawType": "object",
         "type": "unknown"
        }
       ],
       "conversionMethod": "pd.DataFrame",
       "ref": "d1f1065e-4af4-4fc5-9c8a-47d58c3f27f5",
       "rows": [
        [
         "Recipient",
         "14690",
         "2816",
         "Botis Seva",
         "15",
         null,
         null,
         null,
         null,
         null,
         null,
         null
        ],
        [
         "Activity name",
         "14690",
         "2934",
         "RAT",
         "10",
         null,
         null,
         null,
         null,
         null,
         null,
         null
        ],
        [
         "Award amount",
         "14690",
         "1712",
         "£15,000",
         "2090",
         null,
         null,
         null,
         null,
         null,
         null,
         null
        ],
        [
         "Award date",
         "14690",
         "104",
         "16-Dec-20",
         "555",
         null,
         null,
         null,
         null,
         null,
         null,
         null
        ],
        [
         "Decision Month",
         "14690",
         "9",
         "October",
         "2745",
         null,
         null,
         null,
         null,
         null,
         null,
         null
        ],
        [
         "Decision quarter",
         "14690",
         "4",
         "Q3",
         "6225",
         null,
         null,
         null,
         null,
         null,
         null,
         null
        ],
        [
         "ACE Area",
         "14690",
         "5",
         "London",
         "4145",
         null,
         null,
         null,
         null,
         null,
         null,
         null
        ],
        [
         "Local authority",
         "14690",
         "303",
         "Hackney",
         "500",
         null,
         null,
         null,
         null,
         null,
         null,
         null
        ],
        [
         "Main discipline",
         "14690",
         "9",
         "Theatre",
         "4845",
         null,
         null,
         null,
         null,
         null,
         null,
         null
        ],
        [
         "Strand",
         "14690",
         "5",
         "£15,000 and below",
         "12175",
         null,
         null,
         null,
         null,
         null,
         null,
         null
        ],
        [
         "Time-Limited Priority",
         "0.0",
         null,
         null,
         null,
         null,
         null,
         null,
         null,
         null,
         null,
         null
        ]
       ],
       "shape": {
        "columns": 11,
        "rows": 11
       }
      },
      "text/html": [
       "<div>\n",
       "<style scoped>\n",
       "    .dataframe tbody tr th:only-of-type {\n",
       "        vertical-align: middle;\n",
       "    }\n",
       "\n",
       "    .dataframe tbody tr th {\n",
       "        vertical-align: top;\n",
       "    }\n",
       "\n",
       "    .dataframe thead th {\n",
       "        text-align: right;\n",
       "    }\n",
       "</style>\n",
       "<table border=\"1\" class=\"dataframe\">\n",
       "  <thead>\n",
       "    <tr style=\"text-align: right;\">\n",
       "      <th></th>\n",
       "      <th>count</th>\n",
       "      <th>unique</th>\n",
       "      <th>top</th>\n",
       "      <th>freq</th>\n",
       "      <th>mean</th>\n",
       "      <th>std</th>\n",
       "      <th>min</th>\n",
       "      <th>25%</th>\n",
       "      <th>50%</th>\n",
       "      <th>75%</th>\n",
       "      <th>max</th>\n",
       "    </tr>\n",
       "  </thead>\n",
       "  <tbody>\n",
       "    <tr>\n",
       "      <th>Recipient</th>\n",
       "      <td>14690</td>\n",
       "      <td>2816</td>\n",
       "      <td>Botis Seva</td>\n",
       "      <td>15</td>\n",
       "      <td>NaN</td>\n",
       "      <td>NaN</td>\n",
       "      <td>NaN</td>\n",
       "      <td>NaN</td>\n",
       "      <td>NaN</td>\n",
       "      <td>NaN</td>\n",
       "      <td>NaN</td>\n",
       "    </tr>\n",
       "    <tr>\n",
       "      <th>Activity name</th>\n",
       "      <td>14690</td>\n",
       "      <td>2934</td>\n",
       "      <td>RAT</td>\n",
       "      <td>10</td>\n",
       "      <td>NaN</td>\n",
       "      <td>NaN</td>\n",
       "      <td>NaN</td>\n",
       "      <td>NaN</td>\n",
       "      <td>NaN</td>\n",
       "      <td>NaN</td>\n",
       "      <td>NaN</td>\n",
       "    </tr>\n",
       "    <tr>\n",
       "      <th>Award amount</th>\n",
       "      <td>14690</td>\n",
       "      <td>1712</td>\n",
       "      <td>£15,000</td>\n",
       "      <td>2090</td>\n",
       "      <td>NaN</td>\n",
       "      <td>NaN</td>\n",
       "      <td>NaN</td>\n",
       "      <td>NaN</td>\n",
       "      <td>NaN</td>\n",
       "      <td>NaN</td>\n",
       "      <td>NaN</td>\n",
       "    </tr>\n",
       "    <tr>\n",
       "      <th>Award date</th>\n",
       "      <td>14690</td>\n",
       "      <td>104</td>\n",
       "      <td>16-Dec-20</td>\n",
       "      <td>555</td>\n",
       "      <td>NaN</td>\n",
       "      <td>NaN</td>\n",
       "      <td>NaN</td>\n",
       "      <td>NaN</td>\n",
       "      <td>NaN</td>\n",
       "      <td>NaN</td>\n",
       "      <td>NaN</td>\n",
       "    </tr>\n",
       "    <tr>\n",
       "      <th>Decision Month</th>\n",
       "      <td>14690</td>\n",
       "      <td>9</td>\n",
       "      <td>October</td>\n",
       "      <td>2745</td>\n",
       "      <td>NaN</td>\n",
       "      <td>NaN</td>\n",
       "      <td>NaN</td>\n",
       "      <td>NaN</td>\n",
       "      <td>NaN</td>\n",
       "      <td>NaN</td>\n",
       "      <td>NaN</td>\n",
       "    </tr>\n",
       "    <tr>\n",
       "      <th>Decision quarter</th>\n",
       "      <td>14690</td>\n",
       "      <td>4</td>\n",
       "      <td>Q3</td>\n",
       "      <td>6225</td>\n",
       "      <td>NaN</td>\n",
       "      <td>NaN</td>\n",
       "      <td>NaN</td>\n",
       "      <td>NaN</td>\n",
       "      <td>NaN</td>\n",
       "      <td>NaN</td>\n",
       "      <td>NaN</td>\n",
       "    </tr>\n",
       "    <tr>\n",
       "      <th>ACE Area</th>\n",
       "      <td>14690</td>\n",
       "      <td>5</td>\n",
       "      <td>London</td>\n",
       "      <td>4145</td>\n",
       "      <td>NaN</td>\n",
       "      <td>NaN</td>\n",
       "      <td>NaN</td>\n",
       "      <td>NaN</td>\n",
       "      <td>NaN</td>\n",
       "      <td>NaN</td>\n",
       "      <td>NaN</td>\n",
       "    </tr>\n",
       "    <tr>\n",
       "      <th>Local authority</th>\n",
       "      <td>14690</td>\n",
       "      <td>303</td>\n",
       "      <td>Hackney</td>\n",
       "      <td>500</td>\n",
       "      <td>NaN</td>\n",
       "      <td>NaN</td>\n",
       "      <td>NaN</td>\n",
       "      <td>NaN</td>\n",
       "      <td>NaN</td>\n",
       "      <td>NaN</td>\n",
       "      <td>NaN</td>\n",
       "    </tr>\n",
       "    <tr>\n",
       "      <th>Main discipline</th>\n",
       "      <td>14690</td>\n",
       "      <td>9</td>\n",
       "      <td>Theatre</td>\n",
       "      <td>4845</td>\n",
       "      <td>NaN</td>\n",
       "      <td>NaN</td>\n",
       "      <td>NaN</td>\n",
       "      <td>NaN</td>\n",
       "      <td>NaN</td>\n",
       "      <td>NaN</td>\n",
       "      <td>NaN</td>\n",
       "    </tr>\n",
       "    <tr>\n",
       "      <th>Strand</th>\n",
       "      <td>14690</td>\n",
       "      <td>5</td>\n",
       "      <td>£15,000 and below</td>\n",
       "      <td>12175</td>\n",
       "      <td>NaN</td>\n",
       "      <td>NaN</td>\n",
       "      <td>NaN</td>\n",
       "      <td>NaN</td>\n",
       "      <td>NaN</td>\n",
       "      <td>NaN</td>\n",
       "      <td>NaN</td>\n",
       "    </tr>\n",
       "    <tr>\n",
       "      <th>Time-Limited Priority</th>\n",
       "      <td>0.0</td>\n",
       "      <td>NaN</td>\n",
       "      <td>NaN</td>\n",
       "      <td>NaN</td>\n",
       "      <td>NaN</td>\n",
       "      <td>NaN</td>\n",
       "      <td>NaN</td>\n",
       "      <td>NaN</td>\n",
       "      <td>NaN</td>\n",
       "      <td>NaN</td>\n",
       "      <td>NaN</td>\n",
       "    </tr>\n",
       "  </tbody>\n",
       "</table>\n",
       "</div>"
      ],
      "text/plain": [
       "                       count unique                top   freq mean  std  min  25%  50%  75%  max\n",
       "Recipient              14690   2816         Botis Seva     15  NaN  NaN  NaN  NaN  NaN  NaN  NaN\n",
       "Activity name          14690   2934                RAT     10  NaN  NaN  NaN  NaN  NaN  NaN  NaN\n",
       "Award amount           14690   1712            £15,000   2090  NaN  NaN  NaN  NaN  NaN  NaN  NaN\n",
       "Award date             14690    104          16-Dec-20    555  NaN  NaN  NaN  NaN  NaN  NaN  NaN\n",
       "Decision Month         14690      9            October   2745  NaN  NaN  NaN  NaN  NaN  NaN  NaN\n",
       "Decision quarter       14690      4                 Q3   6225  NaN  NaN  NaN  NaN  NaN  NaN  NaN\n",
       "ACE Area               14690      5             London   4145  NaN  NaN  NaN  NaN  NaN  NaN  NaN\n",
       "Local authority        14690    303            Hackney    500  NaN  NaN  NaN  NaN  NaN  NaN  NaN\n",
       "Main discipline        14690      9            Theatre   4845  NaN  NaN  NaN  NaN  NaN  NaN  NaN\n",
       "Strand                 14690      5  £15,000 and below  12175  NaN  NaN  NaN  NaN  NaN  NaN  NaN\n",
       "Time-Limited Priority    0.0    NaN                NaN    NaN  NaN  NaN  NaN  NaN  NaN  NaN  NaN"
      ]
     },
     "metadata": {},
     "output_type": "display_data"
    }
   ],
   "source": [
    "# Show the first few rows of the dataframe\n",
    "#print(\"Data preview:\", df.head(10))\n",
    "display(df.head(10))\n",
    "\n",
    "# Check the shape of the dataframe\n",
    "#print(\"Dataframe shape:\", df.shape)\n",
    "display(df.shape)\n",
    "\n",
    "# check the summary statistics of the dataframe\n",
    "print(\"Summary statistics in table:\",)\n",
    "display(df.describe(include='all').T)\n"
   ]
  },
  {
   "cell_type": "code",
   "execution_count": 53,
   "id": "45a763f7",
   "metadata": {},
   "outputs": [
    {
     "name": "stdout",
     "output_type": "stream",
     "text": [
      "Data types:\n"
     ]
    },
    {
     "data": {
      "text/plain": [
       "Recipient                 object\n",
       "Activity name             object\n",
       "Award amount              object\n",
       "Award date                object\n",
       "Decision Month            object\n",
       "Decision quarter          object\n",
       "ACE Area                  object\n",
       "Local authority           object\n",
       "Main discipline           object\n",
       "Strand                    object\n",
       "Time-Limited Priority    float64\n",
       "dtype: object"
      ]
     },
     "metadata": {},
     "output_type": "display_data"
    },
    {
     "name": "stdout",
     "output_type": "stream",
     "text": [
      "Data preview: last 10 rows\n"
     ]
    },
    {
     "data": {
      "application/vnd.microsoft.datawrangler.viewer.v0+json": {
       "columns": [
        {
         "name": "index",
         "rawType": "int64",
         "type": "integer"
        },
        {
         "name": "Recipient",
         "rawType": "object",
         "type": "string"
        },
        {
         "name": "Activity name",
         "rawType": "object",
         "type": "string"
        },
        {
         "name": "Award amount",
         "rawType": "object",
         "type": "string"
        },
        {
         "name": "Award date",
         "rawType": "object",
         "type": "string"
        },
        {
         "name": "Decision Month",
         "rawType": "object",
         "type": "string"
        },
        {
         "name": "Decision quarter",
         "rawType": "object",
         "type": "string"
        },
        {
         "name": "ACE Area",
         "rawType": "object",
         "type": "string"
        },
        {
         "name": "Local authority",
         "rawType": "object",
         "type": "string"
        },
        {
         "name": "Main discipline",
         "rawType": "object",
         "type": "string"
        },
        {
         "name": "Strand",
         "rawType": "object",
         "type": "string"
        },
        {
         "name": "Time-Limited Priority",
         "rawType": "float64",
         "type": "float"
        }
       ],
       "conversionMethod": "pd.DataFrame",
       "ref": "bb8d28f1-9774-48de-8230-d600af9528f7",
       "rows": [
        [
         "14680",
         "Helen Clare Farrow",
         "Reinventing Texture: Japan",
         "£15,000",
         "25-Mar-21",
         "March",
         "Q4",
         "London",
         "Richmond upon Thames",
         "Visual arts",
         "£15,000 and below",
         null
        ],
        [
         "14681",
         "Union Chapel Project",
         "Union Chapel Project",
         "£14,656",
         "25-Mar-21",
         "March",
         "Q4",
         "London",
         "Islington",
         "Music",
         "£15,000 and below",
         null
        ],
        [
         "14682",
         "Holly Argent",
         "Women Artists of the North East Library 2021-22",
         "£30,769",
         "25-Mar-21",
         "March",
         "Q4",
         "North",
         "Gateshead",
         "Visual arts",
         "Above £15,000",
         null
        ],
        [
         "14683",
         "Theatre Temoin Limited",
         "Local Voices",
         "£30,000",
         "25-Mar-21",
         "March",
         "Q4",
         "South East",
         "Colchester",
         "Theatre",
         "Above £15,000",
         null
        ],
        [
         "14684",
         "Creative Arts East",
         "Plugged In",
         "£49,648",
         "25-Mar-21",
         "March",
         "Q4",
         "South East",
         "South Norfolk",
         "Combined arts",
         "Above £15,000",
         null
        ],
        [
         "14685",
         "FarGo Village",
         "FarGo Village Outdoor Arts creative programming",
         "£49,990",
         "26-Mar-21",
         "March",
         "Q4",
         "Midlands",
         "Coventry",
         "Combined arts",
         "Above £15,000",
         null
        ],
        [
         "14686",
         "Rugby League World Cup 2021",
         "RLWC2021 Culture Festival",
         "£949,581",
         "26-Mar-21",
         "March",
         "Q4",
         "North",
         "Trafford",
         "Combined arts",
         "National activity above £100,000",
         null
        ],
        [
         "14687",
         "Jaivant Patel Company CIC",
         "Next Steps Resubmission",
         "£49,995",
         "26-Mar-21",
         "March",
         "Q4",
         "Midlands",
         "Wolverhampton",
         "Dance",
         "Above £15,000",
         null
        ],
        [
         "14688",
         "Humanhood",
         "Two years of artistic development, YinYang and ∞",
         "£250,000",
         "26-Mar-21",
         "March",
         "Q4",
         "Midlands",
         "Birmingham",
         "Dance",
         "National activity above £100,000",
         null
        ],
        [
         "14689",
         "Ort Gallery",
         "Warmth",
         "£70,073",
         "26-Mar-21",
         "March",
         "Q4",
         "Midlands",
         "Birmingham",
         "Visual arts",
         "Above £15,000",
         null
        ]
       ],
       "shape": {
        "columns": 11,
        "rows": 10
       }
      },
      "text/html": [
       "<div>\n",
       "<style scoped>\n",
       "    .dataframe tbody tr th:only-of-type {\n",
       "        vertical-align: middle;\n",
       "    }\n",
       "\n",
       "    .dataframe tbody tr th {\n",
       "        vertical-align: top;\n",
       "    }\n",
       "\n",
       "    .dataframe thead th {\n",
       "        text-align: right;\n",
       "    }\n",
       "</style>\n",
       "<table border=\"1\" class=\"dataframe\">\n",
       "  <thead>\n",
       "    <tr style=\"text-align: right;\">\n",
       "      <th></th>\n",
       "      <th>Recipient</th>\n",
       "      <th>Activity name</th>\n",
       "      <th>Award amount</th>\n",
       "      <th>Award date</th>\n",
       "      <th>Decision Month</th>\n",
       "      <th>Decision quarter</th>\n",
       "      <th>ACE Area</th>\n",
       "      <th>Local authority</th>\n",
       "      <th>Main discipline</th>\n",
       "      <th>Strand</th>\n",
       "      <th>Time-Limited Priority</th>\n",
       "    </tr>\n",
       "  </thead>\n",
       "  <tbody>\n",
       "    <tr>\n",
       "      <th>14680</th>\n",
       "      <td>Helen Clare Farrow</td>\n",
       "      <td>Reinventing Texture: Japan</td>\n",
       "      <td>£15,000</td>\n",
       "      <td>25-Mar-21</td>\n",
       "      <td>March</td>\n",
       "      <td>Q4</td>\n",
       "      <td>London</td>\n",
       "      <td>Richmond upon Thames</td>\n",
       "      <td>Visual arts</td>\n",
       "      <td>£15,000 and below</td>\n",
       "      <td>NaN</td>\n",
       "    </tr>\n",
       "    <tr>\n",
       "      <th>14681</th>\n",
       "      <td>Union Chapel Project</td>\n",
       "      <td>Union Chapel Project</td>\n",
       "      <td>£14,656</td>\n",
       "      <td>25-Mar-21</td>\n",
       "      <td>March</td>\n",
       "      <td>Q4</td>\n",
       "      <td>London</td>\n",
       "      <td>Islington</td>\n",
       "      <td>Music</td>\n",
       "      <td>£15,000 and below</td>\n",
       "      <td>NaN</td>\n",
       "    </tr>\n",
       "    <tr>\n",
       "      <th>14682</th>\n",
       "      <td>Holly Argent</td>\n",
       "      <td>Women Artists of the North East Library 2021-22</td>\n",
       "      <td>£30,769</td>\n",
       "      <td>25-Mar-21</td>\n",
       "      <td>March</td>\n",
       "      <td>Q4</td>\n",
       "      <td>North</td>\n",
       "      <td>Gateshead</td>\n",
       "      <td>Visual arts</td>\n",
       "      <td>Above £15,000</td>\n",
       "      <td>NaN</td>\n",
       "    </tr>\n",
       "    <tr>\n",
       "      <th>14683</th>\n",
       "      <td>Theatre Temoin Limited</td>\n",
       "      <td>Local Voices</td>\n",
       "      <td>£30,000</td>\n",
       "      <td>25-Mar-21</td>\n",
       "      <td>March</td>\n",
       "      <td>Q4</td>\n",
       "      <td>South East</td>\n",
       "      <td>Colchester</td>\n",
       "      <td>Theatre</td>\n",
       "      <td>Above £15,000</td>\n",
       "      <td>NaN</td>\n",
       "    </tr>\n",
       "    <tr>\n",
       "      <th>14684</th>\n",
       "      <td>Creative Arts East</td>\n",
       "      <td>Plugged In</td>\n",
       "      <td>£49,648</td>\n",
       "      <td>25-Mar-21</td>\n",
       "      <td>March</td>\n",
       "      <td>Q4</td>\n",
       "      <td>South East</td>\n",
       "      <td>South Norfolk</td>\n",
       "      <td>Combined arts</td>\n",
       "      <td>Above £15,000</td>\n",
       "      <td>NaN</td>\n",
       "    </tr>\n",
       "    <tr>\n",
       "      <th>14685</th>\n",
       "      <td>FarGo Village</td>\n",
       "      <td>FarGo Village Outdoor Arts creative programming</td>\n",
       "      <td>£49,990</td>\n",
       "      <td>26-Mar-21</td>\n",
       "      <td>March</td>\n",
       "      <td>Q4</td>\n",
       "      <td>Midlands</td>\n",
       "      <td>Coventry</td>\n",
       "      <td>Combined arts</td>\n",
       "      <td>Above £15,000</td>\n",
       "      <td>NaN</td>\n",
       "    </tr>\n",
       "    <tr>\n",
       "      <th>14686</th>\n",
       "      <td>Rugby League World Cup 2021</td>\n",
       "      <td>RLWC2021 Culture Festival</td>\n",
       "      <td>£949,581</td>\n",
       "      <td>26-Mar-21</td>\n",
       "      <td>March</td>\n",
       "      <td>Q4</td>\n",
       "      <td>North</td>\n",
       "      <td>Trafford</td>\n",
       "      <td>Combined arts</td>\n",
       "      <td>National activity above £100,000</td>\n",
       "      <td>NaN</td>\n",
       "    </tr>\n",
       "    <tr>\n",
       "      <th>14687</th>\n",
       "      <td>Jaivant Patel Company CIC</td>\n",
       "      <td>Next Steps Resubmission</td>\n",
       "      <td>£49,995</td>\n",
       "      <td>26-Mar-21</td>\n",
       "      <td>March</td>\n",
       "      <td>Q4</td>\n",
       "      <td>Midlands</td>\n",
       "      <td>Wolverhampton</td>\n",
       "      <td>Dance</td>\n",
       "      <td>Above £15,000</td>\n",
       "      <td>NaN</td>\n",
       "    </tr>\n",
       "    <tr>\n",
       "      <th>14688</th>\n",
       "      <td>Humanhood</td>\n",
       "      <td>Two years of artistic development, YinYang and ∞</td>\n",
       "      <td>£250,000</td>\n",
       "      <td>26-Mar-21</td>\n",
       "      <td>March</td>\n",
       "      <td>Q4</td>\n",
       "      <td>Midlands</td>\n",
       "      <td>Birmingham</td>\n",
       "      <td>Dance</td>\n",
       "      <td>National activity above £100,000</td>\n",
       "      <td>NaN</td>\n",
       "    </tr>\n",
       "    <tr>\n",
       "      <th>14689</th>\n",
       "      <td>Ort Gallery</td>\n",
       "      <td>Warmth</td>\n",
       "      <td>£70,073</td>\n",
       "      <td>26-Mar-21</td>\n",
       "      <td>March</td>\n",
       "      <td>Q4</td>\n",
       "      <td>Midlands</td>\n",
       "      <td>Birmingham</td>\n",
       "      <td>Visual arts</td>\n",
       "      <td>Above £15,000</td>\n",
       "      <td>NaN</td>\n",
       "    </tr>\n",
       "  </tbody>\n",
       "</table>\n",
       "</div>"
      ],
      "text/plain": [
       "                         Recipient                                     Activity name Award amount Award date Decision Month Decision quarter    ACE Area       Local authority Main discipline                            Strand  Time-Limited Priority\n",
       "14680           Helen Clare Farrow                        Reinventing Texture: Japan      £15,000  25-Mar-21          March               Q4      London  Richmond upon Thames     Visual arts                 £15,000 and below                    NaN\n",
       "14681         Union Chapel Project                              Union Chapel Project      £14,656  25-Mar-21          March               Q4      London             Islington           Music                 £15,000 and below                    NaN\n",
       "14682                 Holly Argent   Women Artists of the North East Library 2021-22      £30,769  25-Mar-21          March               Q4       North             Gateshead     Visual arts                     Above £15,000                    NaN\n",
       "14683       Theatre Temoin Limited                                      Local Voices      £30,000  25-Mar-21          March               Q4  South East            Colchester         Theatre                     Above £15,000                    NaN\n",
       "14684           Creative Arts East                                        Plugged In      £49,648  25-Mar-21          March               Q4  South East         South Norfolk   Combined arts                     Above £15,000                    NaN\n",
       "14685                FarGo Village   FarGo Village Outdoor Arts creative programming      £49,990  26-Mar-21          March               Q4    Midlands              Coventry   Combined arts                     Above £15,000                    NaN\n",
       "14686  Rugby League World Cup 2021                         RLWC2021 Culture Festival     £949,581  26-Mar-21          March               Q4       North              Trafford   Combined arts  National activity above £100,000                    NaN\n",
       "14687    Jaivant Patel Company CIC                           Next Steps Resubmission      £49,995  26-Mar-21          March               Q4    Midlands         Wolverhampton           Dance                     Above £15,000                    NaN\n",
       "14688                    Humanhood  Two years of artistic development, YinYang and ∞     £250,000  26-Mar-21          March               Q4    Midlands            Birmingham           Dance  National activity above £100,000                    NaN\n",
       "14689                  Ort Gallery                                            Warmth      £70,073  26-Mar-21          March               Q4    Midlands            Birmingham     Visual arts                     Above £15,000                    NaN"
      ]
     },
     "metadata": {},
     "output_type": "display_data"
    },
    {
     "name": "stdout",
     "output_type": "stream",
     "text": [
      "\n",
      "Basic stats\n",
      "<class 'pandas.core.frame.DataFrame'>\n",
      "RangeIndex: 14690 entries, 0 to 14689\n",
      "Data columns (total 11 columns):\n",
      " #   Column                 Non-Null Count  Dtype  \n",
      "---  ------                 --------------  -----  \n",
      " 0   Recipient              14690 non-null  object \n",
      " 1   Activity name          14690 non-null  object \n",
      " 2   Award amount           14690 non-null  object \n",
      " 3   Award date             14690 non-null  object \n",
      " 4   Decision Month         14690 non-null  object \n",
      " 5   Decision quarter       14690 non-null  object \n",
      " 6   ACE Area               14690 non-null  object \n",
      " 7   Local authority        14690 non-null  object \n",
      " 8   Main discipline        14690 non-null  object \n",
      " 9   Strand                 14690 non-null  object \n",
      " 10  Time-Limited Priority  0 non-null      float64\n",
      "dtypes: float64(1), object(10)\n",
      "memory usage: 1.2+ MB\n"
     ]
    }
   ],
   "source": [
    "# Check the data types of the columns\n",
    "print(\"Data types:\")\n",
    "display(df.dtypes)\n",
    "\n",
    "\n",
    "# Show the last few rows of the dataframe\n",
    "print(\"Data preview: last 10 rows\") \n",
    "display(df.tail(10))\n",
    "\n",
    "# Show basic statistics of the dataframe\n",
    "print(\"\\nBasic stats\") \n",
    "df.info()"
   ]
  },
  {
   "cell_type": "markdown",
   "id": "095cc847",
   "metadata": {},
   "source": [
    "### 4. Identifying Common Data Issues"
   ]
  },
  {
   "cell_type": "markdown",
   "id": "7d998a8e",
   "metadata": {},
   "source": [
    "### Missing Values Analysis"
   ]
  },
  {
   "cell_type": "code",
   "execution_count": 54,
   "id": "afd05d10",
   "metadata": {},
   "outputs": [
    {
     "data": {
      "application/vnd.microsoft.datawrangler.viewer.v0+json": {
       "columns": [
        {
         "name": "index",
         "rawType": "object",
         "type": "string"
        },
        {
         "name": "Missing Values",
         "rawType": "int64",
         "type": "integer"
        },
        {
         "name": "Missing Percentage",
         "rawType": "float64",
         "type": "float"
        }
       ],
       "conversionMethod": "pd.DataFrame",
       "ref": "8cf5291a-a816-4c0c-9fb0-c53e73ce41b7",
       "rows": [
        [
         "Time-Limited Priority",
         "14690",
         "100.0"
        ]
       ],
       "shape": {
        "columns": 2,
        "rows": 1
       }
      },
      "text/html": [
       "<div>\n",
       "<style scoped>\n",
       "    .dataframe tbody tr th:only-of-type {\n",
       "        vertical-align: middle;\n",
       "    }\n",
       "\n",
       "    .dataframe tbody tr th {\n",
       "        vertical-align: top;\n",
       "    }\n",
       "\n",
       "    .dataframe thead th {\n",
       "        text-align: right;\n",
       "    }\n",
       "</style>\n",
       "<table border=\"1\" class=\"dataframe\">\n",
       "  <thead>\n",
       "    <tr style=\"text-align: right;\">\n",
       "      <th></th>\n",
       "      <th>Missing Values</th>\n",
       "      <th>Missing Percentage</th>\n",
       "    </tr>\n",
       "  </thead>\n",
       "  <tbody>\n",
       "    <tr>\n",
       "      <th>Time-Limited Priority</th>\n",
       "      <td>14690</td>\n",
       "      <td>100.0</td>\n",
       "    </tr>\n",
       "  </tbody>\n",
       "</table>\n",
       "</div>"
      ],
      "text/plain": [
       "                       Missing Values  Missing Percentage\n",
       "Time-Limited Priority           14690               100.0"
      ]
     },
     "metadata": {},
     "output_type": "display_data"
    },
    {
     "data": {
      "image/png": "[encoded data removed]",
      "text/plain": [
       "<Figure size 1200x600 with 1 Axes>"
      ]
     },
     "metadata": {},
     "output_type": "display_data"
    }
   ],
   "source": [
    "\n",
    "# Calculate missing values\n",
    "missing_values = df.isnull().sum()\n",
    "missing_percentage = (missing_values / len(df)) * 100\n",
    "\n",
    "# Create a DataFrame to display missing values information\n",
    "missing_info = pd.DataFrame({\n",
    "    'Missing Values': missing_values,\n",
    "    'Missing Percentage': missing_percentage.round(2)\n",
    "})\n",
    "\n",
    "# Sort by missing percentage\n",
    "missing_info = missing_info[missing_info['Missing Values'] > 0].sort_values('Missing Percentage', ascending=False)\n",
    "display(missing_info)\n",
    "\n",
    "# Visualize missing values\n",
    "if not missing_info.empty:\n",
    "    plt.figure(figsize=(12, 6))\n",
    "    sns.heatmap(df.isnull(), cbar=False, yticklabels=False, cmap='viridis')\n",
    "    plt.title('Missing Values Heatmap')\n",
    "    plt.tight_layout()\n",
    "    plt.show()\n",
    "\n",
    "# Check for missing values\n",
    "#print(\"Missing values:\", df.isnull().sum())\n",
    "# Check for duplicate rows\n",
    "#print(\"Duplicate rows:\", df.duplicated().sum())\n",
    "# Check the number of unique values in each column\n",
    "#print(\"Unique values:\", df.nunique())\n",
    "\n"
   ]
  },
  {
   "cell_type": "markdown",
   "id": "105aa45e",
   "metadata": {},
   "source": [
    "### Duplicate Records"
   ]
  },
  {
   "cell_type": "code",
   "execution_count": 55,
   "id": "45e5135f",
   "metadata": {},
   "outputs": [
    {
     "name": "stdout",
     "output_type": "stream",
     "text": [
      "Number of duplicate rows: 11752\n"
     ]
    },
    {
     "data": {
      "application/vnd.microsoft.datawrangler.viewer.v0+json": {
       "columns": [
        {
         "name": "index",
         "rawType": "int64",
         "type": "integer"
        },
        {
         "name": "Recipient",
         "rawType": "object",
         "type": "string"
        },
        {
         "name": "Activity name",
         "rawType": "object",
         "type": "string"
        },
        {
         "name": "Award amount",
         "rawType": "object",
         "type": "string"
        },
        {
         "name": "Award date",
         "rawType": "object",
         "type": "string"
        },
        {
         "name": "Decision Month",
         "rawType": "object",
         "type": "string"
        },
        {
         "name": "Decision quarter",
         "rawType": "object",
         "type": "string"
        },
        {
         "name": "ACE Area",
         "rawType": "object",
         "type": "string"
        },
        {
         "name": "Local authority",
         "rawType": "object",
         "type": "string"
        },
        {
         "name": "Main discipline",
         "rawType": "object",
         "type": "string"
        },
        {
         "name": "Strand",
         "rawType": "object",
         "type": "string"
        },
        {
         "name": "Time-Limited Priority",
         "rawType": "float64",
         "type": "float"
        }
       ],
       "conversionMethod": "pd.DataFrame",
       "ref": "d6a252af-9f75-42b9-a69d-8e413a796755",
       "rows": [
        [
         "9886",
         "-",
         "R&D - Digital & 'Other' 2020",
         "£20,420",
         "23-Oct-20",
         "October",
         "Q3",
         "North",
         "Northumberland",
         "Literature",
         "£15,000 and below",
         null
        ],
        [
         "4010",
         "-",
         "R&D - Digital & 'Other' 2020",
         "£20,420",
         "23-Oct-20",
         "October",
         "Q3",
         "North",
         "Northumberland",
         "Literature",
         "£15,000 and below",
         null
        ],
        [
         "6948",
         "-",
         "R&D - Digital & 'Other' 2020",
         "£20,420",
         "23-Oct-20",
         "October",
         "Q3",
         "North",
         "Northumberland",
         "Literature",
         "£15,000 and below",
         null
        ],
        [
         "12824",
         "-",
         "R&D - Digital & 'Other' 2020",
         "£20,420",
         "23-Oct-20",
         "October",
         "Q3",
         "North",
         "Northumberland",
         "Literature",
         "£15,000 and below",
         null
        ],
        [
         "1072",
         "-",
         "R&D - Digital & 'Other' 2020",
         "£20,420",
         "23-Oct-20",
         "October",
         "Q3",
         "North",
         "Northumberland",
         "Literature",
         "£15,000 and below",
         null
        ]
       ],
       "shape": {
        "columns": 11,
        "rows": 5
       }
      },
      "text/html": [
       "<div>\n",
       "<style scoped>\n",
       "    .dataframe tbody tr th:only-of-type {\n",
       "        vertical-align: middle;\n",
       "    }\n",
       "\n",
       "    .dataframe tbody tr th {\n",
       "        vertical-align: top;\n",
       "    }\n",
       "\n",
       "    .dataframe thead th {\n",
       "        text-align: right;\n",
       "    }\n",
       "</style>\n",
       "<table border=\"1\" class=\"dataframe\">\n",
       "  <thead>\n",
       "    <tr style=\"text-align: right;\">\n",
       "      <th></th>\n",
       "      <th>Recipient</th>\n",
       "      <th>Activity name</th>\n",
       "      <th>Award amount</th>\n",
       "      <th>Award date</th>\n",
       "      <th>Decision Month</th>\n",
       "      <th>Decision quarter</th>\n",
       "      <th>ACE Area</th>\n",
       "      <th>Local authority</th>\n",
       "      <th>Main discipline</th>\n",
       "      <th>Strand</th>\n",
       "      <th>Time-Limited Priority</th>\n",
       "    </tr>\n",
       "  </thead>\n",
       "  <tbody>\n",
       "    <tr>\n",
       "      <th>9886</th>\n",
       "      <td>-</td>\n",
       "      <td>R&amp;D - Digital &amp; 'Other' 2020</td>\n",
       "      <td>£20,420</td>\n",
       "      <td>23-Oct-20</td>\n",
       "      <td>October</td>\n",
       "      <td>Q3</td>\n",
       "      <td>North</td>\n",
       "      <td>Northumberland</td>\n",
       "      <td>Literature</td>\n",
       "      <td>£15,000 and below</td>\n",
       "      <td>NaN</td>\n",
       "    </tr>\n",
       "    <tr>\n",
       "      <th>4010</th>\n",
       "      <td>-</td>\n",
       "      <td>R&amp;D - Digital &amp; 'Other' 2020</td>\n",
       "      <td>£20,420</td>\n",
       "      <td>23-Oct-20</td>\n",
       "      <td>October</td>\n",
       "      <td>Q3</td>\n",
       "      <td>North</td>\n",
       "      <td>Northumberland</td>\n",
       "      <td>Literature</td>\n",
       "      <td>£15,000 and below</td>\n",
       "      <td>NaN</td>\n",
       "    </tr>\n",
       "    <tr>\n",
       "      <th>6948</th>\n",
       "      <td>-</td>\n",
       "      <td>R&amp;D - Digital &amp; 'Other' 2020</td>\n",
       "      <td>£20,420</td>\n",
       "      <td>23-Oct-20</td>\n",
       "      <td>October</td>\n",
       "      <td>Q3</td>\n",
       "      <td>North</td>\n",
       "      <td>Northumberland</td>\n",
       "      <td>Literature</td>\n",
       "      <td>£15,000 and below</td>\n",
       "      <td>NaN</td>\n",
       "    </tr>\n",
       "    <tr>\n",
       "      <th>12824</th>\n",
       "      <td>-</td>\n",
       "      <td>R&amp;D - Digital &amp; 'Other' 2020</td>\n",
       "      <td>£20,420</td>\n",
       "      <td>23-Oct-20</td>\n",
       "      <td>October</td>\n",
       "      <td>Q3</td>\n",
       "      <td>North</td>\n",
       "      <td>Northumberland</td>\n",
       "      <td>Literature</td>\n",
       "      <td>£15,000 and below</td>\n",
       "      <td>NaN</td>\n",
       "    </tr>\n",
       "    <tr>\n",
       "      <th>1072</th>\n",
       "      <td>-</td>\n",
       "      <td>R&amp;D - Digital &amp; 'Other' 2020</td>\n",
       "      <td>£20,420</td>\n",
       "      <td>23-Oct-20</td>\n",
       "      <td>October</td>\n",
       "      <td>Q3</td>\n",
       "      <td>North</td>\n",
       "      <td>Northumberland</td>\n",
       "      <td>Literature</td>\n",
       "      <td>£15,000 and below</td>\n",
       "      <td>NaN</td>\n",
       "    </tr>\n",
       "  </tbody>\n",
       "</table>\n",
       "</div>"
      ],
      "text/plain": [
       "      Recipient                 Activity name Award amount Award date Decision Month Decision quarter ACE Area Local authority Main discipline             Strand  Time-Limited Priority\n",
       "9886          -  R&D - Digital & 'Other' 2020      £20,420  23-Oct-20        October               Q3    North  Northumberland      Literature  £15,000 and below                    NaN\n",
       "4010          -  R&D - Digital & 'Other' 2020      £20,420  23-Oct-20        October               Q3    North  Northumberland      Literature  £15,000 and below                    NaN\n",
       "6948          -  R&D - Digital & 'Other' 2020      £20,420  23-Oct-20        October               Q3    North  Northumberland      Literature  £15,000 and below                    NaN\n",
       "12824         -  R&D - Digital & 'Other' 2020      £20,420  23-Oct-20        October               Q3    North  Northumberland      Literature  £15,000 and below                    NaN\n",
       "1072          -  R&D - Digital & 'Other' 2020      £20,420  23-Oct-20        October               Q3    North  Northumberland      Literature  £15,000 and below                    NaN"
      ]
     },
     "metadata": {},
     "output_type": "display_data"
    }
   ],
   "source": [
    "# Check for duplicates\n",
    "duplicates = df.duplicated().sum()\n",
    "print(f\"Number of duplicate rows: {duplicates}\")\n",
    "\n",
    "if duplicates > 0:\n",
    "    # Show examples of duplicates\n",
    "    display(df[df.duplicated(keep=False)].sort_values(by=df.columns[0]).head())\n",
    "    \n",
    "# Show all columns in the dataframe\n",
    "#pd.set_option('display.max_columns', None)\n",
    "\n",
    "# Display the first few rows of the dataframe\n",
    "#print(\"Data preview:\", df.head(1))"
   ]
  },
  {
   "cell_type": "markdown",
   "id": "3948b68d",
   "metadata": {},
   "source": [
    "### Data Type Issues"
   ]
  },
  {
   "cell_type": "code",
   "execution_count": 56,
   "id": "01992ae2",
   "metadata": {},
   "outputs": [
    {
     "name": "stdout",
     "output_type": "stream",
     "text": [
      "Data types:\n"
     ]
    },
    {
     "data": {
      "text/plain": [
       "Recipient                 object\n",
       "Activity name             object\n",
       "Award amount              object\n",
       "Award date                object\n",
       "Decision Month            object\n",
       "Decision quarter          object\n",
       "ACE Area                  object\n",
       "Local authority           object\n",
       "Main discipline           object\n",
       "Strand                    object\n",
       "Time-Limited Priority    float64\n",
       "dtype: object"
      ]
     },
     "metadata": {},
     "output_type": "display_data"
    },
    {
     "name": "stdout",
     "output_type": "stream",
     "text": [
      "Potential numeric columns stored as objects: []\n"
     ]
    }
   ],
   "source": [
    "# Check data types\n",
    "print(\"Data types:\")\n",
    "display(df.dtypes)\n",
    "\n",
    "# Identify numeric columns incorrectly stored as objects\n",
    "potential_numeric = []\n",
    "for col in df.select_dtypes(include=['object']).columns:\n",
    "    # Check if most values in the column can be converted to numeric\n",
    "    numeric_count = sum(pd.to_numeric(df[col], errors='coerce').notnull())\n",
    "    if numeric_count > 0.5 * len(df):\n",
    "        potential_numeric.append(col)\n",
    "\n",
    "print(f\"Potential numeric columns stored as objects: {potential_numeric}\")"
   ]
  },
  {
   "cell_type": "markdown",
   "id": "024164ea",
   "metadata": {},
   "source": [
    "### Outlier Detection"
   ]
  },
  {
   "cell_type": "code",
   "execution_count": 57,
   "id": "27114ea3",
   "metadata": {},
   "outputs": [
    {
     "name": "stdout",
     "output_type": "stream",
     "text": [
      "No numeric columns with valid data to plot.\n"
     ]
    }
   ],
   "source": [
    "# Function to detect outliers in numeric columns\n",
    "def detect_outliers(df, numeric_cols=None):\n",
    "    if numeric_cols is None:\n",
    "        numeric_cols = df.select_dtypes(include=['number']).columns\n",
    "    \n",
    "    # Filter out numeric columns with all NaN values\n",
    "    numeric_cols = [col for col in numeric_cols if df[col].notna().any()]\n",
    "    \n",
    "    if not numeric_cols:\n",
    "        print(\"No numeric columns with valid data to plot.\")\n",
    "        return\n",
    "    \n",
    "    plt.figure(figsize=(15, len(numeric_cols) * 4))\n",
    "    \n",
    "    for i, col in enumerate(numeric_cols):\n",
    "        plt.subplot(len(numeric_cols), 2, 2*i+1)\n",
    "        sns.boxplot(x=df[col])\n",
    "        plt.title(f'Boxplot of {col}')\n",
    "        \n",
    "        plt.subplot(len(numeric_cols), 2, 2*i+2)\n",
    "        sns.histplot(df[col], kde=True)\n",
    "        plt.title(f'Distribution of {col}')\n",
    "    \n",
    "    plt.tight_layout()\n",
    "    plt.show()\n",
    "\n",
    "# Detect outliers in numeric columns (limit to 5 columns for clarity)\n",
    "numeric_cols = df.select_dtypes(include=['number']).columns[:5]\n",
    "detect_outliers(df, numeric_cols)"
   ]
  },
  {
   "cell_type": "markdown",
   "id": "de595aae",
   "metadata": {},
   "source": [
    "### Inconsistent Text Values\n"
   ]
  },
  {
   "cell_type": "code",
   "execution_count": 58,
   "id": "d2cbf48e",
   "metadata": {},
   "outputs": [
    {
     "name": "stdout",
     "output_type": "stream",
     "text": [
      "\n",
      "Column: Recipient\n",
      "Total non-null values: 14690\n",
      "Lowercase values: 290 (2.0%)\n",
      "Uppercase values: 330 (2.2%)\n",
      "Title case values: 12195 (83.0%)\n",
      "Sample values:\n"
     ]
    },
    {
     "data": {
      "text/plain": [
       "Recipient\n",
       "Botis Seva                       15\n",
       "Liga Orlovska                    15\n",
       "Body Politic Dance Limited       15\n",
       "Tom Wright                       10\n",
       "Kieron Burke                     10\n",
       "Thomas Ollendorff                10\n",
       "ALFIE JAMES                      10\n",
       "Matthew Linley                   10\n",
       "Just Us Dance Theatre Company    10\n",
       "Steven Fowler                    10\n",
       "Name: count, dtype: int64"
      ]
     },
     "metadata": {},
     "output_type": "display_data"
    },
    {
     "name": "stdout",
     "output_type": "stream",
     "text": [
      "\n",
      "Column: Activity name\n",
      "Total non-null values: 14690\n",
      "Lowercase values: 145 (1.0%)\n",
      "Uppercase values: 670 (4.6%)\n",
      "Title case values: 7315 (49.8%)\n",
      "Sample values:\n"
     ]
    },
    {
     "data": {
      "text/plain": [
       "Activity name\n",
       "RAT                                    10\n",
       "Company Development                    10\n",
       "Organisational Development             10\n",
       "The Stopping Place                     10\n",
       "My World, My City, My Neighbourhood     5\n",
       "Speakertruth                            5\n",
       "Dancing Deities                         5\n",
       "The Flock Narrative Podcast Series      5\n",
       "Earwax Presents                         5\n",
       "European Poetry Festival UK 2021        5\n",
       "Name: count, dtype: int64"
      ]
     },
     "metadata": {},
     "output_type": "display_data"
    },
    {
     "name": "stdout",
     "output_type": "stream",
     "text": [
      "\n",
      "Column: Award amount\n",
      "Total non-null values: 14690\n",
      "Lowercase values: 0 (0.0%)\n",
      "Uppercase values: 0 (0.0%)\n",
      "Title case values: 0 (0.0%)\n",
      "Sample values:\n"
     ]
    },
    {
     "data": {
      "text/plain": [
       "Award amount\n",
       "£15,000    2090\n",
       "£14,950     215\n",
       "£14,500     215\n",
       "£14,900     155\n",
       "£14,995     150\n",
       "£10,000     130\n",
       "£14,999     120\n",
       "£14,000     110\n",
       "£14,800     100\n",
       "£14,990      95\n",
       "Name: count, dtype: int64"
      ]
     },
     "metadata": {},
     "output_type": "display_data"
    },
    {
     "name": "stdout",
     "output_type": "stream",
     "text": [
      "\n",
      "Column: Award date\n",
      "Total non-null values: 14690\n",
      "Lowercase values: 0 (0.0%)\n",
      "Uppercase values: 0 (0.0%)\n",
      "Title case values: 14690 (100.0%)\n",
      "Sample values:\n"
     ]
    },
    {
     "data": {
      "text/plain": [
       "Award date\n",
       "16-Dec-20    555\n",
       "21-Oct-20    510\n",
       "3-Mar-21     420\n",
       "9-Sep-20     415\n",
       "10-Feb-21    400\n",
       "14-Oct-20    340\n",
       "15-Oct-20    315\n",
       "26-Aug-20    310\n",
       "19-Aug-20    305\n",
       "28-Oct-20    295\n",
       "Name: count, dtype: int64"
      ]
     },
     "metadata": {},
     "output_type": "display_data"
    },
    {
     "name": "stdout",
     "output_type": "stream",
     "text": [
      "\n",
      "Column: Decision Month\n",
      "Total non-null values: 14690\n",
      "Lowercase values: 0 (0.0%)\n",
      "Uppercase values: 0 (0.0%)\n",
      "Title case values: 14690 (100.0%)\n",
      "Sample values:\n"
     ]
    },
    {
     "data": {
      "text/plain": [
       "Decision Month\n",
       "October      2745\n",
       "September    2040\n",
       "March        1930\n",
       "December     1885\n",
       "January      1835\n",
       "November     1595\n",
       "August       1350\n",
       "February     1305\n",
       "April           5\n",
       "Name: count, dtype: int64"
      ]
     },
     "metadata": {},
     "output_type": "display_data"
    },
    {
     "name": "stdout",
     "output_type": "stream",
     "text": [
      "\n",
      "Column: Decision quarter\n",
      "Total non-null values: 14690\n",
      "Lowercase values: 0 (0.0%)\n",
      "Uppercase values: 14690 (100.0%)\n",
      "Title case values: 14690 (100.0%)\n",
      "Sample values:\n"
     ]
    },
    {
     "data": {
      "text/plain": [
       "Decision quarter\n",
       "Q3    6225\n",
       "Q4    5070\n",
       "Q2    3390\n",
       "Q1       5\n",
       "Name: count, dtype: int64"
      ]
     },
     "metadata": {},
     "output_type": "display_data"
    },
    {
     "name": "stdout",
     "output_type": "stream",
     "text": [
      "\n",
      "Column: ACE Area\n",
      "Total non-null values: 14690\n",
      "Lowercase values: 0 (0.0%)\n",
      "Uppercase values: 0 (0.0%)\n",
      "Title case values: 14690 (100.0%)\n",
      "Sample values:\n"
     ]
    },
    {
     "data": {
      "text/plain": [
       "ACE Area\n",
       "London        4145\n",
       "North         3490\n",
       "South East    3180\n",
       "Midlands      2035\n",
       "South West    1840\n",
       "Name: count, dtype: int64"
      ]
     },
     "metadata": {},
     "output_type": "display_data"
    },
    {
     "name": "stdout",
     "output_type": "stream",
     "text": [
      "\n",
      "Column: Local authority\n",
      "Total non-null values: 14690\n",
      "Lowercase values: 0 (0.0%)\n",
      "Uppercase values: 0 (0.0%)\n",
      "Title case values: 12475 (84.9%)\n",
      "Sample values:\n"
     ]
    },
    {
     "data": {
      "text/plain": [
       "Local authority\n",
       "Hackney              500\n",
       "Brighton and Hove    475\n",
       "Bristol, City of     470\n",
       "Manchester           460\n",
       "Birmingham           415\n",
       "Southwark            355\n",
       "Lewisham             325\n",
       "Lambeth              325\n",
       "Leeds                290\n",
       "Liverpool            255\n",
       "Name: count, dtype: int64"
      ]
     },
     "metadata": {},
     "output_type": "display_data"
    },
    {
     "name": "stdout",
     "output_type": "stream",
     "text": [
      "\n",
      "Column: Main discipline\n",
      "Total non-null values: 14690\n",
      "Lowercase values: 0 (0.0%)\n",
      "Uppercase values: 0 (0.0%)\n",
      "Title case values: 9945 (67.7%)\n",
      "Sample values:\n"
     ]
    },
    {
     "data": {
      "text/plain": [
       "Main discipline\n",
       "Theatre                    4845\n",
       "Visual arts                2655\n",
       "Music                      2395\n",
       "Combined arts              1985\n",
       "Dance                      1330\n",
       "Literature                 1225\n",
       "Not discipline specific     105\n",
       "Museums                      95\n",
       "Libraries                    55\n",
       "Name: count, dtype: int64"
      ]
     },
     "metadata": {},
     "output_type": "display_data"
    },
    {
     "name": "stdout",
     "output_type": "stream",
     "text": [
      "\n",
      "Column: Strand\n",
      "Total non-null values: 14690\n",
      "Lowercase values: 12175 (82.9%)\n",
      "Uppercase values: 0 (0.0%)\n",
      "Title case values: 2105 (14.3%)\n",
      "Sample values:\n"
     ]
    },
    {
     "data": {
      "text/plain": [
       "Strand\n",
       "£15,000 and below                       12175\n",
       "Above £15,000                            1710\n",
       "Grassroots Music                          395\n",
       "National activity £100,000 and below      340\n",
       "National activity above £100,000           70\n",
       "Name: count, dtype: int64"
      ]
     },
     "metadata": {},
     "output_type": "display_data"
    }
   ],
   "source": [
    "# Function to detect inconsistent text values\n",
    "def check_text_inconsistencies(df, sample_size=10):\n",
    "    text_cols = df.select_dtypes(include=['object']).columns\n",
    "    \n",
    "    for col in text_cols:\n",
    "        # Check for mixed case\n",
    "        values = df[col].dropna().astype(str)\n",
    "        if len(values) > 0:\n",
    "            lower_values = sum(values.str.islower())\n",
    "            upper_values = sum(values.str.isupper())\n",
    "            title_values = sum(values.str.istitle())\n",
    "            \n",
    "            print(f\"\\nColumn: {col}\")\n",
    "            print(f\"Total non-null values: {len(values)}\")\n",
    "            print(f\"Lowercase values: {lower_values} ({lower_values/len(values)*100:.1f}%)\")\n",
    "            print(f\"Uppercase values: {upper_values} ({upper_values/len(values)*100:.1f}%)\")\n",
    "            print(f\"Title case values: {title_values} ({title_values/len(values)*100:.1f}%)\")\n",
    "            \n",
    "            # Show value counts\n",
    "            value_counts = df[col].value_counts().head(sample_size)\n",
    "            if len(value_counts) > 1:\n",
    "                print(\"Sample values:\")\n",
    "                display(value_counts)\n",
    "\n",
    "check_text_inconsistencies(df)"
   ]
  },
  {
   "cell_type": "markdown",
   "id": "b78666c1",
   "metadata": {},
   "source": [
    "## 4. Cleaning and Transforming Data\n"
   ]
  },
  {
   "cell_type": "markdown",
   "id": "1d50d67b",
   "metadata": {},
   "source": [
    "### Handling Missing Values\n"
   ]
  },
  {
   "cell_type": "code",
   "execution_count": 59,
   "id": "c1bbf881",
   "metadata": {},
   "outputs": [
    {
     "name": "stdout",
     "output_type": "stream",
     "text": [
      "Dropping column Time-Limited Priority with 100.0% missing values\n"
     ]
    }
   ],
   "source": [
    "# Function to handle missing values\n",
    "def handle_missing_values(df):\n",
    "    # Create a copy to avoid modifying the original DataFrame\n",
    "    cleaned_df = df.copy()\n",
    "    \n",
    "    for col in df.columns:\n",
    "        missing_pct = df[col].isnull().mean()\n",
    "        \n",
    "        # If more than 80% missing, consider dropping the column\n",
    "        if missing_pct > 0.8:\n",
    "            print(f\"Dropping column {col} with {missing_pct*100:.1f}% missing values\")\n",
    "            cleaned_df = cleaned_df.drop(columns=[col])\n",
    "        \n",
    "        # For categorical columns, fill with mode\n",
    "        \"\"\"elif df[col].dtype == 'object':\n",
    "            mode_val = df[col].mode()[0] if not df[col].mode().empty else \"Unknown\"\n",
    "            cleaned_df[col] = cleaned_df[col].fillna(mode_val)\n",
    "            print(f\"Filled column {col} with mode: {mode_val}\")\"\"\"\n",
    "        \n",
    "        # For numeric columns, fill with median\n",
    "        \"\"\"elif pd.api.types.is_numeric_dtype(df[col]):\n",
    "        median_val = df[col].median()\n",
    "        cleaned_df[col] = cleaned_df[col].fillna(median_val)\n",
    "        print(f\"Filled column {col} with median: {median_val}\")\"\"\"\n",
    "    \n",
    "    return cleaned_df\n",
    "\n",
    "# Apply missing value handling\n",
    "cleaned_df = handle_missing_values(df)"
   ]
  },
  {
   "cell_type": "markdown",
   "id": "f1175585",
   "metadata": {},
   "source": [
    "### Removing Duplicates\n"
   ]
  },
  {
   "cell_type": "code",
   "execution_count": 60,
   "id": "179cfd92",
   "metadata": {},
   "outputs": [
    {
     "name": "stdout",
     "output_type": "stream",
     "text": [
      "Removed 11752 duplicate rows\n"
     ]
    }
   ],
   "source": [
    "# Remove duplicate rows\n",
    "original_rows = len(cleaned_df)\n",
    "cleaned_df = cleaned_df.drop_duplicates()\n",
    "removed_rows = original_rows - len(cleaned_df)\n",
    "print(f\"Removed {removed_rows} duplicate rows\")"
   ]
  },
  {
   "cell_type": "markdown",
   "id": "5f3f6aa8",
   "metadata": {},
   "source": [
    "### Fixing Data Types\n"
   ]
  },
  {
   "cell_type": "code",
   "execution_count": 61,
   "id": "af63a092",
   "metadata": {},
   "outputs": [
    {
     "name": "stdout",
     "output_type": "stream",
     "text": [
      "Creating new recipient_id column\n",
      "Data types fixed according to arts_awards schema\n"
     ]
    },
    {
     "data": {
      "text/plain": [
       "recipient_id        object\n",
       "Recipient           object\n",
       "Activity name       object\n",
       "Award amount        object\n",
       "Award date          object\n",
       "Decision Month      object\n",
       "Decision quarter    object\n",
       "ACE Area            object\n",
       "Local authority     object\n",
       "Main discipline     object\n",
       "Strand              object\n",
       "dtype: object"
      ]
     },
     "metadata": {},
     "output_type": "display_data"
    }
   ],
   "source": [
    "# Function to convert columns to appropriate data types based on arts_awards schema\n",
    "def fix_data_types(df):\n",
    "    df_fixed = df.copy()\n",
    "    \n",
    "    # Create a new column for recipient_id or handle existing one\n",
    "    if 'recipient_id' not in df.columns:\n",
    "        print(\"Creating new recipient_id column\")\n",
    "        # Add recipient_id as the first column\n",
    "        df_fixed.insert(0, 'recipient_id', None)\n",
    "    else:\n",
    "        # Clean and convert existing recipient_id values\n",
    "        df_fixed['recipient_id'] = df_fixed['recipient_id'].astype(str).replace('nan', None)\n",
    "        # Convert to numeric\n",
    "        df_fixed['recipient_id'] = pd.to_numeric(df_fixed['recipient_id'], errors='coerce')\n",
    "        # Flag rows where conversion failed\n",
    "        invalid_ids = df_fixed['recipient_id'].isnull() & df['recipient_id'].notnull()\n",
    "        if invalid_ids.any():\n",
    "            print(f\"Warning: {invalid_ids.sum()} invalid recipient_id values\")\n",
    "            print(\"Sample invalid values:\")\n",
    "            display(df.loc[invalid_ids, 'recipient_id'].head())\n",
    "\n",
    "    # Ensure recipient_id is the first column (if it's not already)\n",
    "    if 'recipient_id' in df_fixed.columns and df_fixed.columns[0] != 'recipient_id':\n",
    "        # Get all columns except recipient_id\n",
    "        other_cols = [col for col in df_fixed.columns if col != 'recipient_id']\n",
    "        # Reorder columns with recipient_id first\n",
    "        df_fixed = df_fixed[['recipient_id'] + other_cols]\n",
    "        print(\"Moved recipient_id to be the first column\")\n",
    "\n",
    "    # Check if recipient_id values respect SMALLINT UNSIGNED constraints\n",
    "    if 'recipient_id' in df_fixed.columns and not df_fixed['recipient_id'].isnull().all():\n",
    "        # Check for negative values\n",
    "        negative_ids = (df_fixed['recipient_id'] < 0) & df_fixed['recipient_id'].notnull()\n",
    "        if negative_ids.any():\n",
    "            print(f\"Warning: {negative_ids.sum()} recipient_id values are negative (should be UNSIGNED)\")\n",
    "            print(\"Setting negative values to NULL\")\n",
    "            df_fixed.loc[negative_ids, 'recipient_id'] = None\n",
    "        \n",
    "        # Check for values exceeding SMALLINT range (max 65535)\n",
    "        large_ids = (df_fixed['recipient_id'] > 65535) & df_fixed['recipient_id'].notnull()\n",
    "        if large_ids.any():\n",
    "            print(f\"Warning: {large_ids.sum()} recipient_id values exceed SMALLINT UNSIGNED limit (65535)\")\n",
    "            print(\"Setting oversized values to NULL\")\n",
    "            df_fixed.loc[large_ids, 'recipient_id'] = None\n",
    "        \n",
    "        # Check for non-integer values\n",
    "        fractional_ids = (df_fixed['recipient_id'] % 1 != 0) & df_fixed['recipient_id'].notnull()\n",
    "        if fractional_ids.any():\n",
    "            print(f\"Warning: {fractional_ids.sum()} recipient_id values have decimal parts (should be integer)\")\n",
    "            print(\"Converting to integers by truncating decimal parts\")\n",
    "            df_fixed.loc[fractional_ids, 'recipient_id'] = df_fixed.loc[fractional_ids, 'recipient_id'].apply(int)\n",
    "\n",
    "    # Ensure award_amount is decimal/numeric\n",
    "    if 'award_amount' in df.columns:\n",
    "        df_fixed['award_amount'] = pd.to_numeric(df['award_amount'], errors='coerce')\n",
    "    \n",
    "    # Convert award_date to datetime\n",
    "    # Date format is assumed to be DD-MM-YYYY\n",
    "    # If the date format is different, adjust the format string accordingly\n",
    "    if 'award_date' in df.columns:\n",
    "        df_fixed['award_date'] = pd.to_datetime(df['award_date'], errors='coerce')\n",
    "        # Flag rows where conversion failed\n",
    "        invalid_dates = df_fixed['award_date'].isnull() & df['award_date'].notnull()\n",
    "        if invalid_dates.any():\n",
    "            print(f\"Warning: {invalid_dates.sum()} invalid date values in award_date\")\n",
    "            print(\"Sample invalid values:\")\n",
    "            display(df.loc[invalid_dates, 'award_date'].head())\n",
    "    \n",
    "    # Convert decision_month and decision_quarter to proper strings\n",
    "    for col in ['decision_month', 'decision_quarter']:\n",
    "        if col in df.columns:\n",
    "            df_fixed[col] = df_fixed[col].astype(str).replace('nan', None)\n",
    "    \n",
    "    # Convert text fields according to schema\n",
    "    text_fields = ['recipient', 'activity_name', 'ace_area', 'local_authority', 'main_discipline']\n",
    "    for col in text_fields:\n",
    "        if col in df.columns:\n",
    "            df_fixed[col] = df_fixed[col].astype(str).replace('nan', None)\n",
    "    \n",
    "    return df_fixed\n",
    "\n",
    "# Fix data types\n",
    "try:\n",
    "    cleaned_df = fix_data_types(cleaned_df)\n",
    "    print(\"Data types fixed according to arts_awards schema\")\n",
    "    display(cleaned_df.dtypes)\n",
    "except NameError as e:\n",
    "    print(f\"Error: {e}\")"
   ]
  },
  {
   "cell_type": "markdown",
   "id": "ee182931",
   "metadata": {},
   "source": [
    "### Standardizing Text Values\n"
   ]
  },
  {
   "cell_type": "code",
   "execution_count": 62,
   "id": "adc6a748",
   "metadata": {},
   "outputs": [
    {
     "name": "stdout",
     "output_type": "stream",
     "text": [
      "Text values standardized according to arts_awards schema\n"
     ]
    },
    {
     "data": {
      "application/vnd.microsoft.datawrangler.viewer.v0+json": {
       "columns": [
        {
         "name": "index",
         "rawType": "int64",
         "type": "integer"
        },
        {
         "name": "recipient_id",
         "rawType": "object",
         "type": "unknown"
        },
        {
         "name": "Recipient",
         "rawType": "object",
         "type": "string"
        },
        {
         "name": "Activity name",
         "rawType": "object",
         "type": "string"
        },
        {
         "name": "Award amount",
         "rawType": "object",
         "type": "string"
        },
        {
         "name": "Award date",
         "rawType": "object",
         "type": "string"
        },
        {
         "name": "Decision Month",
         "rawType": "object",
         "type": "string"
        },
        {
         "name": "Decision quarter",
         "rawType": "object",
         "type": "string"
        },
        {
         "name": "ACE Area",
         "rawType": "object",
         "type": "string"
        },
        {
         "name": "Local authority",
         "rawType": "object",
         "type": "string"
        },
        {
         "name": "Main discipline",
         "rawType": "object",
         "type": "string"
        },
        {
         "name": "Strand",
         "rawType": "object",
         "type": "string"
        }
       ],
       "conversionMethod": "pd.DataFrame",
       "ref": "464c34fc-33f7-498e-9c4e-a27cef3aa4c2",
       "rows": [
        [
         "0",
         null,
         "Santhoshkumar Thadavath Gopalakrishnan Nair",
         "Dancing Deities",
         "£13,250",
         "6-Apr-20",
         "April",
         "Q1",
         "North",
         "Bradford",
         "Dance",
         "£15,000 and below"
        ],
        [
         "1",
         null,
         "Sheba Soul Ensemble",
         "Questions and answers",
         "£15,000",
         "11-Aug-20",
         "August",
         "Q2",
         "South West",
         "Bristol, City of",
         "Theatre",
         "£15,000 and below"
        ],
        [
         "2",
         null,
         "Southampton Music Hub",
         "Digital Native Artists (DNA) Programme",
         "£15,000",
         "11-Aug-20",
         "August",
         "Q2",
         "South West",
         "Southampton",
         "Music",
         "£15,000 and below"
        ]
       ],
       "shape": {
        "columns": 11,
        "rows": 3
       }
      },
      "text/html": [
       "<div>\n",
       "<style scoped>\n",
       "    .dataframe tbody tr th:only-of-type {\n",
       "        vertical-align: middle;\n",
       "    }\n",
       "\n",
       "    .dataframe tbody tr th {\n",
       "        vertical-align: top;\n",
       "    }\n",
       "\n",
       "    .dataframe thead th {\n",
       "        text-align: right;\n",
       "    }\n",
       "</style>\n",
       "<table border=\"1\" class=\"dataframe\">\n",
       "  <thead>\n",
       "    <tr style=\"text-align: right;\">\n",
       "      <th></th>\n",
       "      <th>recipient_id</th>\n",
       "      <th>Recipient</th>\n",
       "      <th>Activity name</th>\n",
       "      <th>Award amount</th>\n",
       "      <th>Award date</th>\n",
       "      <th>Decision Month</th>\n",
       "      <th>Decision quarter</th>\n",
       "      <th>ACE Area</th>\n",
       "      <th>Local authority</th>\n",
       "      <th>Main discipline</th>\n",
       "      <th>Strand</th>\n",
       "    </tr>\n",
       "  </thead>\n",
       "  <tbody>\n",
       "    <tr>\n",
       "      <th>0</th>\n",
       "      <td>None</td>\n",
       "      <td>Santhoshkumar Thadavath Gopalakrishnan Nair</td>\n",
       "      <td>Dancing Deities</td>\n",
       "      <td>£13,250</td>\n",
       "      <td>6-Apr-20</td>\n",
       "      <td>April</td>\n",
       "      <td>Q1</td>\n",
       "      <td>North</td>\n",
       "      <td>Bradford</td>\n",
       "      <td>Dance</td>\n",
       "      <td>£15,000 and below</td>\n",
       "    </tr>\n",
       "    <tr>\n",
       "      <th>1</th>\n",
       "      <td>None</td>\n",
       "      <td>Sheba Soul Ensemble</td>\n",
       "      <td>Questions and answers</td>\n",
       "      <td>£15,000</td>\n",
       "      <td>11-Aug-20</td>\n",
       "      <td>August</td>\n",
       "      <td>Q2</td>\n",
       "      <td>South West</td>\n",
       "      <td>Bristol, City of</td>\n",
       "      <td>Theatre</td>\n",
       "      <td>£15,000 and below</td>\n",
       "    </tr>\n",
       "    <tr>\n",
       "      <th>2</th>\n",
       "      <td>None</td>\n",
       "      <td>Southampton Music Hub</td>\n",
       "      <td>Digital Native Artists (DNA) Programme</td>\n",
       "      <td>£15,000</td>\n",
       "      <td>11-Aug-20</td>\n",
       "      <td>August</td>\n",
       "      <td>Q2</td>\n",
       "      <td>South West</td>\n",
       "      <td>Southampton</td>\n",
       "      <td>Music</td>\n",
       "      <td>£15,000 and below</td>\n",
       "    </tr>\n",
       "  </tbody>\n",
       "</table>\n",
       "</div>"
      ],
      "text/plain": [
       "  recipient_id                                    Recipient                           Activity name Award amount Award date Decision Month Decision quarter    ACE Area   Local authority Main discipline             Strand\n",
       "0         None  Santhoshkumar Thadavath Gopalakrishnan Nair                         Dancing Deities      £13,250   6-Apr-20          April               Q1       North          Bradford           Dance  £15,000 and below\n",
       "1         None                          Sheba Soul Ensemble                   Questions and answers      £15,000  11-Aug-20         August               Q2  South West  Bristol, City of         Theatre  £15,000 and below\n",
       "2         None                        Southampton Music Hub  Digital Native Artists (DNA) Programme      £15,000  11-Aug-20         August               Q2  South West       Southampton           Music  £15,000 and below"
      ]
     },
     "metadata": {},
     "output_type": "display_data"
    }
   ],
   "source": [
    "# Function to standardize text values according to arts_awards schema\n",
    "def standardize_text(df):\n",
    "    df_std = df.copy()\n",
    "    \n",
    "    # Standardize recipient (NVARCHAR(50))\n",
    "    if 'recipient' in df.columns:\n",
    "        # Title case for organizations/people names\n",
    "        df_std['recipient'] = df_std['recipient'].str.title()\n",
    "        # Truncate if needed\n",
    "        if df_std['recipient'].str.len().max() > 150:\n",
    "            print(\"Warning: Some recipient names exceed 50 characters and will be truncated\")\n",
    "            df_std['recipient'] = df_std['recipient'].str.slice(0, 150)\n",
    "    \n",
    "    # Standardize activity_name (NVARCHAR(200))\n",
    "    if 'activity_name' in df.columns:\n",
    "        # Title case for activity names\n",
    "        df_std['activity_name'] = df_std['activity_name'].str.title()\n",
    "        # Truncate if needed\n",
    "        if df_std['activity_name'].str.len().max() > 300:\n",
    "            print(\"Warning: Some activity names exceed 200 characters and will be truncated\")\n",
    "            df_std['activity_name'] = df_std['activity_name'].str.slice(0, 300)\n",
    "    \n",
    "    # Standardize decision_month (VARCHAR(15))\n",
    "    if 'decision_month' in df.columns:\n",
    "        # Capitalize month names\n",
    "        df_std['decision_month'] = df_std['decision_month'].str.capitalize()\n",
    "        # Ensure valid month names\n",
    "        valid_months = ['January', 'February', 'March', 'April', 'May', 'June', \n",
    "                        'July', 'August', 'September', 'October', 'November', 'December']\n",
    "        invalid_months = ~df_std['decision_month'].isin(valid_months) & (df_std['decision_month'].notna())\n",
    "        if invalid_months.any():\n",
    "            print(f\"Warning: {invalid_months.sum()} invalid month values in decision_month\")\n",
    "            print(\"Invalid months will be standardized or set to None\")\n",
    "            \n",
    "            # Attempt to standardize common variations\n",
    "            month_map = {\n",
    "                'jan': 'January', 'feb': 'February', 'mar': 'March', \n",
    "                'apr': 'April', 'may': 'May', 'jun': 'June',\n",
    "                'jul': 'July', 'aug': 'August', 'sep': 'September', 'sept': 'September',\n",
    "                'oct': 'October', 'nov': 'November', 'dec': 'December'\n",
    "            }\n",
    "            \n",
    "            for abbr, full in month_map.items():\n",
    "                mask = df_std['decision_month'].str.lower().str.startswith(abbr, na=False)\n",
    "                df_std.loc[mask, 'decision_month'] = full\n",
    "    \n",
    "    # Standardize decision_quarter (VARCHAR(2))\n",
    "    if 'decision_quarter' in df.columns:\n",
    "        # Standardize quarter format (Q1, Q2, Q3, Q4)\n",
    "        df_std['decision_quarter'] = df_std['decision_quarter'].str.upper()\n",
    "        \n",
    "        # Fix common variations\n",
    "        quarter_map = {'1': 'Q1', '2': 'Q2', '3': 'Q3', '4': 'Q4',\n",
    "                      'QTR1': 'Q1', 'QTR2': 'Q2', 'QTR3': 'Q3', 'QTR4': 'Q4'}\n",
    "        \n",
    "        for var, std in quarter_map.items():\n",
    "            mask = df_std['decision_quarter'].str.strip() == var\n",
    "            df_std.loc[mask, 'decision_quarter'] = std\n",
    "        \n",
    "        # Validate quarters\n",
    "        valid_quarters = ['Q1', 'Q2', 'Q3', 'Q4']\n",
    "        invalid_quarters = ~df_std['decision_quarter'].isin(valid_quarters) & (df_std['decision_quarter'].notna())\n",
    "        \n",
    "        if invalid_quarters.any():\n",
    "            print(f\"Warning: {invalid_quarters.sum()} invalid quarter values in decision_quarter\")\n",
    "            print(\"Sample invalid values:\")\n",
    "            display(df.loc[invalid_quarters, 'decision_quarter'].head())\n",
    "    \n",
    "    # Standardize ace_area and local_authority (NVARCHAR(50))\n",
    "    for col in ['ace_area', 'local_authority']:\n",
    "        if col in df.columns:\n",
    "            # Title case for geographical names\n",
    "            df_std[col] = df_std[col].str.title()\n",
    "            # Truncate if needed\n",
    "            if df_std[col].str.len().max() > 100:\n",
    "                print(f\"Warning: Some {col} values exceed 50 characters and will be truncated\")\n",
    "                df_std[col] = df_std[col].str.slice(0, 100)\n",
    "    \n",
    "    # Standardize main_discipline (VARCHAR(20))\n",
    "    if 'main_discipline' in df.columns:\n",
    "        # Title case for discipline names\n",
    "        df_std['main_discipline'] = df_std['main_discipline'].str.title()\n",
    "        # Truncate if needed\n",
    "        if df_std['main_discipline'].str.len().max() > 50:\n",
    "            print(f\"Warning: Some main_discipline values exceed 20 characters and will be truncated\")\n",
    "            df_std['main_discipline'] = df_std['main_discipline'].str.slice(0, 50)\n",
    "        \n",
    "        # You might want to standardize common disciplines here\n",
    "        # Example:\n",
    "        discipline_map = {\n",
    "            'Vis Art': 'Visual Arts',\n",
    "            'Visual': 'Visual Arts',\n",
    "            'Music': 'Music',\n",
    "            'Theatre': 'Theatre',\n",
    "            'Theater': 'Theatre',\n",
    "            'Dance': 'Dance',\n",
    "            'Lit': 'Literature',\n",
    "            'Literature': 'Literature'\n",
    "            # Add more mappings as needed\n",
    "        }\n",
    "        \n",
    "        for old, new in discipline_map.items():\n",
    "            mask = df_std['main_discipline'].str.contains(old, case=False, na=False)\n",
    "            if mask.any() and new[:50] != old[:20]:  # Only replace if different\n",
    "                print(f\"Standardized '{old}' to '{new}' in main_discipline\")\n",
    "                df_std.loc[mask, 'main_discipline'] = new[:20]  # Apply with truncation\n",
    "    \n",
    "    return df_std\n",
    "\n",
    "# Standardize text values\n",
    "cleaned_df = standardize_text(cleaned_df)\n",
    "print(\"Text values standardized according to arts_awards schema\")\n",
    "display(cleaned_df.head(3))\n"
   ]
  },
  {
   "cell_type": "markdown",
   "id": "c3722ca5",
   "metadata": {},
   "source": [
    "### Handling Outliers\n"
   ]
  },
  {
   "cell_type": "code",
   "execution_count": 63,
   "id": "f4baaf28",
   "metadata": {
    "vscode": {
     "languageId": "ruby"
    }
   },
   "outputs": [
    {
     "data": {
      "application/vnd.microsoft.datawrangler.viewer.v0+json": {
       "columns": [
        {
         "name": "index",
         "rawType": "object",
         "type": "string"
        },
        {
         "name": "recipient_id",
         "rawType": "object",
         "type": "unknown"
        },
        {
         "name": "Recipient",
         "rawType": "object",
         "type": "unknown"
        },
        {
         "name": "Activity name",
         "rawType": "object",
         "type": "unknown"
        },
        {
         "name": "Award amount",
         "rawType": "object",
         "type": "unknown"
        },
        {
         "name": "Award date",
         "rawType": "object",
         "type": "unknown"
        },
        {
         "name": "Decision Month",
         "rawType": "object",
         "type": "unknown"
        },
        {
         "name": "Decision quarter",
         "rawType": "object",
         "type": "unknown"
        },
        {
         "name": "ACE Area",
         "rawType": "object",
         "type": "unknown"
        },
        {
         "name": "Local authority",
         "rawType": "object",
         "type": "unknown"
        },
        {
         "name": "Main discipline",
         "rawType": "object",
         "type": "unknown"
        },
        {
         "name": "Strand",
         "rawType": "object",
         "type": "unknown"
        }
       ],
       "conversionMethod": "pd.DataFrame",
       "ref": "a5e38843-2db3-4620-8077-f1f501202059",
       "rows": [
        [
         "count",
         "0",
         "2938",
         "2938",
         "2938",
         "2938",
         "2938",
         "2938",
         "2938",
         "2938",
         "2938",
         "2938"
        ],
        [
         "unique",
         "0",
         "2816",
         "2934",
         "1712",
         "104",
         "9",
         "4",
         "5",
         "303",
         "9",
         "5"
        ],
        [
         "top",
         null,
         "Botis Seva",
         "RAT",
         "£15,000",
         "16-Dec-20",
         "October",
         "Q3",
         "London",
         "Hackney",
         "Theatre",
         "£15,000 and below"
        ],
        [
         "freq",
         null,
         "3",
         "2",
         "418",
         "111",
         "549",
         "1245",
         "829",
         "100",
         "969",
         "2435"
        ]
       ],
       "shape": {
        "columns": 11,
        "rows": 4
       }
      },
      "text/html": [
       "<div>\n",
       "<style scoped>\n",
       "    .dataframe tbody tr th:only-of-type {\n",
       "        vertical-align: middle;\n",
       "    }\n",
       "\n",
       "    .dataframe tbody tr th {\n",
       "        vertical-align: top;\n",
       "    }\n",
       "\n",
       "    .dataframe thead th {\n",
       "        text-align: right;\n",
       "    }\n",
       "</style>\n",
       "<table border=\"1\" class=\"dataframe\">\n",
       "  <thead>\n",
       "    <tr style=\"text-align: right;\">\n",
       "      <th></th>\n",
       "      <th>recipient_id</th>\n",
       "      <th>Recipient</th>\n",
       "      <th>Activity name</th>\n",
       "      <th>Award amount</th>\n",
       "      <th>Award date</th>\n",
       "      <th>Decision Month</th>\n",
       "      <th>Decision quarter</th>\n",
       "      <th>ACE Area</th>\n",
       "      <th>Local authority</th>\n",
       "      <th>Main discipline</th>\n",
       "      <th>Strand</th>\n",
       "    </tr>\n",
       "  </thead>\n",
       "  <tbody>\n",
       "    <tr>\n",
       "      <th>count</th>\n",
       "      <td>0</td>\n",
       "      <td>2938</td>\n",
       "      <td>2938</td>\n",
       "      <td>2938</td>\n",
       "      <td>2938</td>\n",
       "      <td>2938</td>\n",
       "      <td>2938</td>\n",
       "      <td>2938</td>\n",
       "      <td>2938</td>\n",
       "      <td>2938</td>\n",
       "      <td>2938</td>\n",
       "    </tr>\n",
       "    <tr>\n",
       "      <th>unique</th>\n",
       "      <td>0</td>\n",
       "      <td>2816</td>\n",
       "      <td>2934</td>\n",
       "      <td>1712</td>\n",
       "      <td>104</td>\n",
       "      <td>9</td>\n",
       "      <td>4</td>\n",
       "      <td>5</td>\n",
       "      <td>303</td>\n",
       "      <td>9</td>\n",
       "      <td>5</td>\n",
       "    </tr>\n",
       "    <tr>\n",
       "      <th>top</th>\n",
       "      <td>NaN</td>\n",
       "      <td>Botis Seva</td>\n",
       "      <td>RAT</td>\n",
       "      <td>£15,000</td>\n",
       "      <td>16-Dec-20</td>\n",
       "      <td>October</td>\n",
       "      <td>Q3</td>\n",
       "      <td>London</td>\n",
       "      <td>Hackney</td>\n",
       "      <td>Theatre</td>\n",
       "      <td>£15,000 and below</td>\n",
       "    </tr>\n",
       "    <tr>\n",
       "      <th>freq</th>\n",
       "      <td>NaN</td>\n",
       "      <td>3</td>\n",
       "      <td>2</td>\n",
       "      <td>418</td>\n",
       "      <td>111</td>\n",
       "      <td>549</td>\n",
       "      <td>1245</td>\n",
       "      <td>829</td>\n",
       "      <td>100</td>\n",
       "      <td>969</td>\n",
       "      <td>2435</td>\n",
       "    </tr>\n",
       "  </tbody>\n",
       "</table>\n",
       "</div>"
      ],
      "text/plain": [
       "       recipient_id   Recipient Activity name Award amount Award date Decision Month Decision quarter ACE Area Local authority Main discipline             Strand\n",
       "count             0        2938          2938         2938       2938           2938             2938     2938            2938            2938               2938\n",
       "unique            0        2816          2934         1712        104              9                4        5             303               9                  5\n",
       "top             NaN  Botis Seva           RAT      £15,000  16-Dec-20        October               Q3   London         Hackney         Theatre  £15,000 and below\n",
       "freq            NaN           3             2          418        111            549             1245      829             100             969               2435"
      ]
     },
     "metadata": {},
     "output_type": "display_data"
    }
   ],
   "source": [
    "# Function to handle outliers using IQR method\n",
    "def handle_outliers(df, cols=None):\n",
    "    if cols is None:\n",
    "        cols = df.select_dtypes(include=['number']).columns\n",
    "    \n",
    "    df_clean = df.copy()\n",
    "    \n",
    "    for col in cols:\n",
    "        # Calculate IQR\n",
    "        Q1 = df[col].quantile(0.25)\n",
    "        Q3 = df[col].quantile(0.75)\n",
    "        IQR = Q3 - Q1\n",
    "        \n",
    "        # Define bounds\n",
    "        lower_bound = Q1 - 1.5 * IQR\n",
    "        upper_bound = Q3 + 1.5 * IQR\n",
    "        \n",
    "        # Count outliers\n",
    "        outliers = ((df[col] < lower_bound) | (df[col] > upper_bound)).sum()\n",
    "        \n",
    "        if outliers > 0:\n",
    "            print(f\"Column {col}: Found {outliers} outliers\")\n",
    "            \n",
    "            # Cap outliers instead of removing them\n",
    "            df_clean[col] = df_clean[col].clip(lower=lower_bound, upper=upper_bound)\n",
    "            print(f\"Capped outliers in {col} to range [{lower_bound:.2f}, {upper_bound:.2f}]\")\n",
    "    \n",
    "    return df_clean\n",
    "\n",
    "# Handle outliers in numeric columns\n",
    "numeric_cols = cleaned_df.select_dtypes(include=['number']).columns\n",
    "cleaned_df = handle_outliers(cleaned_df, numeric_cols)\n",
    "display(cleaned_df.describe())"
   ]
  },
  {
   "cell_type": "markdown",
   "id": "39dfaf3e",
   "metadata": {},
   "source": [
    "### Renaming Columns for SQL Compatibility\n"
   ]
  },
  {
   "cell_type": "code",
   "execution_count": 64,
   "id": "2d154f47",
   "metadata": {},
   "outputs": [
    {
     "name": "stdout",
     "output_type": "stream",
     "text": [
      "Renaming columns to match arts_awards schema:\n",
      "  Recipient -> recipient\n",
      "  Activity name -> activity_name\n",
      "  Award amount -> award_amount\n",
      "  Award date -> award_date\n",
      "  Decision Month -> decision_month\n",
      "  Decision quarter -> decision_quarter\n",
      "  ACE Area -> ace_area\n",
      "  Local authority -> local_authority\n",
      "  Main discipline -> main_discipline\n",
      "\n",
      "Info: The following columns are not in the arts_awards schema: ['Strand']\n",
      "These columns will be included in the output but won't be imported to the schema\n"
     ]
    }
   ],
   "source": [
    "# Function to rename columns according to arts_awards schema\n",
    "def rename_columns_for_schema(df):\n",
    "    # Define the expected column names for arts_awards schema\n",
    "    schema_columns = [\n",
    "        'recipient_id', 'recipient', 'activity_name', 'award_amount',\n",
    "        'award_date', 'decision_month', 'decision_quarter', 'ace_area',\n",
    "        'local_authority', 'main_discipline'\n",
    "    ]\n",
    "    \n",
    "    # Create a mapping of current columns to schema columns\n",
    "    current_cols = df.columns\n",
    "    rename_dict = {}\n",
    "    \n",
    "    # Try to match existing columns to schema columns based on similarity\n",
    "    for schema_col in schema_columns:\n",
    "        # Check for direct match first\n",
    "        if schema_col in current_cols:\n",
    "            continue\n",
    "            \n",
    "        # Check for case-insensitive match\n",
    "        matches = [col for col in current_cols if col.lower() == schema_col.lower()]\n",
    "        if matches:\n",
    "            rename_dict[matches[0]] = schema_col\n",
    "            continue\n",
    "            \n",
    "        # Check for similar names (handles spaces, underscores, etc.)\n",
    "        schema_col_clean = schema_col.lower().replace('_', '')\n",
    "        for col in current_cols:\n",
    "            col_clean = col.lower().replace('_', '').replace(' ', '')\n",
    "            \n",
    "            # Match on various patterns\n",
    "            if (schema_col_clean in col_clean or \n",
    "                col_clean in schema_col_clean or\n",
    "                (schema_col_clean[:5] == col_clean[:5] and len(col_clean) > 4)):\n",
    "                \n",
    "                # Check if this column is already mapped\n",
    "                if col not in rename_dict:\n",
    "                    rename_dict[col] = schema_col\n",
    "                    break\n",
    "    \n",
    "    # Apply the renaming\n",
    "    if rename_dict:\n",
    "        print(\"Renaming columns to match arts_awards schema:\")\n",
    "        for old, new in rename_dict.items():\n",
    "            print(f\"  {old} -> {new}\")\n",
    "        \n",
    "        df_renamed = df.rename(columns=rename_dict)\n",
    "    else:\n",
    "        df_renamed = df.copy()\n",
    "        print(\"No columns needed renaming\")\n",
    "    \n",
    "    # Check for missing schema columns\n",
    "    missing_cols = [col for col in schema_columns if col not in df_renamed.columns]\n",
    "    if missing_cols:\n",
    "        print(f\"\\nWarning: The following schema columns are missing: {missing_cols}\")\n",
    "        \n",
    "        # Add missing columns with appropriate null values\n",
    "        for col in missing_cols:\n",
    "            if col == 'recipient_id':\n",
    "                # Auto-increment field can be left for MySQL to handle\n",
    "                continue\n",
    "            elif col == 'award_date':\n",
    "                # Required DATE field - add as NaT for now, but will need attention\n",
    "                df_renamed[col] = pd.NaT\n",
    "                print(f\"Added missing required column '{col}' with NaT values - needs attention!\")\n",
    "            elif col in ['recipient', 'activity_name']:\n",
    "                # Required NVARCHAR fields\n",
    "                df_renamed[col] = None\n",
    "                print(f\"Added missing required column '{col}' with NULL values - needs attention!\")\n",
    "            else:\n",
    "                # Optional fields\n",
    "                df_renamed[col] = None\n",
    "                print(f\"Added missing optional column '{col}' with NULL values\")\n",
    "    \n",
    "    # Check for extra columns not in the schema\n",
    "    extra_cols = [col for col in df_renamed.columns if col not in schema_columns]\n",
    "    if extra_cols:\n",
    "        print(f\"\\nInfo: The following columns are not in the arts_awards schema: {extra_cols}\")\n",
    "        print(\"These columns will be included in the output but won't be imported to the schema\")\n",
    "    \n",
    "    return df_renamed\n",
    "\n",
    "# Rename columns to match schema\n",
    "cleaned_df = rename_columns_for_schema(cleaned_df)"
   ]
  },
  {
   "cell_type": "markdown",
   "id": "03ee90bf",
   "metadata": {},
   "source": [
    "## Final Validation and Export"
   ]
  },
  {
   "cell_type": "code",
   "execution_count": 70,
   "id": "75b36ade",
   "metadata": {},
   "outputs": [
    {
     "name": "stdout",
     "output_type": "stream",
     "text": [
      "\n",
      "Cleaned data exported to cleaned_arts_awards.csv\n"
     ]
    }
   ],
   "source": [
    "#  export the cleaned dataframe\n",
    "output_path = 'cleaned_arts_awards.csv'\n",
    "try:\n",
    "    cleaned_df.to_csv(output_path, index=False, date_format='%Y-%m-%d')\n",
    "    print(f\"\\nCleaned data exported to {output_path}\")\n",
    "except Exception as e:\n",
    "    print(f\"\\nError exporting cleaned data to CSV: {e}\")\n",
    "# Optional: Uncomment to visualize the cleaned dataframe\n",
    "#display(cleaned_df.head(10))\n",
    "\n",
    "\n",
    "\n",
    "    # Export the cleaned dataframe\n",
    "    #output_path = 'cleaned_arts_awards.csv'\n",
    "    #try:\n",
    "        #cleaned_df.to_csv(output_path, index=False, date_format='%Y-%m-%d')\n",
    "        #print(f\"\\nCleaned data exported to {output_path}\")\n",
    "    #except Exception as e:\n",
    "        #print(f\"\\nError exporting cleaned data to CSV: {e}\")\n"
   ]
  },
  {
   "cell_type": "markdown",
   "id": "60511252",
   "metadata": {},
   "source": []
  }
 ],
 "metadata": {
  "kernelspec": {
   "display_name": "Python 3",
   "language": "python",
   "name": "python3"
  },
  "language_info": {
   "codemirror_mode": {
    "name": "ipython",
    "version": 3
   },
   "file_extension": ".py",
   "mimetype": "text/x-python",
   "name": "python",
   "nbconvert_exporter": "python",
   "pygments_lexer": "ipython3",
   "version": "3.13.2"
  }
 },
 "nbformat": 4,
 "nbformat_minor": 5
}
